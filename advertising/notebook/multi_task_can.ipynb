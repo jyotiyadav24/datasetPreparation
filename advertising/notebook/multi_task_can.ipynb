{
  "cells": [
    {
      "cell_type": "markdown",
      "source": [],
      "metadata": {
        "id": "x25muPUVyaGC"
      }
    },
    {
      "cell_type": "code",
      "source": [
        "!pip install pandas numpy matplotlib seaborn swifter missingno logzero nltk tensorflow transformers keras torch gensim"
      ],
      "metadata": {
        "colab": {
          "base_uri": "https://localhost:8080/"
        },
        "id": "i8OLoYaTeApc",
        "outputId": "acf67c9d-1107-42f9-80f6-a9f7ab7e1a96"
      },
      "execution_count": 1,
      "outputs": [
        {
          "output_type": "stream",
          "name": "stdout",
          "text": [
            "Requirement already satisfied: pandas in /usr/local/lib/python3.10/dist-packages (2.0.3)\n",
            "Requirement already satisfied: numpy in /usr/local/lib/python3.10/dist-packages (1.25.2)\n",
            "Requirement already satisfied: matplotlib in /usr/local/lib/python3.10/dist-packages (3.7.1)\n",
            "Requirement already satisfied: seaborn in /usr/local/lib/python3.10/dist-packages (0.13.1)\n",
            "Collecting swifter\n",
            "  Downloading swifter-1.4.0.tar.gz (1.2 MB)\n",
            "\u001b[2K     \u001b[90m━━━━━━━━━━━━━━━━━━━━━━━━━━━━━━━━━━━━━━━━\u001b[0m \u001b[32m1.2/1.2 MB\u001b[0m \u001b[31m12.1 MB/s\u001b[0m eta \u001b[36m0:00:00\u001b[0m\n",
            "\u001b[?25h  Preparing metadata (setup.py) ... \u001b[?25l\u001b[?25hdone\n",
            "Requirement already satisfied: missingno in /usr/local/lib/python3.10/dist-packages (0.5.2)\n",
            "Collecting logzero\n",
            "  Downloading logzero-1.7.0-py2.py3-none-any.whl (16 kB)\n",
            "Requirement already satisfied: nltk in /usr/local/lib/python3.10/dist-packages (3.8.1)\n",
            "Requirement already satisfied: tensorflow in /usr/local/lib/python3.10/dist-packages (2.15.0)\n",
            "Requirement already satisfied: transformers in /usr/local/lib/python3.10/dist-packages (4.38.2)\n",
            "Requirement already satisfied: keras in /usr/local/lib/python3.10/dist-packages (2.15.0)\n",
            "Requirement already satisfied: torch in /usr/local/lib/python3.10/dist-packages (2.2.1+cu121)\n",
            "Requirement already satisfied: gensim in /usr/local/lib/python3.10/dist-packages (4.3.2)\n",
            "Requirement already satisfied: python-dateutil>=2.8.2 in /usr/local/lib/python3.10/dist-packages (from pandas) (2.8.2)\n",
            "Requirement already satisfied: pytz>=2020.1 in /usr/local/lib/python3.10/dist-packages (from pandas) (2023.4)\n",
            "Requirement already satisfied: tzdata>=2022.1 in /usr/local/lib/python3.10/dist-packages (from pandas) (2024.1)\n",
            "Requirement already satisfied: contourpy>=1.0.1 in /usr/local/lib/python3.10/dist-packages (from matplotlib) (1.2.1)\n",
            "Requirement already satisfied: cycler>=0.10 in /usr/local/lib/python3.10/dist-packages (from matplotlib) (0.12.1)\n",
            "Requirement already satisfied: fonttools>=4.22.0 in /usr/local/lib/python3.10/dist-packages (from matplotlib) (4.50.0)\n",
            "Requirement already satisfied: kiwisolver>=1.0.1 in /usr/local/lib/python3.10/dist-packages (from matplotlib) (1.4.5)\n",
            "Requirement already satisfied: packaging>=20.0 in /usr/local/lib/python3.10/dist-packages (from matplotlib) (24.0)\n",
            "Requirement already satisfied: pillow>=6.2.0 in /usr/local/lib/python3.10/dist-packages (from matplotlib) (9.4.0)\n",
            "Requirement already satisfied: pyparsing>=2.3.1 in /usr/local/lib/python3.10/dist-packages (from matplotlib) (3.1.2)\n",
            "Requirement already satisfied: psutil>=5.6.6 in /usr/local/lib/python3.10/dist-packages (from swifter) (5.9.5)\n",
            "Requirement already satisfied: dask[dataframe]>=2.10.0 in /usr/local/lib/python3.10/dist-packages (from swifter) (2023.8.1)\n",
            "Requirement already satisfied: tqdm>=4.33.0 in /usr/local/lib/python3.10/dist-packages (from swifter) (4.66.2)\n",
            "Requirement already satisfied: scipy in /usr/local/lib/python3.10/dist-packages (from missingno) (1.11.4)\n",
            "Requirement already satisfied: click in /usr/local/lib/python3.10/dist-packages (from nltk) (8.1.7)\n",
            "Requirement already satisfied: joblib in /usr/local/lib/python3.10/dist-packages (from nltk) (1.3.2)\n",
            "Requirement already satisfied: regex>=2021.8.3 in /usr/local/lib/python3.10/dist-packages (from nltk) (2023.12.25)\n",
            "Requirement already satisfied: absl-py>=1.0.0 in /usr/local/lib/python3.10/dist-packages (from tensorflow) (1.4.0)\n",
            "Requirement already satisfied: astunparse>=1.6.0 in /usr/local/lib/python3.10/dist-packages (from tensorflow) (1.6.3)\n",
            "Requirement already satisfied: flatbuffers>=23.5.26 in /usr/local/lib/python3.10/dist-packages (from tensorflow) (24.3.25)\n",
            "Requirement already satisfied: gast!=0.5.0,!=0.5.1,!=0.5.2,>=0.2.1 in /usr/local/lib/python3.10/dist-packages (from tensorflow) (0.5.4)\n",
            "Requirement already satisfied: google-pasta>=0.1.1 in /usr/local/lib/python3.10/dist-packages (from tensorflow) (0.2.0)\n",
            "Requirement already satisfied: h5py>=2.9.0 in /usr/local/lib/python3.10/dist-packages (from tensorflow) (3.9.0)\n",
            "Requirement already satisfied: libclang>=13.0.0 in /usr/local/lib/python3.10/dist-packages (from tensorflow) (18.1.1)\n",
            "Requirement already satisfied: ml-dtypes~=0.2.0 in /usr/local/lib/python3.10/dist-packages (from tensorflow) (0.2.0)\n",
            "Requirement already satisfied: opt-einsum>=2.3.2 in /usr/local/lib/python3.10/dist-packages (from tensorflow) (3.3.0)\n",
            "Requirement already satisfied: protobuf!=4.21.0,!=4.21.1,!=4.21.2,!=4.21.3,!=4.21.4,!=4.21.5,<5.0.0dev,>=3.20.3 in /usr/local/lib/python3.10/dist-packages (from tensorflow) (3.20.3)\n",
            "Requirement already satisfied: setuptools in /usr/local/lib/python3.10/dist-packages (from tensorflow) (67.7.2)\n",
            "Requirement already satisfied: six>=1.12.0 in /usr/local/lib/python3.10/dist-packages (from tensorflow) (1.16.0)\n",
            "Requirement already satisfied: termcolor>=1.1.0 in /usr/local/lib/python3.10/dist-packages (from tensorflow) (2.4.0)\n",
            "Requirement already satisfied: typing-extensions>=3.6.6 in /usr/local/lib/python3.10/dist-packages (from tensorflow) (4.10.0)\n",
            "Requirement already satisfied: wrapt<1.15,>=1.11.0 in /usr/local/lib/python3.10/dist-packages (from tensorflow) (1.14.1)\n",
            "Requirement already satisfied: tensorflow-io-gcs-filesystem>=0.23.1 in /usr/local/lib/python3.10/dist-packages (from tensorflow) (0.36.0)\n",
            "Requirement already satisfied: grpcio<2.0,>=1.24.3 in /usr/local/lib/python3.10/dist-packages (from tensorflow) (1.62.1)\n",
            "Requirement already satisfied: tensorboard<2.16,>=2.15 in /usr/local/lib/python3.10/dist-packages (from tensorflow) (2.15.2)\n",
            "Requirement already satisfied: tensorflow-estimator<2.16,>=2.15.0 in /usr/local/lib/python3.10/dist-packages (from tensorflow) (2.15.0)\n",
            "Requirement already satisfied: filelock in /usr/local/lib/python3.10/dist-packages (from transformers) (3.13.3)\n",
            "Requirement already satisfied: huggingface-hub<1.0,>=0.19.3 in /usr/local/lib/python3.10/dist-packages (from transformers) (0.20.3)\n",
            "Requirement already satisfied: pyyaml>=5.1 in /usr/local/lib/python3.10/dist-packages (from transformers) (6.0.1)\n",
            "Requirement already satisfied: requests in /usr/local/lib/python3.10/dist-packages (from transformers) (2.31.0)\n",
            "Requirement already satisfied: tokenizers<0.19,>=0.14 in /usr/local/lib/python3.10/dist-packages (from transformers) (0.15.2)\n",
            "Requirement already satisfied: safetensors>=0.4.1 in /usr/local/lib/python3.10/dist-packages (from transformers) (0.4.2)\n",
            "Requirement already satisfied: sympy in /usr/local/lib/python3.10/dist-packages (from torch) (1.12)\n",
            "Requirement already satisfied: networkx in /usr/local/lib/python3.10/dist-packages (from torch) (3.2.1)\n",
            "Requirement already satisfied: jinja2 in /usr/local/lib/python3.10/dist-packages (from torch) (3.1.3)\n",
            "Requirement already satisfied: fsspec in /usr/local/lib/python3.10/dist-packages (from torch) (2023.6.0)\n",
            "Collecting nvidia-cuda-nvrtc-cu12==12.1.105 (from torch)\n",
            "  Using cached nvidia_cuda_nvrtc_cu12-12.1.105-py3-none-manylinux1_x86_64.whl (23.7 MB)\n",
            "Collecting nvidia-cuda-runtime-cu12==12.1.105 (from torch)\n",
            "  Using cached nvidia_cuda_runtime_cu12-12.1.105-py3-none-manylinux1_x86_64.whl (823 kB)\n",
            "Collecting nvidia-cuda-cupti-cu12==12.1.105 (from torch)\n",
            "  Using cached nvidia_cuda_cupti_cu12-12.1.105-py3-none-manylinux1_x86_64.whl (14.1 MB)\n",
            "Collecting nvidia-cudnn-cu12==8.9.2.26 (from torch)\n",
            "  Using cached nvidia_cudnn_cu12-8.9.2.26-py3-none-manylinux1_x86_64.whl (731.7 MB)\n",
            "Collecting nvidia-cublas-cu12==12.1.3.1 (from torch)\n",
            "  Using cached nvidia_cublas_cu12-12.1.3.1-py3-none-manylinux1_x86_64.whl (410.6 MB)\n",
            "Collecting nvidia-cufft-cu12==11.0.2.54 (from torch)\n",
            "  Using cached nvidia_cufft_cu12-11.0.2.54-py3-none-manylinux1_x86_64.whl (121.6 MB)\n",
            "Collecting nvidia-curand-cu12==10.3.2.106 (from torch)\n",
            "  Using cached nvidia_curand_cu12-10.3.2.106-py3-none-manylinux1_x86_64.whl (56.5 MB)\n",
            "Collecting nvidia-cusolver-cu12==11.4.5.107 (from torch)\n",
            "  Using cached nvidia_cusolver_cu12-11.4.5.107-py3-none-manylinux1_x86_64.whl (124.2 MB)\n",
            "Collecting nvidia-cusparse-cu12==12.1.0.106 (from torch)\n",
            "  Using cached nvidia_cusparse_cu12-12.1.0.106-py3-none-manylinux1_x86_64.whl (196.0 MB)\n",
            "Collecting nvidia-nccl-cu12==2.19.3 (from torch)\n",
            "  Using cached nvidia_nccl_cu12-2.19.3-py3-none-manylinux1_x86_64.whl (166.0 MB)\n",
            "Collecting nvidia-nvtx-cu12==12.1.105 (from torch)\n",
            "  Using cached nvidia_nvtx_cu12-12.1.105-py3-none-manylinux1_x86_64.whl (99 kB)\n",
            "Requirement already satisfied: triton==2.2.0 in /usr/local/lib/python3.10/dist-packages (from torch) (2.2.0)\n",
            "Collecting nvidia-nvjitlink-cu12 (from nvidia-cusolver-cu12==11.4.5.107->torch)\n",
            "  Using cached nvidia_nvjitlink_cu12-12.4.127-py3-none-manylinux2014_x86_64.whl (21.1 MB)\n",
            "Requirement already satisfied: smart-open>=1.8.1 in /usr/local/lib/python3.10/dist-packages (from gensim) (6.4.0)\n",
            "Requirement already satisfied: wheel<1.0,>=0.23.0 in /usr/local/lib/python3.10/dist-packages (from astunparse>=1.6.0->tensorflow) (0.43.0)\n",
            "Requirement already satisfied: cloudpickle>=1.5.0 in /usr/local/lib/python3.10/dist-packages (from dask[dataframe]>=2.10.0->swifter) (2.2.1)\n",
            "Requirement already satisfied: partd>=1.2.0 in /usr/local/lib/python3.10/dist-packages (from dask[dataframe]>=2.10.0->swifter) (1.4.1)\n",
            "Requirement already satisfied: toolz>=0.10.0 in /usr/local/lib/python3.10/dist-packages (from dask[dataframe]>=2.10.0->swifter) (0.12.1)\n",
            "Requirement already satisfied: importlib-metadata>=4.13.0 in /usr/local/lib/python3.10/dist-packages (from dask[dataframe]>=2.10.0->swifter) (7.1.0)\n",
            "Requirement already satisfied: google-auth<3,>=1.6.3 in /usr/local/lib/python3.10/dist-packages (from tensorboard<2.16,>=2.15->tensorflow) (2.27.0)\n",
            "Requirement already satisfied: google-auth-oauthlib<2,>=0.5 in /usr/local/lib/python3.10/dist-packages (from tensorboard<2.16,>=2.15->tensorflow) (1.2.0)\n",
            "Requirement already satisfied: markdown>=2.6.8 in /usr/local/lib/python3.10/dist-packages (from tensorboard<2.16,>=2.15->tensorflow) (3.6)\n",
            "Requirement already satisfied: tensorboard-data-server<0.8.0,>=0.7.0 in /usr/local/lib/python3.10/dist-packages (from tensorboard<2.16,>=2.15->tensorflow) (0.7.2)\n",
            "Requirement already satisfied: werkzeug>=1.0.1 in /usr/local/lib/python3.10/dist-packages (from tensorboard<2.16,>=2.15->tensorflow) (3.0.2)\n",
            "Requirement already satisfied: charset-normalizer<4,>=2 in /usr/local/lib/python3.10/dist-packages (from requests->transformers) (3.3.2)\n",
            "Requirement already satisfied: idna<4,>=2.5 in /usr/local/lib/python3.10/dist-packages (from requests->transformers) (3.6)\n",
            "Requirement already satisfied: urllib3<3,>=1.21.1 in /usr/local/lib/python3.10/dist-packages (from requests->transformers) (2.0.7)\n",
            "Requirement already satisfied: certifi>=2017.4.17 in /usr/local/lib/python3.10/dist-packages (from requests->transformers) (2024.2.2)\n",
            "Requirement already satisfied: MarkupSafe>=2.0 in /usr/local/lib/python3.10/dist-packages (from jinja2->torch) (2.1.5)\n",
            "Requirement already satisfied: mpmath>=0.19 in /usr/local/lib/python3.10/dist-packages (from sympy->torch) (1.3.0)\n",
            "Requirement already satisfied: cachetools<6.0,>=2.0.0 in /usr/local/lib/python3.10/dist-packages (from google-auth<3,>=1.6.3->tensorboard<2.16,>=2.15->tensorflow) (5.3.3)\n",
            "Requirement already satisfied: pyasn1-modules>=0.2.1 in /usr/local/lib/python3.10/dist-packages (from google-auth<3,>=1.6.3->tensorboard<2.16,>=2.15->tensorflow) (0.4.0)\n",
            "Requirement already satisfied: rsa<5,>=3.1.4 in /usr/local/lib/python3.10/dist-packages (from google-auth<3,>=1.6.3->tensorboard<2.16,>=2.15->tensorflow) (4.9)\n",
            "Requirement already satisfied: requests-oauthlib>=0.7.0 in /usr/local/lib/python3.10/dist-packages (from google-auth-oauthlib<2,>=0.5->tensorboard<2.16,>=2.15->tensorflow) (1.3.1)\n",
            "Requirement already satisfied: zipp>=0.5 in /usr/local/lib/python3.10/dist-packages (from importlib-metadata>=4.13.0->dask[dataframe]>=2.10.0->swifter) (3.18.1)\n",
            "Requirement already satisfied: locket in /usr/local/lib/python3.10/dist-packages (from partd>=1.2.0->dask[dataframe]>=2.10.0->swifter) (1.0.0)\n",
            "Requirement already satisfied: pyasn1<0.7.0,>=0.4.6 in /usr/local/lib/python3.10/dist-packages (from pyasn1-modules>=0.2.1->google-auth<3,>=1.6.3->tensorboard<2.16,>=2.15->tensorflow) (0.6.0)\n",
            "Requirement already satisfied: oauthlib>=3.0.0 in /usr/local/lib/python3.10/dist-packages (from requests-oauthlib>=0.7.0->google-auth-oauthlib<2,>=0.5->tensorboard<2.16,>=2.15->tensorflow) (3.2.2)\n",
            "Building wheels for collected packages: swifter\n",
            "  Building wheel for swifter (setup.py) ... \u001b[?25l\u001b[?25hdone\n",
            "  Created wheel for swifter: filename=swifter-1.4.0-py3-none-any.whl size=16507 sha256=2c69827a8ede69ac298caa5726e979ef86ac96edb59a81609da641473bbad47c\n",
            "  Stored in directory: /root/.cache/pip/wheels/e4/cf/51/0904952972ee2c7aa3709437065278dc534ec1b8d2ad41b443\n",
            "Successfully built swifter\n",
            "Installing collected packages: logzero, nvidia-nvtx-cu12, nvidia-nvjitlink-cu12, nvidia-nccl-cu12, nvidia-curand-cu12, nvidia-cufft-cu12, nvidia-cuda-runtime-cu12, nvidia-cuda-nvrtc-cu12, nvidia-cuda-cupti-cu12, nvidia-cublas-cu12, nvidia-cusparse-cu12, nvidia-cudnn-cu12, nvidia-cusolver-cu12, swifter\n",
            "Successfully installed logzero-1.7.0 nvidia-cublas-cu12-12.1.3.1 nvidia-cuda-cupti-cu12-12.1.105 nvidia-cuda-nvrtc-cu12-12.1.105 nvidia-cuda-runtime-cu12-12.1.105 nvidia-cudnn-cu12-8.9.2.26 nvidia-cufft-cu12-11.0.2.54 nvidia-curand-cu12-10.3.2.106 nvidia-cusolver-cu12-11.4.5.107 nvidia-cusparse-cu12-12.1.0.106 nvidia-nccl-cu12-2.19.3 nvidia-nvjitlink-cu12-12.4.127 nvidia-nvtx-cu12-12.1.105 swifter-1.4.0\n"
          ]
        }
      ]
    },
    {
      "cell_type": "code",
      "execution_count": 2,
      "metadata": {
        "colab": {
          "base_uri": "https://localhost:8080/",
          "height": 160
        },
        "id": "kZuXy6OJd0Mf",
        "outputId": "4c2fcbdb-6d89-448b-d014-223b7a98f3c1"
      },
      "outputs": [
        {
          "output_type": "execute_result",
          "data": {
            "text/plain": [
              "'\\n#from chainer import training\\n#from chainer.training import extensions\\nfrom gensim.models import KeyedVectors\\n#from models import ARCHS, MODEL_WRAPPERS\\nfrom util import const\\nfrom util.cross_validation import kfold_iter\\nfrom util.evaluate import EVALUATE_PHASES\\nfrom util.extensions import (\\n    setup_optim_trigger,\\n    setup_plot_report_loss_entries,\\n    setup_print_report_entries,\\n    setup_record_trigger,\\n)\\nfrom util.load import load_data\\nfrom util.notify import notify_exception, notify_result\\nfrom util.preprocessed_dataset import (\\n    PreprocessedDataset,\\n    convert_seq,\\n    prepare_vectorizer,\\n)\\nfrom util.resource import Resource\\nfrom util.seed import reset_seed\\nfrom collections import OrderedDict\\n\\nplt.style.use(\"ggplot\")\\nchainer.cuda.set_max_workspace_size(1024 * 1024 * 1024)\\nchainer.global_config.autotune = True\\n'"
            ],
            "application/vnd.google.colaboratory.intrinsic+json": {
              "type": "string"
            }
          },
          "metadata": {},
          "execution_count": 2
        }
      ],
      "source": [
        "import pandas as pd\n",
        "import numpy as np\n",
        "import matplotlib.pyplot as plt\n",
        "import seaborn as sns\n",
        "import re\n",
        "import ast\n",
        "import swifter\n",
        "import missingno as mno\n",
        "sns.set_style(\"darkgrid\", {\"grid.color\": \".2\", \"grid.linestyle\": \":\"})\n",
        "\n",
        "# For MT_CAN Library\n",
        "#import chainer\n",
        "import logzero\n",
        "import nltk\n",
        "\n",
        "import tensorflow as tf\n",
        "from keras.layers import Input, Dense, LeakyReLU, Dropout, Flatten, concatenate\n",
        "from transformers import ViTImageProcessor, ViTForImageClassification, ViTFeatureExtractor\n",
        "from keras.models import Model\n",
        "\n",
        "import torch\n",
        "import torch.nn as nn_torch\n",
        "from torch.utils.data import DataLoader\n",
        "\n",
        "from sklearn.model_selection import train_test_split\n",
        "from sklearn.preprocessing import StandardScaler\n",
        "import shutil\n",
        "\n",
        "try:\n",
        "    shutil.rmtree('logs')\n",
        "except:\n",
        "    pass\n",
        "\n",
        "'''\n",
        "#from chainer import training\n",
        "#from chainer.training import extensions\n",
        "from gensim.models import KeyedVectors\n",
        "#from models import ARCHS, MODEL_WRAPPERS\n",
        "from util import const\n",
        "from util.cross_validation import kfold_iter\n",
        "from util.evaluate import EVALUATE_PHASES\n",
        "from util.extensions import (\n",
        "    setup_optim_trigger,\n",
        "    setup_plot_report_loss_entries,\n",
        "    setup_print_report_entries,\n",
        "    setup_record_trigger,\n",
        ")\n",
        "from util.load import load_data\n",
        "from util.notify import notify_exception, notify_result\n",
        "from util.preprocessed_dataset import (\n",
        "    PreprocessedDataset,\n",
        "    convert_seq,\n",
        "    prepare_vectorizer,\n",
        ")\n",
        "from util.resource import Resource\n",
        "from util.seed import reset_seed\n",
        "from collections import OrderedDict\n",
        "\n",
        "plt.style.use(\"ggplot\")\n",
        "chainer.cuda.set_max_workspace_size(1024 * 1024 * 1024)\n",
        "chainer.global_config.autotune = True\n",
        "'''"
      ]
    },
    {
      "cell_type": "markdown",
      "metadata": {
        "id": "F6RJdZiKd0Mg"
      },
      "source": [
        "###### Read the 2 CSV files into separate dataframes"
      ]
    },
    {
      "cell_type": "code",
      "execution_count": 4,
      "metadata": {
        "id": "N6XzIU1Yd0Mh"
      },
      "outputs": [],
      "source": [
        "ads_insight_df = pd.read_csv(\"/content/all_ads_data.csv\")\n",
        "campaigns_df = pd.read_csv(\"/content/all_ad_creatives_with_insights.csv\")"
      ]
    },
    {
      "cell_type": "markdown",
      "metadata": {
        "id": "scWSfMkNd0Mh"
      },
      "source": [
        "###### Define these functions to get the respective values from the data objects into distinct columns"
      ]
    },
    {
      "cell_type": "code",
      "execution_count": null,
      "metadata": {
        "id": "y4ZkoqBhd0Mh"
      },
      "outputs": [],
      "source": [
        "# Function to extract 'name' from Adset object in 'adset' column\n",
        "\n",
        "def extract_adset_name(adset_str):\n",
        "    match = re.search(r'\"name\": \"([^\"]+)\"', adset_str)\n",
        "    return match.group(1) if match else None\n",
        "\n",
        "def extract_adcreative_body(adcreatives_str):\n",
        "   try:\n",
        "       adcreatives_dict = ast.literal_eval(adcreatives_str)\n",
        "       body = adcreatives_dict.get('data', [{}])[0].get('body')\n",
        "       return body\n",
        "\n",
        "   except (ValueError, SyntaxError, IndexError):\n",
        "       return None\n",
        "\n",
        "def extract_campaign_id(campaign_str):\n",
        "    match = re.search(r'\"id\": \"([^\"]+)\"', campaign_str)\n",
        "    return match.group(1) if match else None\n",
        "\n",
        "def extract_adcreative_image(adcreatives_str):\n",
        "    try:\n",
        "        adcreatives_dict = ast.literal_eval(adcreatives_str)\n",
        "        data_list = adcreatives_dict.get('data', [])\n",
        "        if data_list:\n",
        "            image_url = data_list[0].get('image_url', '') or data_list[0].get('thumbnail_url', '')\n",
        "            return image_url\n",
        "\n",
        "    except (ValueError, SyntaxError, IndexError):\n",
        "        pass\n",
        "\n",
        "    return ''"
      ]
    },
    {
      "cell_type": "code",
      "execution_count": null,
      "metadata": {
        "id": "yTLY0uDQd0Mh"
      },
      "outputs": [],
      "source": [
        "# Apply the functions to create new columns\n",
        "ads_insight_df['adset_name'] = ads_insight_df['adset'].swifter.apply(extract_adset_name)\n",
        "ads_insight_df[\"campaign_id\"] = ads_insight_df[\"campaign\"].swifter.apply(extract_campaign_id)\n",
        "ads_insight_df['adcreatives_body'] = ads_insight_df['adcreatives'].swifter.apply(extract_adcreative_body)\n",
        "ads_insight_df[\"image_url\"] = ads_insight_df[\"adcreatives\"].swifter.apply(extract_adcreative_image)"
      ]
    },
    {
      "cell_type": "code",
      "execution_count": null,
      "metadata": {
        "id": "tPfycvSCd0Mi"
      },
      "outputs": [],
      "source": [
        "#Confirm the DF for new columns\n",
        "ads_insight_df.head()"
      ]
    },
    {
      "cell_type": "code",
      "execution_count": null,
      "metadata": {
        "id": "AQTZ5SbDd0Mi"
      },
      "outputs": [],
      "source": [
        "# Count of non-null values\n",
        "not_null_count = ads_insight_df[\"image_url\"].notna().sum()\n",
        "print(\"Not null values for Image section:\", not_null_count)\n",
        "\n",
        "# Count of null values\n",
        "null_count = ads_insight_df[\"image_url\"].isna().sum()\n",
        "print(\"Null values for Image section:\", null_count)\n"
      ]
    },
    {
      "cell_type": "markdown",
      "metadata": {
        "id": "uCnGxPhTd0Mi"
      },
      "source": [
        "###### Use the function defined before to download the images and also append the path."
      ]
    },
    {
      "cell_type": "code",
      "execution_count": null,
      "metadata": {
        "id": "d8Q7CoZRd0Mi"
      },
      "outputs": [],
      "source": [
        "#Download the images now\n",
        "import requests\n",
        "from urllib.parse import urlparse\n",
        "import os\n",
        "# import time\n",
        "\n",
        "def is_valid_url(url):\n",
        "    try:\n",
        "        result = urlparse(url)\n",
        "        return all([result.scheme, result.netloc])\n",
        "    except ValueError:\n",
        "        return False\n",
        "\n",
        "\n",
        "default_extension = '.jpg'\n",
        "def download_images(image_urls, download_folder):\n",
        "    image_paths = []\n",
        "    for image_url in image_urls:\n",
        "        if is_valid_url(image_url):\n",
        "            response = requests.get(image_url)\n",
        "\n",
        "            # Extract filename from URL\n",
        "            parsed_url = urlparse(image_url)\n",
        "            image_name = os.path.basename(parsed_url.path)\n",
        "\n",
        "            # Remove invalid characters from filename\n",
        "            image_name = ''.join(c if c.isalnum() or c in ['.', '_'] else '_' for c in image_name)\n",
        "\n",
        "            # Split the filename into base name and extension\n",
        "            base_name, extension = os.path.splitext(image_name)\n",
        "\n",
        "            # If no extension or extension is invalid, use default_extension\n",
        "            if not extension or extension.lower() not in ['.jpg', '.jpeg', '.png', '.gif']:\n",
        "                extension = default_extension\n",
        "\n",
        "            image_path = os.path.join(os.getcwd(), download_folder, f\"{base_name}{extension}\")\n",
        "\n",
        "            with open(image_path, 'wb') as f:\n",
        "                f.write(response.content)\n",
        "                # time.sleep(2)\n",
        "\n",
        "            image_paths.append(image_path)\n",
        "        else:\n",
        "            image_paths.append(None)\n",
        "\n",
        "    return image_paths\n"
      ]
    },
    {
      "cell_type": "markdown",
      "metadata": {
        "id": "hHEUWQ7Nd0Mj"
      },
      "source": [
        "###### Image Downloading Scripts starts here..."
      ]
    },
    {
      "cell_type": "code",
      "execution_count": null,
      "metadata": {
        "id": "0hYaFfMCd0Mj"
      },
      "outputs": [],
      "source": [
        "# Create a folder for downloaded images\n",
        "download_folder = 'downloaded_images'\n",
        "os.makedirs(download_folder, exist_ok=True)\n",
        "\n",
        "image_urls = ads_insight_df['image_url'].dropna().apply(lambda x: x.strip())\n",
        "\n",
        "# Download images\n",
        "valid_image_urls = image_urls[image_urls.apply(is_valid_url)].reset_index(drop=True)\n",
        "\n",
        "image_paths_series = pd.Series(download_images(valid_image_urls, download_folder), index=valid_image_urls.index)\n",
        "\n",
        "ads_insight_df[\"image_path\"] = image_paths_series"
      ]
    },
    {
      "cell_type": "code",
      "execution_count": null,
      "metadata": {
        "id": "mMkEygFZd0Mj"
      },
      "outputs": [],
      "source": [
        "ads_insight_df.shape"
      ]
    },
    {
      "cell_type": "code",
      "source": [
        "ads_insight_df.head(10)"
      ],
      "metadata": {
        "id": "Hzeq7Sf8gpcJ"
      },
      "execution_count": null,
      "outputs": []
    },
    {
      "cell_type": "code",
      "source": [
        "ads_insight_df.to_csv('data.csv')"
      ],
      "metadata": {
        "id": "Q124VpKggtWZ"
      },
      "execution_count": 22,
      "outputs": []
    },
    {
      "cell_type": "code",
      "source": [
        "first_column = ads_insight_df.iloc[:, 0]\n",
        "print(first_column.head())\n"
      ],
      "metadata": {
        "colab": {
          "base_uri": "https://localhost:8080/"
        },
        "id": "xlYBH9Rwf9Xz",
        "outputId": "ba3d26b1-fc00-4c46-a33d-ad44d77e5b0d"
      },
      "execution_count": 19,
      "outputs": [
        {
          "output_type": "stream",
          "name": "stdout",
          "text": [
            "0    {'data': [{'effective_object_story_id': '14091...\n",
            "1    {'data': [{'body': \"Celebrare i momenti specia...\n",
            "2    {'data': [{'body': \"🎉✨ Benvenuti nel nostro es...\n",
            "3    {'data': [{'effective_object_story_id': '10040...\n",
            "4    {'data': [{'body': \"🎅Ci stiamo avvolgendo nell...\n",
            "Name: adcreatives, dtype: object\n"
          ]
        }
      ]
    },
    {
      "cell_type": "markdown",
      "metadata": {
        "id": "fQYp7xx4d0Mj"
      },
      "source": [
        "###### Convert the Image Path Column into A Numpy Array"
      ]
    },
    {
      "cell_type": "code",
      "execution_count": null,
      "metadata": {
        "id": "U_XRn4Ivd0Mj"
      },
      "outputs": [],
      "source": [
        "from keras.preprocessing.image import img_to_array\n",
        "from PIL import Image\n",
        "\n",
        "# Resize All the Image sizes\n",
        "img_resize = (224, 224)\n",
        "\n",
        "def load_and_preprocess_image(image_path):\n",
        "    try:\n",
        "        # Load image and resize\n",
        "        img = Image.open(image_path)\n",
        "        img = img.resize(img_resize, Image.LANCZOS)\n",
        "\n",
        "        # Convert the image to a numpy array\n",
        "        img_array = img_to_array(img)\n",
        "\n",
        "        return img_array\n",
        "    except Exception as e:\n",
        "        print(f\"Error processing image at {image_path}: {str(e)}\")\n",
        "        return None"
      ]
    },
    {
      "cell_type": "markdown",
      "metadata": {
        "id": "3tEyzp1fd0Mj"
      },
      "source": [
        "###### Convert the Image column into an array now"
      ]
    },
    {
      "cell_type": "code",
      "execution_count": null,
      "metadata": {
        "id": "XYSa2YCAd0Mj",
        "outputId": "476b5d7a-09e0-4daf-aab2-13e02c6d61bf"
      },
      "outputs": [
        {
          "name": "stderr",
          "output_type": "stream",
          "text": [
            "Pandas Apply: 100%|██████████| 587/587 [00:10<00:00, 54.91it/s] \n"
          ]
        }
      ],
      "source": [
        "valid_image_paths = ads_insight_df[\"image_path\"].dropna()\n",
        "\n",
        "# Apply the function to each valid image path in the dataframe\n",
        "ads_insight_df.loc[valid_image_paths.index, \"image_array\"] = valid_image_paths.swifter.apply(lambda x: load_and_preprocess_image(x))"
      ]
    },
    {
      "cell_type": "code",
      "execution_count": null,
      "metadata": {
        "id": "vbcJ0y2_d0Mj",
        "outputId": "e94dd486-65ff-4aa3-d952-afb33abb8a36"
      },
      "outputs": [
        {
          "data": {
            "text/html": [
              "<div>\n",
              "<style scoped>\n",
              "    .dataframe tbody tr th:only-of-type {\n",
              "        vertical-align: middle;\n",
              "    }\n",
              "\n",
              "    .dataframe tbody tr th {\n",
              "        vertical-align: top;\n",
              "    }\n",
              "\n",
              "    .dataframe thead th {\n",
              "        text-align: right;\n",
              "    }\n",
              "</style>\n",
              "<table border=\"1\" class=\"dataframe\">\n",
              "  <thead>\n",
              "    <tr style=\"text-align: right;\">\n",
              "      <th></th>\n",
              "      <th>adcreatives</th>\n",
              "      <th>adset</th>\n",
              "      <th>campaign</th>\n",
              "      <th>created_time</th>\n",
              "      <th>id</th>\n",
              "      <th>name</th>\n",
              "      <th>adset_name</th>\n",
              "      <th>campaign_id</th>\n",
              "      <th>adcreatives_body</th>\n",
              "      <th>image_url</th>\n",
              "      <th>image_path</th>\n",
              "      <th>image_array</th>\n",
              "    </tr>\n",
              "  </thead>\n",
              "  <tbody>\n",
              "    <tr>\n",
              "      <th>0</th>\n",
              "      <td>{'data': [{'effective_object_story_id': '14091...</td>\n",
              "      <td>&lt;AdSet&gt; {\\n    \"id\": \"120202176749660035\",\\n  ...</td>\n",
              "      <td>&lt;Campaign&gt; {\\n    \"account_id\": \"6842150671417...</td>\n",
              "      <td>2023-12-06T15:19:43+0100</td>\n",
              "      <td>120202176749710035</td>\n",
              "      <td>Nuova inserzione Interazioni</td>\n",
              "      <td>Nuovo gruppo di inserzioni Interazioni</td>\n",
              "      <td>120202176749050035</td>\n",
              "      <td>None</td>\n",
              "      <td>https://scontent.fflr2-1.fna.fbcdn.net/v/t45.1...</td>\n",
              "      <td>c:\\Users\\Aigot-Developer\\Desktop\\PROJECTS\\AIGO...</td>\n",
              "      <td>[[[212.0, 187.0, 165.0], [213.0, 187.0, 165.0]...</td>\n",
              "    </tr>\n",
              "    <tr>\n",
              "      <th>1</th>\n",
              "      <td>{'data': [{'body': \"Celebrare i momenti specia...</td>\n",
              "      <td>&lt;AdSet&gt; {\\n    \"id\": \"120201758028270035\",\\n  ...</td>\n",
              "      <td>&lt;Campaign&gt; {\\n    \"account_id\": \"6842150671417...</td>\n",
              "      <td>2023-11-30T14:06:50+0100</td>\n",
              "      <td>120201758028320035</td>\n",
              "      <td>Nuova inserzione Interazioni</td>\n",
              "      <td>prenotazione per eventi</td>\n",
              "      <td>120201758028110035</td>\n",
              "      <td>Celebrare i momenti speciali in luoghi altrett...</td>\n",
              "      <td>https://scontent.fflr2-1.fna.fbcdn.net/v/t45.1...</td>\n",
              "      <td>c:\\Users\\Aigot-Developer\\Desktop\\PROJECTS\\AIGO...</td>\n",
              "      <td>[[[255.0, 250.0, 247.0], [255.0, 250.0, 247.0]...</td>\n",
              "    </tr>\n",
              "    <tr>\n",
              "      <th>2</th>\n",
              "      <td>{'data': [{'body': \"🎉✨ Benvenuti nel nostro es...</td>\n",
              "      <td>&lt;AdSet&gt; {\\n    \"id\": \"120201758189670035\",\\n  ...</td>\n",
              "      <td>&lt;Campaign&gt; {\\n    \"account_id\": \"6842150671417...</td>\n",
              "      <td>2023-11-30T12:59:09+0100</td>\n",
              "      <td>120201758189720035</td>\n",
              "      <td>Nuova inserzione Interazioni</td>\n",
              "      <td>Nuovo gruppo di inserzioni Interazioni</td>\n",
              "      <td>120201758189340035</td>\n",
              "      <td>🎉✨ Benvenuti nel nostro esclusivo Cenone di Ca...</td>\n",
              "      <td>https://scontent.fflr2-1.fna.fbcdn.net/v/t39.3...</td>\n",
              "      <td>c:\\Users\\Aigot-Developer\\Desktop\\PROJECTS\\AIGO...</td>\n",
              "      <td>[[[0.0, 0.0, 0.0], [1.0, 1.0, 0.0], [3.0, 3.0,...</td>\n",
              "    </tr>\n",
              "    <tr>\n",
              "      <th>3</th>\n",
              "      <td>{'data': [{'effective_object_story_id': '10040...</td>\n",
              "      <td>&lt;AdSet&gt; {\\n    \"id\": \"120202597513850390\",\\n  ...</td>\n",
              "      <td>&lt;Campaign&gt; {\\n    \"account_id\": \"6596519296300...</td>\n",
              "      <td>2023-12-14T11:33:58+0100</td>\n",
              "      <td>120202597513830390</td>\n",
              "      <td>Nuovo pacchetto: Interazioni Inserzione con im...</td>\n",
              "      <td>Nuovo pacchetto: Interazioni Gruppo di inserzi...</td>\n",
              "      <td>120202597513840390</td>\n",
              "      <td>None</td>\n",
              "      <td>https://scontent.fflr2-1.fna.fbcdn.net/v/t45.1...</td>\n",
              "      <td>c:\\Users\\Aigot-Developer\\Desktop\\PROJECTS\\AIGO...</td>\n",
              "      <td>[[[238.0, 238.0, 230.0], [239.0, 239.0, 231.0]...</td>\n",
              "    </tr>\n",
              "    <tr>\n",
              "      <th>4</th>\n",
              "      <td>{'data': [{'body': \"🎅Ci stiamo avvolgendo nell...</td>\n",
              "      <td>&lt;AdSet&gt; {\\n    \"id\": \"120201422366960390\",\\n  ...</td>\n",
              "      <td>&lt;Campaign&gt; {\\n    \"account_id\": \"6596519296300...</td>\n",
              "      <td>2023-12-01T16:20:38+0100</td>\n",
              "      <td>120201442215360390</td>\n",
              "      <td>menu base - Copia</td>\n",
              "      <td>Nuovo pacchetto: Interazioni Gruppo di inserzi...</td>\n",
              "      <td>120201422366970390</td>\n",
              "      <td>🎅Ci stiamo avvolgendo nell'atmosfera natalizia...</td>\n",
              "      <td>https://scontent.fflr2-1.fna.fbcdn.net/v/t45.1...</td>\n",
              "      <td>c:\\Users\\Aigot-Developer\\Desktop\\PROJECTS\\AIGO...</td>\n",
              "      <td>[[[166.0, 166.0, 166.0], [176.0, 176.0, 176.0]...</td>\n",
              "    </tr>\n",
              "  </tbody>\n",
              "</table>\n",
              "</div>"
            ],
            "text/plain": [
              "                                         adcreatives  \\\n",
              "0  {'data': [{'effective_object_story_id': '14091...   \n",
              "1  {'data': [{'body': \"Celebrare i momenti specia...   \n",
              "2  {'data': [{'body': \"🎉✨ Benvenuti nel nostro es...   \n",
              "3  {'data': [{'effective_object_story_id': '10040...   \n",
              "4  {'data': [{'body': \"🎅Ci stiamo avvolgendo nell...   \n",
              "\n",
              "                                               adset  \\\n",
              "0  <AdSet> {\\n    \"id\": \"120202176749660035\",\\n  ...   \n",
              "1  <AdSet> {\\n    \"id\": \"120201758028270035\",\\n  ...   \n",
              "2  <AdSet> {\\n    \"id\": \"120201758189670035\",\\n  ...   \n",
              "3  <AdSet> {\\n    \"id\": \"120202597513850390\",\\n  ...   \n",
              "4  <AdSet> {\\n    \"id\": \"120201422366960390\",\\n  ...   \n",
              "\n",
              "                                            campaign  \\\n",
              "0  <Campaign> {\\n    \"account_id\": \"6842150671417...   \n",
              "1  <Campaign> {\\n    \"account_id\": \"6842150671417...   \n",
              "2  <Campaign> {\\n    \"account_id\": \"6842150671417...   \n",
              "3  <Campaign> {\\n    \"account_id\": \"6596519296300...   \n",
              "4  <Campaign> {\\n    \"account_id\": \"6596519296300...   \n",
              "\n",
              "               created_time                  id  \\\n",
              "0  2023-12-06T15:19:43+0100  120202176749710035   \n",
              "1  2023-11-30T14:06:50+0100  120201758028320035   \n",
              "2  2023-11-30T12:59:09+0100  120201758189720035   \n",
              "3  2023-12-14T11:33:58+0100  120202597513830390   \n",
              "4  2023-12-01T16:20:38+0100  120201442215360390   \n",
              "\n",
              "                                                name  \\\n",
              "0                       Nuova inserzione Interazioni   \n",
              "1                       Nuova inserzione Interazioni   \n",
              "2                       Nuova inserzione Interazioni   \n",
              "3  Nuovo pacchetto: Interazioni Inserzione con im...   \n",
              "4                                  menu base - Copia   \n",
              "\n",
              "                                          adset_name         campaign_id  \\\n",
              "0             Nuovo gruppo di inserzioni Interazioni  120202176749050035   \n",
              "1                            prenotazione per eventi  120201758028110035   \n",
              "2             Nuovo gruppo di inserzioni Interazioni  120201758189340035   \n",
              "3  Nuovo pacchetto: Interazioni Gruppo di inserzi...  120202597513840390   \n",
              "4  Nuovo pacchetto: Interazioni Gruppo di inserzi...  120201422366970390   \n",
              "\n",
              "                                    adcreatives_body  \\\n",
              "0                                               None   \n",
              "1  Celebrare i momenti speciali in luoghi altrett...   \n",
              "2  🎉✨ Benvenuti nel nostro esclusivo Cenone di Ca...   \n",
              "3                                               None   \n",
              "4  🎅Ci stiamo avvolgendo nell'atmosfera natalizia...   \n",
              "\n",
              "                                           image_url  \\\n",
              "0  https://scontent.fflr2-1.fna.fbcdn.net/v/t45.1...   \n",
              "1  https://scontent.fflr2-1.fna.fbcdn.net/v/t45.1...   \n",
              "2  https://scontent.fflr2-1.fna.fbcdn.net/v/t39.3...   \n",
              "3  https://scontent.fflr2-1.fna.fbcdn.net/v/t45.1...   \n",
              "4  https://scontent.fflr2-1.fna.fbcdn.net/v/t45.1...   \n",
              "\n",
              "                                          image_path  \\\n",
              "0  c:\\Users\\Aigot-Developer\\Desktop\\PROJECTS\\AIGO...   \n",
              "1  c:\\Users\\Aigot-Developer\\Desktop\\PROJECTS\\AIGO...   \n",
              "2  c:\\Users\\Aigot-Developer\\Desktop\\PROJECTS\\AIGO...   \n",
              "3  c:\\Users\\Aigot-Developer\\Desktop\\PROJECTS\\AIGO...   \n",
              "4  c:\\Users\\Aigot-Developer\\Desktop\\PROJECTS\\AIGO...   \n",
              "\n",
              "                                         image_array  \n",
              "0  [[[212.0, 187.0, 165.0], [213.0, 187.0, 165.0]...  \n",
              "1  [[[255.0, 250.0, 247.0], [255.0, 250.0, 247.0]...  \n",
              "2  [[[0.0, 0.0, 0.0], [1.0, 1.0, 0.0], [3.0, 3.0,...  \n",
              "3  [[[238.0, 238.0, 230.0], [239.0, 239.0, 231.0]...  \n",
              "4  [[[166.0, 166.0, 166.0], [176.0, 176.0, 176.0]...  "
            ]
          },
          "execution_count": 23,
          "metadata": {},
          "output_type": "execute_result"
        }
      ],
      "source": [
        "ads_insight_df.head()"
      ]
    },
    {
      "cell_type": "markdown",
      "metadata": {
        "id": "0vDiD02Od0Mj"
      },
      "source": [
        "###### Free Garbage Collection"
      ]
    },
    {
      "cell_type": "code",
      "execution_count": null,
      "metadata": {
        "id": "nIyqrqoHd0Mj",
        "outputId": "5a4fe842-0687-4300-f27a-0e91b90a721a"
      },
      "outputs": [
        {
          "data": {
            "text/plain": [
              "279"
            ]
          },
          "execution_count": 24,
          "metadata": {},
          "output_type": "execute_result"
        }
      ],
      "source": [
        "import gc\n",
        "gc.collect()"
      ]
    },
    {
      "cell_type": "code",
      "execution_count": null,
      "metadata": {
        "id": "9ynBCo-1d0Mk",
        "outputId": "5f929a9c-546a-4b5f-97ae-e55459a88b6c"
      },
      "outputs": [
        {
          "data": {
            "text/html": [
              "<div>\n",
              "<style scoped>\n",
              "    .dataframe tbody tr th:only-of-type {\n",
              "        vertical-align: middle;\n",
              "    }\n",
              "\n",
              "    .dataframe tbody tr th {\n",
              "        vertical-align: top;\n",
              "    }\n",
              "\n",
              "    .dataframe thead th {\n",
              "        text-align: right;\n",
              "    }\n",
              "</style>\n",
              "<table border=\"1\" class=\"dataframe\">\n",
              "  <thead>\n",
              "    <tr style=\"text-align: right;\">\n",
              "      <th></th>\n",
              "      <th>adcreatives</th>\n",
              "      <th>adset</th>\n",
              "      <th>campaign</th>\n",
              "      <th>created_time</th>\n",
              "      <th>id</th>\n",
              "      <th>name</th>\n",
              "      <th>adset_name</th>\n",
              "      <th>campaign_id</th>\n",
              "      <th>adcreatives_body</th>\n",
              "      <th>image_url</th>\n",
              "      <th>image_path</th>\n",
              "      <th>image_array</th>\n",
              "    </tr>\n",
              "  </thead>\n",
              "  <tbody>\n",
              "    <tr>\n",
              "      <th>0</th>\n",
              "      <td>{'data': [{'effective_object_story_id': '14091...</td>\n",
              "      <td>&lt;AdSet&gt; {\\n    \"id\": \"120202176749660035\",\\n  ...</td>\n",
              "      <td>&lt;Campaign&gt; {\\n    \"account_id\": \"6842150671417...</td>\n",
              "      <td>2023-12-06T15:19:43+0100</td>\n",
              "      <td>120202176749710035</td>\n",
              "      <td>Nuova inserzione Interazioni</td>\n",
              "      <td>Nuovo gruppo di inserzioni Interazioni</td>\n",
              "      <td>120202176749050035</td>\n",
              "      <td>None</td>\n",
              "      <td>https://scontent.fflr2-1.fna.fbcdn.net/v/t45.1...</td>\n",
              "      <td>c:\\Users\\Aigot-Developer\\Desktop\\PROJECTS\\AIGO...</td>\n",
              "      <td>[[[212.0, 187.0, 165.0], [213.0, 187.0, 165.0]...</td>\n",
              "    </tr>\n",
              "    <tr>\n",
              "      <th>1</th>\n",
              "      <td>{'data': [{'body': \"Celebrare i momenti specia...</td>\n",
              "      <td>&lt;AdSet&gt; {\\n    \"id\": \"120201758028270035\",\\n  ...</td>\n",
              "      <td>&lt;Campaign&gt; {\\n    \"account_id\": \"6842150671417...</td>\n",
              "      <td>2023-11-30T14:06:50+0100</td>\n",
              "      <td>120201758028320035</td>\n",
              "      <td>Nuova inserzione Interazioni</td>\n",
              "      <td>prenotazione per eventi</td>\n",
              "      <td>120201758028110035</td>\n",
              "      <td>Celebrare i momenti speciali in luoghi altrett...</td>\n",
              "      <td>https://scontent.fflr2-1.fna.fbcdn.net/v/t45.1...</td>\n",
              "      <td>c:\\Users\\Aigot-Developer\\Desktop\\PROJECTS\\AIGO...</td>\n",
              "      <td>[[[255.0, 250.0, 247.0], [255.0, 250.0, 247.0]...</td>\n",
              "    </tr>\n",
              "    <tr>\n",
              "      <th>2</th>\n",
              "      <td>{'data': [{'body': \"🎉✨ Benvenuti nel nostro es...</td>\n",
              "      <td>&lt;AdSet&gt; {\\n    \"id\": \"120201758189670035\",\\n  ...</td>\n",
              "      <td>&lt;Campaign&gt; {\\n    \"account_id\": \"6842150671417...</td>\n",
              "      <td>2023-11-30T12:59:09+0100</td>\n",
              "      <td>120201758189720035</td>\n",
              "      <td>Nuova inserzione Interazioni</td>\n",
              "      <td>Nuovo gruppo di inserzioni Interazioni</td>\n",
              "      <td>120201758189340035</td>\n",
              "      <td>🎉✨ Benvenuti nel nostro esclusivo Cenone di Ca...</td>\n",
              "      <td>https://scontent.fflr2-1.fna.fbcdn.net/v/t39.3...</td>\n",
              "      <td>c:\\Users\\Aigot-Developer\\Desktop\\PROJECTS\\AIGO...</td>\n",
              "      <td>[[[0.0, 0.0, 0.0], [1.0, 1.0, 0.0], [3.0, 3.0,...</td>\n",
              "    </tr>\n",
              "    <tr>\n",
              "      <th>3</th>\n",
              "      <td>{'data': [{'effective_object_story_id': '10040...</td>\n",
              "      <td>&lt;AdSet&gt; {\\n    \"id\": \"120202597513850390\",\\n  ...</td>\n",
              "      <td>&lt;Campaign&gt; {\\n    \"account_id\": \"6596519296300...</td>\n",
              "      <td>2023-12-14T11:33:58+0100</td>\n",
              "      <td>120202597513830390</td>\n",
              "      <td>Nuovo pacchetto: Interazioni Inserzione con im...</td>\n",
              "      <td>Nuovo pacchetto: Interazioni Gruppo di inserzi...</td>\n",
              "      <td>120202597513840390</td>\n",
              "      <td>None</td>\n",
              "      <td>https://scontent.fflr2-1.fna.fbcdn.net/v/t45.1...</td>\n",
              "      <td>c:\\Users\\Aigot-Developer\\Desktop\\PROJECTS\\AIGO...</td>\n",
              "      <td>[[[238.0, 238.0, 230.0], [239.0, 239.0, 231.0]...</td>\n",
              "    </tr>\n",
              "    <tr>\n",
              "      <th>4</th>\n",
              "      <td>{'data': [{'body': \"🎅Ci stiamo avvolgendo nell...</td>\n",
              "      <td>&lt;AdSet&gt; {\\n    \"id\": \"120201422366960390\",\\n  ...</td>\n",
              "      <td>&lt;Campaign&gt; {\\n    \"account_id\": \"6596519296300...</td>\n",
              "      <td>2023-12-01T16:20:38+0100</td>\n",
              "      <td>120201442215360390</td>\n",
              "      <td>menu base - Copia</td>\n",
              "      <td>Nuovo pacchetto: Interazioni Gruppo di inserzi...</td>\n",
              "      <td>120201422366970390</td>\n",
              "      <td>🎅Ci stiamo avvolgendo nell'atmosfera natalizia...</td>\n",
              "      <td>https://scontent.fflr2-1.fna.fbcdn.net/v/t45.1...</td>\n",
              "      <td>c:\\Users\\Aigot-Developer\\Desktop\\PROJECTS\\AIGO...</td>\n",
              "      <td>[[[166.0, 166.0, 166.0], [176.0, 176.0, 176.0]...</td>\n",
              "    </tr>\n",
              "  </tbody>\n",
              "</table>\n",
              "</div>"
            ],
            "text/plain": [
              "                                         adcreatives  \\\n",
              "0  {'data': [{'effective_object_story_id': '14091...   \n",
              "1  {'data': [{'body': \"Celebrare i momenti specia...   \n",
              "2  {'data': [{'body': \"🎉✨ Benvenuti nel nostro es...   \n",
              "3  {'data': [{'effective_object_story_id': '10040...   \n",
              "4  {'data': [{'body': \"🎅Ci stiamo avvolgendo nell...   \n",
              "\n",
              "                                               adset  \\\n",
              "0  <AdSet> {\\n    \"id\": \"120202176749660035\",\\n  ...   \n",
              "1  <AdSet> {\\n    \"id\": \"120201758028270035\",\\n  ...   \n",
              "2  <AdSet> {\\n    \"id\": \"120201758189670035\",\\n  ...   \n",
              "3  <AdSet> {\\n    \"id\": \"120202597513850390\",\\n  ...   \n",
              "4  <AdSet> {\\n    \"id\": \"120201422366960390\",\\n  ...   \n",
              "\n",
              "                                            campaign  \\\n",
              "0  <Campaign> {\\n    \"account_id\": \"6842150671417...   \n",
              "1  <Campaign> {\\n    \"account_id\": \"6842150671417...   \n",
              "2  <Campaign> {\\n    \"account_id\": \"6842150671417...   \n",
              "3  <Campaign> {\\n    \"account_id\": \"6596519296300...   \n",
              "4  <Campaign> {\\n    \"account_id\": \"6596519296300...   \n",
              "\n",
              "               created_time                  id  \\\n",
              "0  2023-12-06T15:19:43+0100  120202176749710035   \n",
              "1  2023-11-30T14:06:50+0100  120201758028320035   \n",
              "2  2023-11-30T12:59:09+0100  120201758189720035   \n",
              "3  2023-12-14T11:33:58+0100  120202597513830390   \n",
              "4  2023-12-01T16:20:38+0100  120201442215360390   \n",
              "\n",
              "                                                name  \\\n",
              "0                       Nuova inserzione Interazioni   \n",
              "1                       Nuova inserzione Interazioni   \n",
              "2                       Nuova inserzione Interazioni   \n",
              "3  Nuovo pacchetto: Interazioni Inserzione con im...   \n",
              "4                                  menu base - Copia   \n",
              "\n",
              "                                          adset_name         campaign_id  \\\n",
              "0             Nuovo gruppo di inserzioni Interazioni  120202176749050035   \n",
              "1                            prenotazione per eventi  120201758028110035   \n",
              "2             Nuovo gruppo di inserzioni Interazioni  120201758189340035   \n",
              "3  Nuovo pacchetto: Interazioni Gruppo di inserzi...  120202597513840390   \n",
              "4  Nuovo pacchetto: Interazioni Gruppo di inserzi...  120201422366970390   \n",
              "\n",
              "                                    adcreatives_body  \\\n",
              "0                                               None   \n",
              "1  Celebrare i momenti speciali in luoghi altrett...   \n",
              "2  🎉✨ Benvenuti nel nostro esclusivo Cenone di Ca...   \n",
              "3                                               None   \n",
              "4  🎅Ci stiamo avvolgendo nell'atmosfera natalizia...   \n",
              "\n",
              "                                           image_url  \\\n",
              "0  https://scontent.fflr2-1.fna.fbcdn.net/v/t45.1...   \n",
              "1  https://scontent.fflr2-1.fna.fbcdn.net/v/t45.1...   \n",
              "2  https://scontent.fflr2-1.fna.fbcdn.net/v/t39.3...   \n",
              "3  https://scontent.fflr2-1.fna.fbcdn.net/v/t45.1...   \n",
              "4  https://scontent.fflr2-1.fna.fbcdn.net/v/t45.1...   \n",
              "\n",
              "                                          image_path  \\\n",
              "0  c:\\Users\\Aigot-Developer\\Desktop\\PROJECTS\\AIGO...   \n",
              "1  c:\\Users\\Aigot-Developer\\Desktop\\PROJECTS\\AIGO...   \n",
              "2  c:\\Users\\Aigot-Developer\\Desktop\\PROJECTS\\AIGO...   \n",
              "3  c:\\Users\\Aigot-Developer\\Desktop\\PROJECTS\\AIGO...   \n",
              "4  c:\\Users\\Aigot-Developer\\Desktop\\PROJECTS\\AIGO...   \n",
              "\n",
              "                                         image_array  \n",
              "0  [[[212.0, 187.0, 165.0], [213.0, 187.0, 165.0]...  \n",
              "1  [[[255.0, 250.0, 247.0], [255.0, 250.0, 247.0]...  \n",
              "2  [[[0.0, 0.0, 0.0], [1.0, 1.0, 0.0], [3.0, 3.0,...  \n",
              "3  [[[238.0, 238.0, 230.0], [239.0, 239.0, 231.0]...  \n",
              "4  [[[166.0, 166.0, 166.0], [176.0, 176.0, 176.0]...  "
            ]
          },
          "execution_count": 25,
          "metadata": {},
          "output_type": "execute_result"
        }
      ],
      "source": [
        "ads_insight_df.head()"
      ]
    },
    {
      "cell_type": "code",
      "execution_count": null,
      "metadata": {
        "id": "FYVBoHn5d0Mk",
        "outputId": "11d45545-109b-4b9e-c637-b57c78b6c6e7"
      },
      "outputs": [
        {
          "data": {
            "text/html": [
              "<div>\n",
              "<style scoped>\n",
              "    .dataframe tbody tr th:only-of-type {\n",
              "        vertical-align: middle;\n",
              "    }\n",
              "\n",
              "    .dataframe tbody tr th {\n",
              "        vertical-align: top;\n",
              "    }\n",
              "\n",
              "    .dataframe thead th {\n",
              "        text-align: right;\n",
              "    }\n",
              "</style>\n",
              "<table border=\"1\" class=\"dataframe\">\n",
              "  <thead>\n",
              "    <tr style=\"text-align: right;\">\n",
              "      <th></th>\n",
              "      <th>ad_id</th>\n",
              "      <th>age</th>\n",
              "      <th>campaign_id</th>\n",
              "      <th>clicks</th>\n",
              "      <th>date_start</th>\n",
              "      <th>date_stop</th>\n",
              "      <th>gender</th>\n",
              "      <th>impressions</th>\n",
              "      <th>reach</th>\n",
              "    </tr>\n",
              "  </thead>\n",
              "  <tbody>\n",
              "    <tr>\n",
              "      <th>0</th>\n",
              "      <td>120202597513830390</td>\n",
              "      <td>18-24</td>\n",
              "      <td>120202597513840390</td>\n",
              "      <td>7</td>\n",
              "      <td>2023-12-18</td>\n",
              "      <td>2024-01-16</td>\n",
              "      <td>female</td>\n",
              "      <td>150</td>\n",
              "      <td>84</td>\n",
              "    </tr>\n",
              "    <tr>\n",
              "      <th>1</th>\n",
              "      <td>120202597513830390</td>\n",
              "      <td>18-24</td>\n",
              "      <td>120202597513840390</td>\n",
              "      <td>23</td>\n",
              "      <td>2023-12-18</td>\n",
              "      <td>2024-01-16</td>\n",
              "      <td>male</td>\n",
              "      <td>253</td>\n",
              "      <td>140</td>\n",
              "    </tr>\n",
              "    <tr>\n",
              "      <th>2</th>\n",
              "      <td>120202597513830390</td>\n",
              "      <td>18-24</td>\n",
              "      <td>120202597513840390</td>\n",
              "      <td>0</td>\n",
              "      <td>2023-12-18</td>\n",
              "      <td>2024-01-16</td>\n",
              "      <td>unknown</td>\n",
              "      <td>3</td>\n",
              "      <td>3</td>\n",
              "    </tr>\n",
              "    <tr>\n",
              "      <th>3</th>\n",
              "      <td>120202597513830390</td>\n",
              "      <td>25-34</td>\n",
              "      <td>120202597513840390</td>\n",
              "      <td>42</td>\n",
              "      <td>2023-12-18</td>\n",
              "      <td>2024-01-16</td>\n",
              "      <td>female</td>\n",
              "      <td>653</td>\n",
              "      <td>424</td>\n",
              "    </tr>\n",
              "    <tr>\n",
              "      <th>4</th>\n",
              "      <td>120202597513830390</td>\n",
              "      <td>25-34</td>\n",
              "      <td>120202597513840390</td>\n",
              "      <td>29</td>\n",
              "      <td>2023-12-18</td>\n",
              "      <td>2024-01-16</td>\n",
              "      <td>male</td>\n",
              "      <td>724</td>\n",
              "      <td>456</td>\n",
              "    </tr>\n",
              "  </tbody>\n",
              "</table>\n",
              "</div>"
            ],
            "text/plain": [
              "                ad_id    age         campaign_id  clicks  date_start  \\\n",
              "0  120202597513830390  18-24  120202597513840390       7  2023-12-18   \n",
              "1  120202597513830390  18-24  120202597513840390      23  2023-12-18   \n",
              "2  120202597513830390  18-24  120202597513840390       0  2023-12-18   \n",
              "3  120202597513830390  25-34  120202597513840390      42  2023-12-18   \n",
              "4  120202597513830390  25-34  120202597513840390      29  2023-12-18   \n",
              "\n",
              "    date_stop   gender  impressions  reach  \n",
              "0  2024-01-16   female          150     84  \n",
              "1  2024-01-16     male          253    140  \n",
              "2  2024-01-16  unknown            3      3  \n",
              "3  2024-01-16   female          653    424  \n",
              "4  2024-01-16     male          724    456  "
            ]
          },
          "execution_count": 26,
          "metadata": {},
          "output_type": "execute_result"
        }
      ],
      "source": [
        "campaigns_df.head()"
      ]
    },
    {
      "cell_type": "markdown",
      "metadata": {
        "id": "SSWD1snEd0Mk"
      },
      "source": [
        "##### Encode the Campaigns Dataframe too for Proccessing"
      ]
    },
    {
      "cell_type": "code",
      "execution_count": null,
      "metadata": {
        "id": "c7xaLOGZd0Mk",
        "outputId": "80fbb225-caaf-4e51-a3d1-dd9717492ad0"
      },
      "outputs": [
        {
          "name": "stdout",
          "output_type": "stream",
          "text": [
            "Dataframe for Ads with Insights: (629, 12)\n",
            "Dataframe for Campaigns: (257, 9)\n"
          ]
        }
      ],
      "source": [
        "#Shape of the two Dataframe\n",
        "print(f\"Dataframe for Ads with Insights: {ads_insight_df.shape}\")\n",
        "print(f\"Dataframe for Campaigns: {campaigns_df.shape}\")"
      ]
    },
    {
      "cell_type": "code",
      "execution_count": null,
      "metadata": {
        "id": "exfI3PGtd0Mk"
      },
      "outputs": [],
      "source": [
        "#Convert this CampaignID into Int type\n",
        "ads_insight_df['campaign_id'] = ads_insight_df['campaign_id'].astype(np.int64)"
      ]
    },
    {
      "cell_type": "code",
      "execution_count": null,
      "metadata": {
        "id": "9tyeoqVad0Mk",
        "outputId": "c2aa2264-9acc-4ff0-ee81-d7bfca4c86d9"
      },
      "outputs": [
        {
          "name": "stdout",
          "output_type": "stream",
          "text": [
            "<class 'pandas.core.frame.DataFrame'>\n",
            "RangeIndex: 629 entries, 0 to 628\n",
            "Data columns (total 12 columns):\n",
            " #   Column            Non-Null Count  Dtype \n",
            "---  ------            --------------  ----- \n",
            " 0   adcreatives       629 non-null    object\n",
            " 1   adset             629 non-null    object\n",
            " 2   campaign          629 non-null    object\n",
            " 3   created_time      629 non-null    object\n",
            " 4   id                629 non-null    int64 \n",
            " 5   name              629 non-null    object\n",
            " 6   adset_name        629 non-null    object\n",
            " 7   campaign_id       629 non-null    int64 \n",
            " 8   adcreatives_body  525 non-null    object\n",
            " 9   image_url         629 non-null    object\n",
            " 10  image_path        587 non-null    object\n",
            " 11  image_array       587 non-null    object\n",
            "dtypes: int64(2), object(10)\n",
            "memory usage: 59.1+ KB\n",
            "Info for Ads with Insights: None\n",
            "\n",
            "<class 'pandas.core.frame.DataFrame'>\n",
            "RangeIndex: 257 entries, 0 to 256\n",
            "Data columns (total 9 columns):\n",
            " #   Column       Non-Null Count  Dtype \n",
            "---  ------       --------------  ----- \n",
            " 0   ad_id        257 non-null    int64 \n",
            " 1   age          257 non-null    object\n",
            " 2   campaign_id  257 non-null    int64 \n",
            " 3   clicks       257 non-null    int64 \n",
            " 4   date_start   257 non-null    object\n",
            " 5   date_stop    257 non-null    object\n",
            " 6   gender       257 non-null    object\n",
            " 7   impressions  257 non-null    int64 \n",
            " 8   reach        257 non-null    int64 \n",
            "dtypes: int64(5), object(4)\n",
            "memory usage: 18.2+ KB\n",
            "Info for Campaigns: None\n"
          ]
        }
      ],
      "source": [
        "# Print the columns to confirm the fields\n",
        "print(f\"Info for Ads with Insights: {ads_insight_df.info()}\\n\")\n",
        "print(f\"Info for Campaigns: {campaigns_df.info()}\")"
      ]
    },
    {
      "cell_type": "code",
      "execution_count": null,
      "metadata": {
        "id": "HN1bWaD3d0Mk",
        "outputId": "57e9e2c8-7f31-481e-ee01-3285b234d484"
      },
      "outputs": [
        {
          "data": {
            "text/html": [
              "<div>\n",
              "<style scoped>\n",
              "    .dataframe tbody tr th:only-of-type {\n",
              "        vertical-align: middle;\n",
              "    }\n",
              "\n",
              "    .dataframe tbody tr th {\n",
              "        vertical-align: top;\n",
              "    }\n",
              "\n",
              "    .dataframe thead th {\n",
              "        text-align: right;\n",
              "    }\n",
              "</style>\n",
              "<table border=\"1\" class=\"dataframe\">\n",
              "  <thead>\n",
              "    <tr style=\"text-align: right;\">\n",
              "      <th></th>\n",
              "      <th>adcreatives</th>\n",
              "      <th>adset</th>\n",
              "      <th>campaign</th>\n",
              "      <th>created_time</th>\n",
              "      <th>id</th>\n",
              "      <th>name</th>\n",
              "      <th>adset_name</th>\n",
              "      <th>campaign_id</th>\n",
              "      <th>adcreatives_body</th>\n",
              "      <th>image_url</th>\n",
              "      <th>image_path</th>\n",
              "      <th>image_array</th>\n",
              "      <th>ad_id</th>\n",
              "      <th>age</th>\n",
              "      <th>clicks</th>\n",
              "      <th>date_start</th>\n",
              "      <th>date_stop</th>\n",
              "      <th>gender</th>\n",
              "      <th>impressions</th>\n",
              "      <th>reach</th>\n",
              "    </tr>\n",
              "  </thead>\n",
              "  <tbody>\n",
              "    <tr>\n",
              "      <th>0</th>\n",
              "      <td>{'data': [{'effective_object_story_id': '10040...</td>\n",
              "      <td>&lt;AdSet&gt; {\\n    \"id\": \"120202597513850390\",\\n  ...</td>\n",
              "      <td>&lt;Campaign&gt; {\\n    \"account_id\": \"6596519296300...</td>\n",
              "      <td>2023-12-14T11:33:58+0100</td>\n",
              "      <td>120202597513830390</td>\n",
              "      <td>Nuovo pacchetto: Interazioni Inserzione con im...</td>\n",
              "      <td>Nuovo pacchetto: Interazioni Gruppo di inserzi...</td>\n",
              "      <td>120202597513840390</td>\n",
              "      <td>None</td>\n",
              "      <td>https://scontent.fflr2-1.fna.fbcdn.net/v/t45.1...</td>\n",
              "      <td>c:\\Users\\Aigot-Developer\\Desktop\\PROJECTS\\AIGO...</td>\n",
              "      <td>[[[238.0, 238.0, 230.0], [239.0, 239.0, 231.0]...</td>\n",
              "      <td>120202597513830390</td>\n",
              "      <td>18-24</td>\n",
              "      <td>7</td>\n",
              "      <td>2023-12-18</td>\n",
              "      <td>2024-01-16</td>\n",
              "      <td>female</td>\n",
              "      <td>150</td>\n",
              "      <td>84</td>\n",
              "    </tr>\n",
              "    <tr>\n",
              "      <th>1</th>\n",
              "      <td>{'data': [{'effective_object_story_id': '10040...</td>\n",
              "      <td>&lt;AdSet&gt; {\\n    \"id\": \"120202597513850390\",\\n  ...</td>\n",
              "      <td>&lt;Campaign&gt; {\\n    \"account_id\": \"6596519296300...</td>\n",
              "      <td>2023-12-14T11:33:58+0100</td>\n",
              "      <td>120202597513830390</td>\n",
              "      <td>Nuovo pacchetto: Interazioni Inserzione con im...</td>\n",
              "      <td>Nuovo pacchetto: Interazioni Gruppo di inserzi...</td>\n",
              "      <td>120202597513840390</td>\n",
              "      <td>None</td>\n",
              "      <td>https://scontent.fflr2-1.fna.fbcdn.net/v/t45.1...</td>\n",
              "      <td>c:\\Users\\Aigot-Developer\\Desktop\\PROJECTS\\AIGO...</td>\n",
              "      <td>[[[238.0, 238.0, 230.0], [239.0, 239.0, 231.0]...</td>\n",
              "      <td>120202597513830390</td>\n",
              "      <td>18-24</td>\n",
              "      <td>23</td>\n",
              "      <td>2023-12-18</td>\n",
              "      <td>2024-01-16</td>\n",
              "      <td>male</td>\n",
              "      <td>253</td>\n",
              "      <td>140</td>\n",
              "    </tr>\n",
              "    <tr>\n",
              "      <th>2</th>\n",
              "      <td>{'data': [{'effective_object_story_id': '10040...</td>\n",
              "      <td>&lt;AdSet&gt; {\\n    \"id\": \"120202597513850390\",\\n  ...</td>\n",
              "      <td>&lt;Campaign&gt; {\\n    \"account_id\": \"6596519296300...</td>\n",
              "      <td>2023-12-14T11:33:58+0100</td>\n",
              "      <td>120202597513830390</td>\n",
              "      <td>Nuovo pacchetto: Interazioni Inserzione con im...</td>\n",
              "      <td>Nuovo pacchetto: Interazioni Gruppo di inserzi...</td>\n",
              "      <td>120202597513840390</td>\n",
              "      <td>None</td>\n",
              "      <td>https://scontent.fflr2-1.fna.fbcdn.net/v/t45.1...</td>\n",
              "      <td>c:\\Users\\Aigot-Developer\\Desktop\\PROJECTS\\AIGO...</td>\n",
              "      <td>[[[238.0, 238.0, 230.0], [239.0, 239.0, 231.0]...</td>\n",
              "      <td>120202597513830390</td>\n",
              "      <td>18-24</td>\n",
              "      <td>0</td>\n",
              "      <td>2023-12-18</td>\n",
              "      <td>2024-01-16</td>\n",
              "      <td>unknown</td>\n",
              "      <td>3</td>\n",
              "      <td>3</td>\n",
              "    </tr>\n",
              "    <tr>\n",
              "      <th>3</th>\n",
              "      <td>{'data': [{'effective_object_story_id': '10040...</td>\n",
              "      <td>&lt;AdSet&gt; {\\n    \"id\": \"120202597513850390\",\\n  ...</td>\n",
              "      <td>&lt;Campaign&gt; {\\n    \"account_id\": \"6596519296300...</td>\n",
              "      <td>2023-12-14T11:33:58+0100</td>\n",
              "      <td>120202597513830390</td>\n",
              "      <td>Nuovo pacchetto: Interazioni Inserzione con im...</td>\n",
              "      <td>Nuovo pacchetto: Interazioni Gruppo di inserzi...</td>\n",
              "      <td>120202597513840390</td>\n",
              "      <td>None</td>\n",
              "      <td>https://scontent.fflr2-1.fna.fbcdn.net/v/t45.1...</td>\n",
              "      <td>c:\\Users\\Aigot-Developer\\Desktop\\PROJECTS\\AIGO...</td>\n",
              "      <td>[[[238.0, 238.0, 230.0], [239.0, 239.0, 231.0]...</td>\n",
              "      <td>120202597513830390</td>\n",
              "      <td>25-34</td>\n",
              "      <td>42</td>\n",
              "      <td>2023-12-18</td>\n",
              "      <td>2024-01-16</td>\n",
              "      <td>female</td>\n",
              "      <td>653</td>\n",
              "      <td>424</td>\n",
              "    </tr>\n",
              "    <tr>\n",
              "      <th>4</th>\n",
              "      <td>{'data': [{'effective_object_story_id': '10040...</td>\n",
              "      <td>&lt;AdSet&gt; {\\n    \"id\": \"120202597513850390\",\\n  ...</td>\n",
              "      <td>&lt;Campaign&gt; {\\n    \"account_id\": \"6596519296300...</td>\n",
              "      <td>2023-12-14T11:33:58+0100</td>\n",
              "      <td>120202597513830390</td>\n",
              "      <td>Nuovo pacchetto: Interazioni Inserzione con im...</td>\n",
              "      <td>Nuovo pacchetto: Interazioni Gruppo di inserzi...</td>\n",
              "      <td>120202597513840390</td>\n",
              "      <td>None</td>\n",
              "      <td>https://scontent.fflr2-1.fna.fbcdn.net/v/t45.1...</td>\n",
              "      <td>c:\\Users\\Aigot-Developer\\Desktop\\PROJECTS\\AIGO...</td>\n",
              "      <td>[[[238.0, 238.0, 230.0], [239.0, 239.0, 231.0]...</td>\n",
              "      <td>120202597513830390</td>\n",
              "      <td>25-34</td>\n",
              "      <td>29</td>\n",
              "      <td>2023-12-18</td>\n",
              "      <td>2024-01-16</td>\n",
              "      <td>male</td>\n",
              "      <td>724</td>\n",
              "      <td>456</td>\n",
              "    </tr>\n",
              "  </tbody>\n",
              "</table>\n",
              "</div>"
            ],
            "text/plain": [
              "                                         adcreatives  \\\n",
              "0  {'data': [{'effective_object_story_id': '10040...   \n",
              "1  {'data': [{'effective_object_story_id': '10040...   \n",
              "2  {'data': [{'effective_object_story_id': '10040...   \n",
              "3  {'data': [{'effective_object_story_id': '10040...   \n",
              "4  {'data': [{'effective_object_story_id': '10040...   \n",
              "\n",
              "                                               adset  \\\n",
              "0  <AdSet> {\\n    \"id\": \"120202597513850390\",\\n  ...   \n",
              "1  <AdSet> {\\n    \"id\": \"120202597513850390\",\\n  ...   \n",
              "2  <AdSet> {\\n    \"id\": \"120202597513850390\",\\n  ...   \n",
              "3  <AdSet> {\\n    \"id\": \"120202597513850390\",\\n  ...   \n",
              "4  <AdSet> {\\n    \"id\": \"120202597513850390\",\\n  ...   \n",
              "\n",
              "                                            campaign  \\\n",
              "0  <Campaign> {\\n    \"account_id\": \"6596519296300...   \n",
              "1  <Campaign> {\\n    \"account_id\": \"6596519296300...   \n",
              "2  <Campaign> {\\n    \"account_id\": \"6596519296300...   \n",
              "3  <Campaign> {\\n    \"account_id\": \"6596519296300...   \n",
              "4  <Campaign> {\\n    \"account_id\": \"6596519296300...   \n",
              "\n",
              "               created_time                  id  \\\n",
              "0  2023-12-14T11:33:58+0100  120202597513830390   \n",
              "1  2023-12-14T11:33:58+0100  120202597513830390   \n",
              "2  2023-12-14T11:33:58+0100  120202597513830390   \n",
              "3  2023-12-14T11:33:58+0100  120202597513830390   \n",
              "4  2023-12-14T11:33:58+0100  120202597513830390   \n",
              "\n",
              "                                                name  \\\n",
              "0  Nuovo pacchetto: Interazioni Inserzione con im...   \n",
              "1  Nuovo pacchetto: Interazioni Inserzione con im...   \n",
              "2  Nuovo pacchetto: Interazioni Inserzione con im...   \n",
              "3  Nuovo pacchetto: Interazioni Inserzione con im...   \n",
              "4  Nuovo pacchetto: Interazioni Inserzione con im...   \n",
              "\n",
              "                                          adset_name         campaign_id  \\\n",
              "0  Nuovo pacchetto: Interazioni Gruppo di inserzi...  120202597513840390   \n",
              "1  Nuovo pacchetto: Interazioni Gruppo di inserzi...  120202597513840390   \n",
              "2  Nuovo pacchetto: Interazioni Gruppo di inserzi...  120202597513840390   \n",
              "3  Nuovo pacchetto: Interazioni Gruppo di inserzi...  120202597513840390   \n",
              "4  Nuovo pacchetto: Interazioni Gruppo di inserzi...  120202597513840390   \n",
              "\n",
              "  adcreatives_body                                          image_url  \\\n",
              "0             None  https://scontent.fflr2-1.fna.fbcdn.net/v/t45.1...   \n",
              "1             None  https://scontent.fflr2-1.fna.fbcdn.net/v/t45.1...   \n",
              "2             None  https://scontent.fflr2-1.fna.fbcdn.net/v/t45.1...   \n",
              "3             None  https://scontent.fflr2-1.fna.fbcdn.net/v/t45.1...   \n",
              "4             None  https://scontent.fflr2-1.fna.fbcdn.net/v/t45.1...   \n",
              "\n",
              "                                          image_path  \\\n",
              "0  c:\\Users\\Aigot-Developer\\Desktop\\PROJECTS\\AIGO...   \n",
              "1  c:\\Users\\Aigot-Developer\\Desktop\\PROJECTS\\AIGO...   \n",
              "2  c:\\Users\\Aigot-Developer\\Desktop\\PROJECTS\\AIGO...   \n",
              "3  c:\\Users\\Aigot-Developer\\Desktop\\PROJECTS\\AIGO...   \n",
              "4  c:\\Users\\Aigot-Developer\\Desktop\\PROJECTS\\AIGO...   \n",
              "\n",
              "                                         image_array               ad_id  \\\n",
              "0  [[[238.0, 238.0, 230.0], [239.0, 239.0, 231.0]...  120202597513830390   \n",
              "1  [[[238.0, 238.0, 230.0], [239.0, 239.0, 231.0]...  120202597513830390   \n",
              "2  [[[238.0, 238.0, 230.0], [239.0, 239.0, 231.0]...  120202597513830390   \n",
              "3  [[[238.0, 238.0, 230.0], [239.0, 239.0, 231.0]...  120202597513830390   \n",
              "4  [[[238.0, 238.0, 230.0], [239.0, 239.0, 231.0]...  120202597513830390   \n",
              "\n",
              "     age  clicks  date_start   date_stop   gender  impressions  reach  \n",
              "0  18-24       7  2023-12-18  2024-01-16   female          150     84  \n",
              "1  18-24      23  2023-12-18  2024-01-16     male          253    140  \n",
              "2  18-24       0  2023-12-18  2024-01-16  unknown            3      3  \n",
              "3  25-34      42  2023-12-18  2024-01-16   female          653    424  \n",
              "4  25-34      29  2023-12-18  2024-01-16     male          724    456  "
            ]
          },
          "execution_count": 31,
          "metadata": {},
          "output_type": "execute_result"
        }
      ],
      "source": [
        "#Merge the Dataframe using the Campaign ID as the common field\n",
        "df_merged = pd.merge(ads_insight_df, campaigns_df, on=\"campaign_id\", how=\"inner\")\n",
        "df_merged.head()"
      ]
    },
    {
      "cell_type": "code",
      "execution_count": null,
      "metadata": {
        "id": "qIzYLilod0Mk",
        "outputId": "d5178843-2ffd-453e-ab2b-bfee2fa04cdf"
      },
      "outputs": [
        {
          "name": "stdout",
          "output_type": "stream",
          "text": [
            "Shape of Merged DF (327, 20)\n",
            "Num of Null Rows 150\n"
          ]
        }
      ],
      "source": [
        "# Check the None fopr the Adcreatives body\n",
        "null_mask = df_merged.isnull().any(axis=1)\n",
        "null_rows = df_merged[\"adcreatives_body\"][null_mask]\n",
        "\n",
        "print(f\"Shape of Merged DF {df_merged.shape}\")\n",
        "print(f\"Num of Null Rows {len(null_rows)}\")"
      ]
    },
    {
      "cell_type": "code",
      "execution_count": null,
      "metadata": {
        "id": "Mc2DfzWGd0Mk"
      },
      "outputs": [],
      "source": [
        "#Since there are null values, check and drop it\n",
        "df_merged.dropna(inplace=True)"
      ]
    },
    {
      "cell_type": "code",
      "execution_count": null,
      "metadata": {
        "id": "T1v8GsZjd0Mk",
        "outputId": "7ba0ad40-6dfe-42f0-98e0-7665cd1a251f"
      },
      "outputs": [
        {
          "name": "stdout",
          "output_type": "stream",
          "text": [
            "Shape of Merged DF (177, 20)\n",
            "Num of Null Rows 0\n"
          ]
        }
      ],
      "source": [
        "# Check the None fopr the Adcreatives body\n",
        "null_mask = df_merged.isnull().any(axis=1)\n",
        "null_rows = df_merged[\"adcreatives_body\"][null_mask]\n",
        "\n",
        "print(f\"Shape of Merged DF {df_merged.shape}\")\n",
        "print(f\"Num of Null Rows {len(null_rows)}\")"
      ]
    },
    {
      "cell_type": "code",
      "execution_count": null,
      "metadata": {
        "id": "r4qLqb-gd0Ml",
        "outputId": "291cdf99-cca1-4f8d-8c6c-073ead3cdd94"
      },
      "outputs": [
        {
          "data": {
            "text/html": [
              "<div>\n",
              "<style scoped>\n",
              "    .dataframe tbody tr th:only-of-type {\n",
              "        vertical-align: middle;\n",
              "    }\n",
              "\n",
              "    .dataframe tbody tr th {\n",
              "        vertical-align: top;\n",
              "    }\n",
              "\n",
              "    .dataframe thead th {\n",
              "        text-align: right;\n",
              "    }\n",
              "</style>\n",
              "<table border=\"1\" class=\"dataframe\">\n",
              "  <thead>\n",
              "    <tr style=\"text-align: right;\">\n",
              "      <th></th>\n",
              "      <th>adcreatives</th>\n",
              "      <th>adset</th>\n",
              "      <th>campaign</th>\n",
              "      <th>created_time</th>\n",
              "      <th>id</th>\n",
              "      <th>name</th>\n",
              "      <th>adset_name</th>\n",
              "      <th>campaign_id</th>\n",
              "      <th>adcreatives_body</th>\n",
              "      <th>image_url</th>\n",
              "      <th>image_path</th>\n",
              "      <th>image_array</th>\n",
              "      <th>ad_id</th>\n",
              "      <th>age</th>\n",
              "      <th>clicks</th>\n",
              "      <th>date_start</th>\n",
              "      <th>date_stop</th>\n",
              "      <th>gender</th>\n",
              "      <th>impressions</th>\n",
              "      <th>reach</th>\n",
              "    </tr>\n",
              "  </thead>\n",
              "  <tbody>\n",
              "    <tr>\n",
              "      <th>18</th>\n",
              "      <td>{'data': [{'body': 'Se non vuoi affrontare il ...</td>\n",
              "      <td>&lt;AdSet&gt; {\\n    \"id\": \"120204929510280584\",\\n  ...</td>\n",
              "      <td>&lt;Campaign&gt; {\\n    \"account_id\": \"1019539959304...</td>\n",
              "      <td>2023-12-22T15:11:04+0100</td>\n",
              "      <td>120205051396810584</td>\n",
              "      <td>insersione capodanno</td>\n",
              "      <td>Nuovo gruppo di inserzioni Interazioni</td>\n",
              "      <td>120204929509180584</td>\n",
              "      <td>Se non vuoi affrontare il classico cenone orga...</td>\n",
              "      <td>https://scontent.fflr2-1.fna.fbcdn.net/v/t45.1...</td>\n",
              "      <td>c:\\Users\\Aigot-Developer\\Desktop\\PROJECTS\\AIGO...</td>\n",
              "      <td>[[[201.0, 173.0, 151.0], [195.0, 171.0, 151.0]...</td>\n",
              "      <td>120204929510430584</td>\n",
              "      <td>18-24</td>\n",
              "      <td>0</td>\n",
              "      <td>2023-12-18</td>\n",
              "      <td>2024-01-16</td>\n",
              "      <td>female</td>\n",
              "      <td>35</td>\n",
              "      <td>32</td>\n",
              "    </tr>\n",
              "    <tr>\n",
              "      <th>19</th>\n",
              "      <td>{'data': [{'body': 'Se non vuoi affrontare il ...</td>\n",
              "      <td>&lt;AdSet&gt; {\\n    \"id\": \"120204929510280584\",\\n  ...</td>\n",
              "      <td>&lt;Campaign&gt; {\\n    \"account_id\": \"1019539959304...</td>\n",
              "      <td>2023-12-22T15:11:04+0100</td>\n",
              "      <td>120205051396810584</td>\n",
              "      <td>insersione capodanno</td>\n",
              "      <td>Nuovo gruppo di inserzioni Interazioni</td>\n",
              "      <td>120204929509180584</td>\n",
              "      <td>Se non vuoi affrontare il classico cenone orga...</td>\n",
              "      <td>https://scontent.fflr2-1.fna.fbcdn.net/v/t45.1...</td>\n",
              "      <td>c:\\Users\\Aigot-Developer\\Desktop\\PROJECTS\\AIGO...</td>\n",
              "      <td>[[[201.0, 173.0, 151.0], [195.0, 171.0, 151.0]...</td>\n",
              "      <td>120204929510430584</td>\n",
              "      <td>18-24</td>\n",
              "      <td>0</td>\n",
              "      <td>2023-12-18</td>\n",
              "      <td>2024-01-16</td>\n",
              "      <td>male</td>\n",
              "      <td>40</td>\n",
              "      <td>37</td>\n",
              "    </tr>\n",
              "  </tbody>\n",
              "</table>\n",
              "</div>"
            ],
            "text/plain": [
              "                                          adcreatives  \\\n",
              "18  {'data': [{'body': 'Se non vuoi affrontare il ...   \n",
              "19  {'data': [{'body': 'Se non vuoi affrontare il ...   \n",
              "\n",
              "                                                adset  \\\n",
              "18  <AdSet> {\\n    \"id\": \"120204929510280584\",\\n  ...   \n",
              "19  <AdSet> {\\n    \"id\": \"120204929510280584\",\\n  ...   \n",
              "\n",
              "                                             campaign  \\\n",
              "18  <Campaign> {\\n    \"account_id\": \"1019539959304...   \n",
              "19  <Campaign> {\\n    \"account_id\": \"1019539959304...   \n",
              "\n",
              "                created_time                  id                  name  \\\n",
              "18  2023-12-22T15:11:04+0100  120205051396810584  insersione capodanno   \n",
              "19  2023-12-22T15:11:04+0100  120205051396810584  insersione capodanno   \n",
              "\n",
              "                                adset_name         campaign_id  \\\n",
              "18  Nuovo gruppo di inserzioni Interazioni  120204929509180584   \n",
              "19  Nuovo gruppo di inserzioni Interazioni  120204929509180584   \n",
              "\n",
              "                                     adcreatives_body  \\\n",
              "18  Se non vuoi affrontare il classico cenone orga...   \n",
              "19  Se non vuoi affrontare il classico cenone orga...   \n",
              "\n",
              "                                            image_url  \\\n",
              "18  https://scontent.fflr2-1.fna.fbcdn.net/v/t45.1...   \n",
              "19  https://scontent.fflr2-1.fna.fbcdn.net/v/t45.1...   \n",
              "\n",
              "                                           image_path  \\\n",
              "18  c:\\Users\\Aigot-Developer\\Desktop\\PROJECTS\\AIGO...   \n",
              "19  c:\\Users\\Aigot-Developer\\Desktop\\PROJECTS\\AIGO...   \n",
              "\n",
              "                                          image_array               ad_id  \\\n",
              "18  [[[201.0, 173.0, 151.0], [195.0, 171.0, 151.0]...  120204929510430584   \n",
              "19  [[[201.0, 173.0, 151.0], [195.0, 171.0, 151.0]...  120204929510430584   \n",
              "\n",
              "      age  clicks  date_start   date_stop  gender  impressions  reach  \n",
              "18  18-24       0  2023-12-18  2024-01-16  female           35     32  \n",
              "19  18-24       0  2023-12-18  2024-01-16    male           40     37  "
            ]
          },
          "execution_count": 35,
          "metadata": {},
          "output_type": "execute_result"
        }
      ],
      "source": [
        "df_merged.head(2)"
      ]
    },
    {
      "cell_type": "code",
      "execution_count": null,
      "metadata": {
        "id": "x4v4XpYzd0Ml",
        "outputId": "24f9e525-b0ac-4cee-82d9-d6d310062b98"
      },
      "outputs": [
        {
          "data": {
            "text/html": [
              "<div>\n",
              "<style scoped>\n",
              "    .dataframe tbody tr th:only-of-type {\n",
              "        vertical-align: middle;\n",
              "    }\n",
              "\n",
              "    .dataframe tbody tr th {\n",
              "        vertical-align: top;\n",
              "    }\n",
              "\n",
              "    .dataframe thead th {\n",
              "        text-align: right;\n",
              "    }\n",
              "</style>\n",
              "<table border=\"1\" class=\"dataframe\">\n",
              "  <thead>\n",
              "    <tr style=\"text-align: right;\">\n",
              "      <th></th>\n",
              "      <th>adcreatives_body</th>\n",
              "      <th>age</th>\n",
              "      <th>gender</th>\n",
              "      <th>clicks</th>\n",
              "      <th>impressions</th>\n",
              "      <th>reach</th>\n",
              "      <th>image_array</th>\n",
              "    </tr>\n",
              "  </thead>\n",
              "  <tbody>\n",
              "    <tr>\n",
              "      <th>18</th>\n",
              "      <td>Se non vuoi affrontare il classico cenone orga...</td>\n",
              "      <td>18-24</td>\n",
              "      <td>female</td>\n",
              "      <td>0</td>\n",
              "      <td>35</td>\n",
              "      <td>32</td>\n",
              "      <td>[[[201.0, 173.0, 151.0], [195.0, 171.0, 151.0]...</td>\n",
              "    </tr>\n",
              "    <tr>\n",
              "      <th>19</th>\n",
              "      <td>Se non vuoi affrontare il classico cenone orga...</td>\n",
              "      <td>18-24</td>\n",
              "      <td>male</td>\n",
              "      <td>0</td>\n",
              "      <td>40</td>\n",
              "      <td>37</td>\n",
              "      <td>[[[201.0, 173.0, 151.0], [195.0, 171.0, 151.0]...</td>\n",
              "    </tr>\n",
              "  </tbody>\n",
              "</table>\n",
              "</div>"
            ],
            "text/plain": [
              "                                     adcreatives_body    age  gender  clicks  \\\n",
              "18  Se non vuoi affrontare il classico cenone orga...  18-24  female       0   \n",
              "19  Se non vuoi affrontare il classico cenone orga...  18-24    male       0   \n",
              "\n",
              "    impressions  reach                                        image_array  \n",
              "18           35     32  [[[201.0, 173.0, 151.0], [195.0, 171.0, 151.0]...  \n",
              "19           40     37  [[[201.0, 173.0, 151.0], [195.0, 171.0, 151.0]...  "
            ]
          },
          "execution_count": 36,
          "metadata": {},
          "output_type": "execute_result"
        }
      ],
      "source": [
        "columns_to_select = ['adcreatives_body', 'age', 'gender', 'clicks','impressions', 'reach', 'image_array']\n",
        "\n",
        "# Create the final dataframe (Dataframe 3) with the condition\n",
        "final_df = df_merged[df_merged['adcreatives_body'].notna()][columns_to_select]\n",
        "final_df.head(2)"
      ]
    },
    {
      "cell_type": "code",
      "execution_count": null,
      "metadata": {
        "id": "MaHPx_cwd0Ml",
        "outputId": "454b173a-8f74-4c16-a6c3-abe7c1f37d46"
      },
      "outputs": [
        {
          "name": "stdout",
          "output_type": "stream",
          "text": [
            "\n",
            "Label Mapping:\n",
            "gender: {'female': 0, 'male': 1, 'unknown': 2}\n",
            "age: {'18-24': 0, '25-34': 1, '35-44': 2, '45-54': 3, '55-64': 4, '65+': 5}\n"
          ]
        }
      ],
      "source": [
        "from sklearn.preprocessing import LabelEncoder\n",
        "\n",
        "# Create a dictionary to store the mapping\n",
        "label_mapping = {}\n",
        "\n",
        "# Encode 'gender' column\n",
        "gender_encoder = LabelEncoder()\n",
        "final_df['gender'] = gender_encoder.fit_transform(final_df['gender'])\n",
        "label_mapping['gender'] = dict(zip(gender_encoder.classes_, gender_encoder.transform(gender_encoder.classes_)))\n",
        "\n",
        "# Encode 'age' column\n",
        "age_encoder = LabelEncoder()\n",
        "final_df['age'] = age_encoder.fit_transform(final_df['age'])\n",
        "label_mapping['age'] = dict(zip(age_encoder.classes_, age_encoder.transform(age_encoder.classes_)))\n",
        "\n",
        "# Print the encoded DataFrame and label mapping\n",
        "# print(\"Encoded DataFrame:\")\n",
        "# print(final_df)\n",
        "\n",
        "print(\"\\nLabel Mapping:\")\n",
        "for column, mapping in label_mapping.items():\n",
        "    print(f\"{column}: {mapping}\")\n"
      ]
    },
    {
      "cell_type": "markdown",
      "metadata": {
        "id": "EPotaCfWd0Ml"
      },
      "source": [
        "Observe the Dataframe to see if it is fine for Vectorization of the Text Column"
      ]
    },
    {
      "cell_type": "code",
      "execution_count": null,
      "metadata": {
        "id": "Q3XuYZ4Ld0Ml",
        "outputId": "93ac75ec-ef64-440b-cbbc-c83c4c944256"
      },
      "outputs": [
        {
          "data": {
            "text/html": [
              "<div>\n",
              "<style scoped>\n",
              "    .dataframe tbody tr th:only-of-type {\n",
              "        vertical-align: middle;\n",
              "    }\n",
              "\n",
              "    .dataframe tbody tr th {\n",
              "        vertical-align: top;\n",
              "    }\n",
              "\n",
              "    .dataframe thead th {\n",
              "        text-align: right;\n",
              "    }\n",
              "</style>\n",
              "<table border=\"1\" class=\"dataframe\">\n",
              "  <thead>\n",
              "    <tr style=\"text-align: right;\">\n",
              "      <th></th>\n",
              "      <th>adcreatives_body</th>\n",
              "      <th>age</th>\n",
              "      <th>gender</th>\n",
              "      <th>clicks</th>\n",
              "      <th>impressions</th>\n",
              "      <th>reach</th>\n",
              "      <th>image_array</th>\n",
              "    </tr>\n",
              "  </thead>\n",
              "  <tbody>\n",
              "    <tr>\n",
              "      <th>18</th>\n",
              "      <td>Se non vuoi affrontare il classico cenone orga...</td>\n",
              "      <td>0</td>\n",
              "      <td>0</td>\n",
              "      <td>0</td>\n",
              "      <td>35</td>\n",
              "      <td>32</td>\n",
              "      <td>[[[201.0, 173.0, 151.0], [195.0, 171.0, 151.0]...</td>\n",
              "    </tr>\n",
              "    <tr>\n",
              "      <th>19</th>\n",
              "      <td>Se non vuoi affrontare il classico cenone orga...</td>\n",
              "      <td>0</td>\n",
              "      <td>1</td>\n",
              "      <td>0</td>\n",
              "      <td>40</td>\n",
              "      <td>37</td>\n",
              "      <td>[[[201.0, 173.0, 151.0], [195.0, 171.0, 151.0]...</td>\n",
              "    </tr>\n",
              "    <tr>\n",
              "      <th>20</th>\n",
              "      <td>Se non vuoi affrontare il classico cenone orga...</td>\n",
              "      <td>0</td>\n",
              "      <td>2</td>\n",
              "      <td>0</td>\n",
              "      <td>1</td>\n",
              "      <td>1</td>\n",
              "      <td>[[[201.0, 173.0, 151.0], [195.0, 171.0, 151.0]...</td>\n",
              "    </tr>\n",
              "    <tr>\n",
              "      <th>21</th>\n",
              "      <td>Se non vuoi affrontare il classico cenone orga...</td>\n",
              "      <td>1</td>\n",
              "      <td>0</td>\n",
              "      <td>6</td>\n",
              "      <td>59</td>\n",
              "      <td>55</td>\n",
              "      <td>[[[201.0, 173.0, 151.0], [195.0, 171.0, 151.0]...</td>\n",
              "    </tr>\n",
              "    <tr>\n",
              "      <th>22</th>\n",
              "      <td>Se non vuoi affrontare il classico cenone orga...</td>\n",
              "      <td>1</td>\n",
              "      <td>1</td>\n",
              "      <td>4</td>\n",
              "      <td>107</td>\n",
              "      <td>92</td>\n",
              "      <td>[[[201.0, 173.0, 151.0], [195.0, 171.0, 151.0]...</td>\n",
              "    </tr>\n",
              "  </tbody>\n",
              "</table>\n",
              "</div>"
            ],
            "text/plain": [
              "                                     adcreatives_body  age  gender  clicks  \\\n",
              "18  Se non vuoi affrontare il classico cenone orga...    0       0       0   \n",
              "19  Se non vuoi affrontare il classico cenone orga...    0       1       0   \n",
              "20  Se non vuoi affrontare il classico cenone orga...    0       2       0   \n",
              "21  Se non vuoi affrontare il classico cenone orga...    1       0       6   \n",
              "22  Se non vuoi affrontare il classico cenone orga...    1       1       4   \n",
              "\n",
              "    impressions  reach                                        image_array  \n",
              "18           35     32  [[[201.0, 173.0, 151.0], [195.0, 171.0, 151.0]...  \n",
              "19           40     37  [[[201.0, 173.0, 151.0], [195.0, 171.0, 151.0]...  \n",
              "20            1      1  [[[201.0, 173.0, 151.0], [195.0, 171.0, 151.0]...  \n",
              "21           59     55  [[[201.0, 173.0, 151.0], [195.0, 171.0, 151.0]...  \n",
              "22          107     92  [[[201.0, 173.0, 151.0], [195.0, 171.0, 151.0]...  "
            ]
          },
          "execution_count": 38,
          "metadata": {},
          "output_type": "execute_result"
        }
      ],
      "source": [
        "final_df.head()"
      ]
    },
    {
      "cell_type": "markdown",
      "metadata": {
        "id": "Jjm7agDmd0Ml"
      },
      "source": [
        "#### Clean & Vectorization of The Text Columns"
      ]
    },
    {
      "cell_type": "code",
      "execution_count": null,
      "metadata": {
        "id": "T0fFiXsSd0Ml",
        "outputId": "52f7b37f-8572-4ef8-9aa0-3efe4e28b651"
      },
      "outputs": [
        {
          "name": "stderr",
          "output_type": "stream",
          "text": [
            "[nltk_data] Downloading package stopwords to C:\\Users\\Aigot-\n",
            "[nltk_data]     Developer\\AppData\\Roaming\\nltk_data...\n",
            "[nltk_data]   Package stopwords is already up-to-date!\n"
          ]
        }
      ],
      "source": [
        "import texthero as hero\n",
        "from spacy.lang.it import Italian\n",
        "\n",
        "import nltk\n",
        "nltk.download('stopwords')\n",
        "from nltk.corpus import stopwords\n",
        "\n",
        "# Load Italian stop words\n",
        "nlp_it = Italian()\n",
        "italian_stopwords_v1 = set(nlp_it.Defaults.stop_words)\n",
        "\n",
        "# NLTK Stopwords\n",
        "italian_stopwords_v2 = stopwords.words(\"italian\")\n",
        "\n",
        "# Perform a Union of the set of stopwords\n",
        "aigot_custom_stopwords = italian_stopwords_v1.union(italian_stopwords_v2, set([\"lo\", \"l\"]))"
      ]
    },
    {
      "cell_type": "code",
      "execution_count": null,
      "metadata": {
        "id": "5yMnUeUQd0Ml"
      },
      "outputs": [],
      "source": [
        "# Remove the Stopwords by passing into the Hero Pipeline\n",
        "final_df[\"clean_adcreative_body\"] = hero.clean(final_df[\"adcreatives_body\"])\n",
        "# final_df[\"clean_adset_name\"] = hero.clean(final_df[\"adset_name\"])"
      ]
    },
    {
      "cell_type": "code",
      "execution_count": null,
      "metadata": {
        "id": "FWgD2udMd0Ml",
        "outputId": "72f850f2-6910-4b2e-e7ae-16e2ea64094c"
      },
      "outputs": [
        {
          "name": "stderr",
          "output_type": "stream",
          "text": [
            "Pandas Apply: 100%|██████████| 177/177 [00:00<00:00, 179062.18it/s]\n"
          ]
        },
        {
          "data": {
            "text/html": [
              "<div>\n",
              "<style scoped>\n",
              "    .dataframe tbody tr th:only-of-type {\n",
              "        vertical-align: middle;\n",
              "    }\n",
              "\n",
              "    .dataframe tbody tr th {\n",
              "        vertical-align: top;\n",
              "    }\n",
              "\n",
              "    .dataframe thead th {\n",
              "        text-align: right;\n",
              "    }\n",
              "</style>\n",
              "<table border=\"1\" class=\"dataframe\">\n",
              "  <thead>\n",
              "    <tr style=\"text-align: right;\">\n",
              "      <th></th>\n",
              "      <th>adcreatives_body</th>\n",
              "      <th>age</th>\n",
              "      <th>gender</th>\n",
              "      <th>clicks</th>\n",
              "      <th>impressions</th>\n",
              "      <th>reach</th>\n",
              "      <th>image_array</th>\n",
              "      <th>clean_adcreative_body</th>\n",
              "    </tr>\n",
              "  </thead>\n",
              "  <tbody>\n",
              "    <tr>\n",
              "      <th>18</th>\n",
              "      <td>Se non vuoi affrontare il classico cenone orga...</td>\n",
              "      <td>0</td>\n",
              "      <td>0</td>\n",
              "      <td>0</td>\n",
              "      <td>35</td>\n",
              "      <td>32</td>\n",
              "      <td>[[[201.0, 173.0, 151.0], [195.0, 171.0, 151.0]...</td>\n",
              "      <td>vuoi affrontare classico cenone organizzato vu...</td>\n",
              "    </tr>\n",
              "    <tr>\n",
              "      <th>19</th>\n",
              "      <td>Se non vuoi affrontare il classico cenone orga...</td>\n",
              "      <td>0</td>\n",
              "      <td>1</td>\n",
              "      <td>0</td>\n",
              "      <td>40</td>\n",
              "      <td>37</td>\n",
              "      <td>[[[201.0, 173.0, 151.0], [195.0, 171.0, 151.0]...</td>\n",
              "      <td>vuoi affrontare classico cenone organizzato vu...</td>\n",
              "    </tr>\n",
              "    <tr>\n",
              "      <th>20</th>\n",
              "      <td>Se non vuoi affrontare il classico cenone orga...</td>\n",
              "      <td>0</td>\n",
              "      <td>2</td>\n",
              "      <td>0</td>\n",
              "      <td>1</td>\n",
              "      <td>1</td>\n",
              "      <td>[[[201.0, 173.0, 151.0], [195.0, 171.0, 151.0]...</td>\n",
              "      <td>vuoi affrontare classico cenone organizzato vu...</td>\n",
              "    </tr>\n",
              "    <tr>\n",
              "      <th>21</th>\n",
              "      <td>Se non vuoi affrontare il classico cenone orga...</td>\n",
              "      <td>1</td>\n",
              "      <td>0</td>\n",
              "      <td>6</td>\n",
              "      <td>59</td>\n",
              "      <td>55</td>\n",
              "      <td>[[[201.0, 173.0, 151.0], [195.0, 171.0, 151.0]...</td>\n",
              "      <td>vuoi affrontare classico cenone organizzato vu...</td>\n",
              "    </tr>\n",
              "    <tr>\n",
              "      <th>22</th>\n",
              "      <td>Se non vuoi affrontare il classico cenone orga...</td>\n",
              "      <td>1</td>\n",
              "      <td>1</td>\n",
              "      <td>4</td>\n",
              "      <td>107</td>\n",
              "      <td>92</td>\n",
              "      <td>[[[201.0, 173.0, 151.0], [195.0, 171.0, 151.0]...</td>\n",
              "      <td>vuoi affrontare classico cenone organizzato vu...</td>\n",
              "    </tr>\n",
              "  </tbody>\n",
              "</table>\n",
              "</div>"
            ],
            "text/plain": [
              "                                     adcreatives_body  age  gender  clicks  \\\n",
              "18  Se non vuoi affrontare il classico cenone orga...    0       0       0   \n",
              "19  Se non vuoi affrontare il classico cenone orga...    0       1       0   \n",
              "20  Se non vuoi affrontare il classico cenone orga...    0       2       0   \n",
              "21  Se non vuoi affrontare il classico cenone orga...    1       0       6   \n",
              "22  Se non vuoi affrontare il classico cenone orga...    1       1       4   \n",
              "\n",
              "    impressions  reach                                        image_array  \\\n",
              "18           35     32  [[[201.0, 173.0, 151.0], [195.0, 171.0, 151.0]...   \n",
              "19           40     37  [[[201.0, 173.0, 151.0], [195.0, 171.0, 151.0]...   \n",
              "20            1      1  [[[201.0, 173.0, 151.0], [195.0, 171.0, 151.0]...   \n",
              "21           59     55  [[[201.0, 173.0, 151.0], [195.0, 171.0, 151.0]...   \n",
              "22          107     92  [[[201.0, 173.0, 151.0], [195.0, 171.0, 151.0]...   \n",
              "\n",
              "                                clean_adcreative_body  \n",
              "18  vuoi affrontare classico cenone organizzato vu...  \n",
              "19  vuoi affrontare classico cenone organizzato vu...  \n",
              "20  vuoi affrontare classico cenone organizzato vu...  \n",
              "21  vuoi affrontare classico cenone organizzato vu...  \n",
              "22  vuoi affrontare classico cenone organizzato vu...  "
            ]
          },
          "execution_count": 41,
          "metadata": {},
          "output_type": "execute_result"
        }
      ],
      "source": [
        "#Remove Stop Words from the Column\n",
        "final_df[\"clean_adcreative_body\"] = final_df[\"clean_adcreative_body\"].swifter.apply(lambda x: ' '.join([word for word in x.split() if word not in (aigot_custom_stopwords)]))\n",
        "# final_df[\"clean_adset_name\"] = final_df[\"clean_adset_name\"].swifter.apply(lambda x: ' '.join([word for word in x.split() if word not in (aigot_custom_stopwords)]))\n",
        "final_df.head()"
      ]
    },
    {
      "cell_type": "markdown",
      "metadata": {
        "id": "hAy7BZHNd0Mm"
      },
      "source": [
        "<div style=\"font-size: 70%;\">\n",
        "Now that the text field has been cleaned and all stop words removed. Next process is to begin the vectorization\n",
        "But if the hero.clean pipelines does not work, you can make use of this custom one below:\n",
        "\n",
        "```python\n",
        "# Define custom pipeline\n",
        "custom_pipeline = [\n",
        "    preprocessing.fillna,\n",
        "    preprocessing.lowercase,\n",
        "    preprocessing.remove_digits,\n",
        "    preprocessing.remove_punctuation,\n",
        "    preprocessing.remove_diacritics,\n",
        "    preprocessing.remove_whitespace,\n",
        "    preprocessing.stem,\n",
        "    # Add custom stop words removal\n",
        "    lambda s: ' '.join(word for word in s.split() if word.lower() not in italian_stopwords)\n",
        "]\n",
        "\n",
        "# Pass the custom_pipeline to the pipeline argument\n",
        "final_df['clean_title'] = hero.clean(final_df['title'], pipeline=custom_pipeline)\n",
        "\n",
        "# Display the cleaned DataFrame\n",
        "final_df.head()\n",
        "</div>\n"
      ]
    },
    {
      "cell_type": "markdown",
      "metadata": {
        "id": "p7XgW9IBd0Mm"
      },
      "source": [
        "###### Inspecting the top words in Adcreative Field"
      ]
    },
    {
      "cell_type": "code",
      "execution_count": null,
      "metadata": {
        "id": "kZxOrkGLd0Mm",
        "outputId": "b9a17c09-7efe-4744-ec6f-f08511870d25"
      },
      "outputs": [
        {
          "data": {
            "application/vnd.plotly.v1+json": {
              "config": {
                "plotlyServerURL": "https://plot.ly"
              },
              "data": [
                {
                  "alignmentgroup": "True",
                  "hovertemplate": "variable=count<br>clean_adcreative_body=%{x}<br>value=%{y}<extra></extra>",
                  "legendgroup": "count",
                  "marker": {
                    "color": "#636efa",
                    "pattern": {
                      "shape": ""
                    }
                  },
                  "name": "count",
                  "offsetgroup": "count",
                  "orientation": "v",
                  "showlegend": true,
                  "textposition": "auto",
                  "type": "bar",
                  "x": [
                    "menu",
                    "prenotazioni",
                    "euro",
                    "dicembre",
                    "info",
                    "scopri",
                    "silvestro",
                    "san",
                    "notte",
                    "vuoi"
                  ],
                  "xaxis": "x",
                  "y": [
                    141,
                    89,
                    89,
                    72,
                    71,
                    71,
                    71,
                    71,
                    71,
                    70
                  ],
                  "yaxis": "y"
                }
              ],
              "layout": {
                "barmode": "relative",
                "legend": {
                  "title": {
                    "text": "variable"
                  },
                  "tracegroupgap": 0
                },
                "margin": {
                  "t": 60
                },
                "template": {
                  "data": {
                    "bar": [
                      {
                        "error_x": {
                          "color": "#2a3f5f"
                        },
                        "error_y": {
                          "color": "#2a3f5f"
                        },
                        "marker": {
                          "line": {
                            "color": "#E5ECF6",
                            "width": 0.5
                          },
                          "pattern": {
                            "fillmode": "overlay",
                            "size": 10,
                            "solidity": 0.2
                          }
                        },
                        "type": "bar"
                      }
                    ],
                    "barpolar": [
                      {
                        "marker": {
                          "line": {
                            "color": "#E5ECF6",
                            "width": 0.5
                          },
                          "pattern": {
                            "fillmode": "overlay",
                            "size": 10,
                            "solidity": 0.2
                          }
                        },
                        "type": "barpolar"
                      }
                    ],
                    "carpet": [
                      {
                        "aaxis": {
                          "endlinecolor": "#2a3f5f",
                          "gridcolor": "white",
                          "linecolor": "white",
                          "minorgridcolor": "white",
                          "startlinecolor": "#2a3f5f"
                        },
                        "baxis": {
                          "endlinecolor": "#2a3f5f",
                          "gridcolor": "white",
                          "linecolor": "white",
                          "minorgridcolor": "white",
                          "startlinecolor": "#2a3f5f"
                        },
                        "type": "carpet"
                      }
                    ],
                    "choropleth": [
                      {
                        "colorbar": {
                          "outlinewidth": 0,
                          "ticks": ""
                        },
                        "type": "choropleth"
                      }
                    ],
                    "contour": [
                      {
                        "colorbar": {
                          "outlinewidth": 0,
                          "ticks": ""
                        },
                        "colorscale": [
                          [
                            0,
                            "#0d0887"
                          ],
                          [
                            0.1111111111111111,
                            "#46039f"
                          ],
                          [
                            0.2222222222222222,
                            "#7201a8"
                          ],
                          [
                            0.3333333333333333,
                            "#9c179e"
                          ],
                          [
                            0.4444444444444444,
                            "#bd3786"
                          ],
                          [
                            0.5555555555555556,
                            "#d8576b"
                          ],
                          [
                            0.6666666666666666,
                            "#ed7953"
                          ],
                          [
                            0.7777777777777778,
                            "#fb9f3a"
                          ],
                          [
                            0.8888888888888888,
                            "#fdca26"
                          ],
                          [
                            1,
                            "#f0f921"
                          ]
                        ],
                        "type": "contour"
                      }
                    ],
                    "contourcarpet": [
                      {
                        "colorbar": {
                          "outlinewidth": 0,
                          "ticks": ""
                        },
                        "type": "contourcarpet"
                      }
                    ],
                    "heatmap": [
                      {
                        "colorbar": {
                          "outlinewidth": 0,
                          "ticks": ""
                        },
                        "colorscale": [
                          [
                            0,
                            "#0d0887"
                          ],
                          [
                            0.1111111111111111,
                            "#46039f"
                          ],
                          [
                            0.2222222222222222,
                            "#7201a8"
                          ],
                          [
                            0.3333333333333333,
                            "#9c179e"
                          ],
                          [
                            0.4444444444444444,
                            "#bd3786"
                          ],
                          [
                            0.5555555555555556,
                            "#d8576b"
                          ],
                          [
                            0.6666666666666666,
                            "#ed7953"
                          ],
                          [
                            0.7777777777777778,
                            "#fb9f3a"
                          ],
                          [
                            0.8888888888888888,
                            "#fdca26"
                          ],
                          [
                            1,
                            "#f0f921"
                          ]
                        ],
                        "type": "heatmap"
                      }
                    ],
                    "heatmapgl": [
                      {
                        "colorbar": {
                          "outlinewidth": 0,
                          "ticks": ""
                        },
                        "colorscale": [
                          [
                            0,
                            "#0d0887"
                          ],
                          [
                            0.1111111111111111,
                            "#46039f"
                          ],
                          [
                            0.2222222222222222,
                            "#7201a8"
                          ],
                          [
                            0.3333333333333333,
                            "#9c179e"
                          ],
                          [
                            0.4444444444444444,
                            "#bd3786"
                          ],
                          [
                            0.5555555555555556,
                            "#d8576b"
                          ],
                          [
                            0.6666666666666666,
                            "#ed7953"
                          ],
                          [
                            0.7777777777777778,
                            "#fb9f3a"
                          ],
                          [
                            0.8888888888888888,
                            "#fdca26"
                          ],
                          [
                            1,
                            "#f0f921"
                          ]
                        ],
                        "type": "heatmapgl"
                      }
                    ],
                    "histogram": [
                      {
                        "marker": {
                          "pattern": {
                            "fillmode": "overlay",
                            "size": 10,
                            "solidity": 0.2
                          }
                        },
                        "type": "histogram"
                      }
                    ],
                    "histogram2d": [
                      {
                        "colorbar": {
                          "outlinewidth": 0,
                          "ticks": ""
                        },
                        "colorscale": [
                          [
                            0,
                            "#0d0887"
                          ],
                          [
                            0.1111111111111111,
                            "#46039f"
                          ],
                          [
                            0.2222222222222222,
                            "#7201a8"
                          ],
                          [
                            0.3333333333333333,
                            "#9c179e"
                          ],
                          [
                            0.4444444444444444,
                            "#bd3786"
                          ],
                          [
                            0.5555555555555556,
                            "#d8576b"
                          ],
                          [
                            0.6666666666666666,
                            "#ed7953"
                          ],
                          [
                            0.7777777777777778,
                            "#fb9f3a"
                          ],
                          [
                            0.8888888888888888,
                            "#fdca26"
                          ],
                          [
                            1,
                            "#f0f921"
                          ]
                        ],
                        "type": "histogram2d"
                      }
                    ],
                    "histogram2dcontour": [
                      {
                        "colorbar": {
                          "outlinewidth": 0,
                          "ticks": ""
                        },
                        "colorscale": [
                          [
                            0,
                            "#0d0887"
                          ],
                          [
                            0.1111111111111111,
                            "#46039f"
                          ],
                          [
                            0.2222222222222222,
                            "#7201a8"
                          ],
                          [
                            0.3333333333333333,
                            "#9c179e"
                          ],
                          [
                            0.4444444444444444,
                            "#bd3786"
                          ],
                          [
                            0.5555555555555556,
                            "#d8576b"
                          ],
                          [
                            0.6666666666666666,
                            "#ed7953"
                          ],
                          [
                            0.7777777777777778,
                            "#fb9f3a"
                          ],
                          [
                            0.8888888888888888,
                            "#fdca26"
                          ],
                          [
                            1,
                            "#f0f921"
                          ]
                        ],
                        "type": "histogram2dcontour"
                      }
                    ],
                    "mesh3d": [
                      {
                        "colorbar": {
                          "outlinewidth": 0,
                          "ticks": ""
                        },
                        "type": "mesh3d"
                      }
                    ],
                    "parcoords": [
                      {
                        "line": {
                          "colorbar": {
                            "outlinewidth": 0,
                            "ticks": ""
                          }
                        },
                        "type": "parcoords"
                      }
                    ],
                    "pie": [
                      {
                        "automargin": true,
                        "type": "pie"
                      }
                    ],
                    "scatter": [
                      {
                        "fillpattern": {
                          "fillmode": "overlay",
                          "size": 10,
                          "solidity": 0.2
                        },
                        "type": "scatter"
                      }
                    ],
                    "scatter3d": [
                      {
                        "line": {
                          "colorbar": {
                            "outlinewidth": 0,
                            "ticks": ""
                          }
                        },
                        "marker": {
                          "colorbar": {
                            "outlinewidth": 0,
                            "ticks": ""
                          }
                        },
                        "type": "scatter3d"
                      }
                    ],
                    "scattercarpet": [
                      {
                        "marker": {
                          "colorbar": {
                            "outlinewidth": 0,
                            "ticks": ""
                          }
                        },
                        "type": "scattercarpet"
                      }
                    ],
                    "scattergeo": [
                      {
                        "marker": {
                          "colorbar": {
                            "outlinewidth": 0,
                            "ticks": ""
                          }
                        },
                        "type": "scattergeo"
                      }
                    ],
                    "scattergl": [
                      {
                        "marker": {
                          "colorbar": {
                            "outlinewidth": 0,
                            "ticks": ""
                          }
                        },
                        "type": "scattergl"
                      }
                    ],
                    "scattermapbox": [
                      {
                        "marker": {
                          "colorbar": {
                            "outlinewidth": 0,
                            "ticks": ""
                          }
                        },
                        "type": "scattermapbox"
                      }
                    ],
                    "scatterpolar": [
                      {
                        "marker": {
                          "colorbar": {
                            "outlinewidth": 0,
                            "ticks": ""
                          }
                        },
                        "type": "scatterpolar"
                      }
                    ],
                    "scatterpolargl": [
                      {
                        "marker": {
                          "colorbar": {
                            "outlinewidth": 0,
                            "ticks": ""
                          }
                        },
                        "type": "scatterpolargl"
                      }
                    ],
                    "scatterternary": [
                      {
                        "marker": {
                          "colorbar": {
                            "outlinewidth": 0,
                            "ticks": ""
                          }
                        },
                        "type": "scatterternary"
                      }
                    ],
                    "surface": [
                      {
                        "colorbar": {
                          "outlinewidth": 0,
                          "ticks": ""
                        },
                        "colorscale": [
                          [
                            0,
                            "#0d0887"
                          ],
                          [
                            0.1111111111111111,
                            "#46039f"
                          ],
                          [
                            0.2222222222222222,
                            "#7201a8"
                          ],
                          [
                            0.3333333333333333,
                            "#9c179e"
                          ],
                          [
                            0.4444444444444444,
                            "#bd3786"
                          ],
                          [
                            0.5555555555555556,
                            "#d8576b"
                          ],
                          [
                            0.6666666666666666,
                            "#ed7953"
                          ],
                          [
                            0.7777777777777778,
                            "#fb9f3a"
                          ],
                          [
                            0.8888888888888888,
                            "#fdca26"
                          ],
                          [
                            1,
                            "#f0f921"
                          ]
                        ],
                        "type": "surface"
                      }
                    ],
                    "table": [
                      {
                        "cells": {
                          "fill": {
                            "color": "#EBF0F8"
                          },
                          "line": {
                            "color": "white"
                          }
                        },
                        "header": {
                          "fill": {
                            "color": "#C8D4E3"
                          },
                          "line": {
                            "color": "white"
                          }
                        },
                        "type": "table"
                      }
                    ]
                  },
                  "layout": {
                    "annotationdefaults": {
                      "arrowcolor": "#2a3f5f",
                      "arrowhead": 0,
                      "arrowwidth": 1
                    },
                    "autotypenumbers": "strict",
                    "coloraxis": {
                      "colorbar": {
                        "outlinewidth": 0,
                        "ticks": ""
                      }
                    },
                    "colorscale": {
                      "diverging": [
                        [
                          0,
                          "#8e0152"
                        ],
                        [
                          0.1,
                          "#c51b7d"
                        ],
                        [
                          0.2,
                          "#de77ae"
                        ],
                        [
                          0.3,
                          "#f1b6da"
                        ],
                        [
                          0.4,
                          "#fde0ef"
                        ],
                        [
                          0.5,
                          "#f7f7f7"
                        ],
                        [
                          0.6,
                          "#e6f5d0"
                        ],
                        [
                          0.7,
                          "#b8e186"
                        ],
                        [
                          0.8,
                          "#7fbc41"
                        ],
                        [
                          0.9,
                          "#4d9221"
                        ],
                        [
                          1,
                          "#276419"
                        ]
                      ],
                      "sequential": [
                        [
                          0,
                          "#0d0887"
                        ],
                        [
                          0.1111111111111111,
                          "#46039f"
                        ],
                        [
                          0.2222222222222222,
                          "#7201a8"
                        ],
                        [
                          0.3333333333333333,
                          "#9c179e"
                        ],
                        [
                          0.4444444444444444,
                          "#bd3786"
                        ],
                        [
                          0.5555555555555556,
                          "#d8576b"
                        ],
                        [
                          0.6666666666666666,
                          "#ed7953"
                        ],
                        [
                          0.7777777777777778,
                          "#fb9f3a"
                        ],
                        [
                          0.8888888888888888,
                          "#fdca26"
                        ],
                        [
                          1,
                          "#f0f921"
                        ]
                      ],
                      "sequentialminus": [
                        [
                          0,
                          "#0d0887"
                        ],
                        [
                          0.1111111111111111,
                          "#46039f"
                        ],
                        [
                          0.2222222222222222,
                          "#7201a8"
                        ],
                        [
                          0.3333333333333333,
                          "#9c179e"
                        ],
                        [
                          0.4444444444444444,
                          "#bd3786"
                        ],
                        [
                          0.5555555555555556,
                          "#d8576b"
                        ],
                        [
                          0.6666666666666666,
                          "#ed7953"
                        ],
                        [
                          0.7777777777777778,
                          "#fb9f3a"
                        ],
                        [
                          0.8888888888888888,
                          "#fdca26"
                        ],
                        [
                          1,
                          "#f0f921"
                        ]
                      ]
                    },
                    "colorway": [
                      "#636efa",
                      "#EF553B",
                      "#00cc96",
                      "#ab63fa",
                      "#FFA15A",
                      "#19d3f3",
                      "#FF6692",
                      "#B6E880",
                      "#FF97FF",
                      "#FECB52"
                    ],
                    "font": {
                      "color": "#2a3f5f"
                    },
                    "geo": {
                      "bgcolor": "white",
                      "lakecolor": "white",
                      "landcolor": "#E5ECF6",
                      "showlakes": true,
                      "showland": true,
                      "subunitcolor": "white"
                    },
                    "hoverlabel": {
                      "align": "left"
                    },
                    "hovermode": "closest",
                    "mapbox": {
                      "style": "light"
                    },
                    "paper_bgcolor": "white",
                    "plot_bgcolor": "#E5ECF6",
                    "polar": {
                      "angularaxis": {
                        "gridcolor": "white",
                        "linecolor": "white",
                        "ticks": ""
                      },
                      "bgcolor": "#E5ECF6",
                      "radialaxis": {
                        "gridcolor": "white",
                        "linecolor": "white",
                        "ticks": ""
                      }
                    },
                    "scene": {
                      "xaxis": {
                        "backgroundcolor": "#E5ECF6",
                        "gridcolor": "white",
                        "gridwidth": 2,
                        "linecolor": "white",
                        "showbackground": true,
                        "ticks": "",
                        "zerolinecolor": "white"
                      },
                      "yaxis": {
                        "backgroundcolor": "#E5ECF6",
                        "gridcolor": "white",
                        "gridwidth": 2,
                        "linecolor": "white",
                        "showbackground": true,
                        "ticks": "",
                        "zerolinecolor": "white"
                      },
                      "zaxis": {
                        "backgroundcolor": "#E5ECF6",
                        "gridcolor": "white",
                        "gridwidth": 2,
                        "linecolor": "white",
                        "showbackground": true,
                        "ticks": "",
                        "zerolinecolor": "white"
                      }
                    },
                    "shapedefaults": {
                      "line": {
                        "color": "#2a3f5f"
                      }
                    },
                    "ternary": {
                      "aaxis": {
                        "gridcolor": "white",
                        "linecolor": "white",
                        "ticks": ""
                      },
                      "baxis": {
                        "gridcolor": "white",
                        "linecolor": "white",
                        "ticks": ""
                      },
                      "bgcolor": "#E5ECF6",
                      "caxis": {
                        "gridcolor": "white",
                        "linecolor": "white",
                        "ticks": ""
                      }
                    },
                    "title": {
                      "x": 0.05
                    },
                    "xaxis": {
                      "automargin": true,
                      "gridcolor": "white",
                      "linecolor": "white",
                      "ticks": "",
                      "title": {
                        "standoff": 15
                      },
                      "zerolinecolor": "white",
                      "zerolinewidth": 2
                    },
                    "yaxis": {
                      "automargin": true,
                      "gridcolor": "white",
                      "linecolor": "white",
                      "ticks": "",
                      "title": {
                        "standoff": 15
                      },
                      "zerolinecolor": "white",
                      "zerolinewidth": 2
                    }
                  }
                },
                "xaxis": {
                  "anchor": "y",
                  "domain": [
                    0,
                    1
                  ],
                  "title": {
                    "text": "clean_adcreative_body"
                  }
                },
                "yaxis": {
                  "anchor": "x",
                  "domain": [
                    0,
                    1
                  ],
                  "title": {
                    "text": "value"
                  }
                }
              }
            }
          },
          "metadata": {},
          "output_type": "display_data"
        },
        {
          "data": {
            "text/plain": [
              "clean_adcreative_body\n",
              "menu            141\n",
              "prenotazioni     89\n",
              "euro             89\n",
              "dicembre         72\n",
              "info             71\n",
              "Name: count, dtype: int64"
            ]
          },
          "execution_count": 42,
          "metadata": {},
          "output_type": "execute_result"
        }
      ],
      "source": [
        "\n",
        "tw = hero.visualization.top_words(final_df[\"clean_adcreative_body\"]).head(10)\n",
        "import plotly.express as px\n",
        "\n",
        "fig = px.bar(tw)\n",
        "fig.show()\n",
        "tw.head()"
      ]
    },
    {
      "cell_type": "markdown",
      "metadata": {
        "id": "GmpdtnJnd0Mm"
      },
      "source": [
        "###### Construct the Pipeline to visualize the Title and AdCreatives description using PCA values"
      ]
    },
    {
      "cell_type": "code",
      "execution_count": null,
      "metadata": {
        "id": "Za90-3Rzd0Mm"
      },
      "outputs": [],
      "source": [
        "# Make Tf-Idf of the Description\n",
        "from gensim.models.doc2vec import Doc2Vec, TaggedDocument\n",
        "\n",
        "cards = [TaggedDocument(doc.split(' '), [i]) for i, doc in enumerate(final_df[\"clean_adcreative_body\"])]\n"
      ]
    },
    {
      "cell_type": "code",
      "execution_count": null,
      "metadata": {
        "id": "JtwrdpYxd0Mn"
      },
      "outputs": [],
      "source": [
        "#Model instantiating\n",
        "model = Doc2Vec(vector_size=64, window=2, workers=8, min_count=1, epochs =40)\n",
        "\n",
        "#Build the vocabs\n",
        "model.build_vocab(cards)\n",
        "\n",
        "# Train the model\n",
        "model.train(cards, total_examples=model.corpus_count, epochs=model.epochs)"
      ]
    },
    {
      "cell_type": "code",
      "execution_count": null,
      "metadata": {
        "id": "Ttzj8JKMd0Mn",
        "outputId": "22ed41f9-1338-411e-999b-bd013c8c086c"
      },
      "outputs": [
        {
          "name": "stdout",
          "output_type": "stream",
          "text": [
            "[-0.09186058 -0.16366526 -0.11075407  0.03678815 -0.0353322   0.03951077\n",
            "  0.04774661 -0.14617255 -0.16017433 -0.09712551  0.27030075  0.03889743\n",
            " -0.14870892  0.06751137  0.11959799  0.05167305 -0.08547027  0.05325878\n",
            " -0.04350793 -0.02277299 -0.10318194  0.02205693 -0.1776746  -0.24297294\n",
            "  0.02220791  0.18857938  0.07363312 -0.12090383 -0.13075756  0.16909787\n",
            " -0.16092102  0.20520097 -0.14508544 -0.10907959  0.0940307   0.01653024\n",
            " -0.07468257  0.01839375 -0.08525079 -0.01597099 -0.00931155  0.25974193\n",
            "  0.1637766  -0.02094921  0.01259877  0.21210428 -0.11896569  0.03353752\n",
            " -0.08695025 -0.04169678 -0.11618222 -0.09981647 -0.01861386 -0.07084367\n",
            "  0.06757297 -0.05033353  0.01842066 -0.05308691  0.03173681 -0.23300113\n",
            "  0.01874707 -0.12205841 -0.11172928  0.03524283]\n"
          ]
        }
      ],
      "source": [
        "# Generate vectors, skipping rows where 'clean_adcreative_body' is empty\n",
        "card2vec = [model.infer_vector(row.split()) for row in final_df['clean_adcreative_body'] if pd.notna(row) and row.strip()]\n",
        "\n",
        "# Display the result\n",
        "print(card2vec[0])"
      ]
    },
    {
      "cell_type": "code",
      "execution_count": null,
      "metadata": {
        "id": "IWNGTaCfd0Mn",
        "outputId": "7d84b196-df16-4b7a-85df-f47b6c7986bf"
      },
      "outputs": [
        {
          "data": {
            "text/html": [
              "<div>\n",
              "<style scoped>\n",
              "    .dataframe tbody tr th:only-of-type {\n",
              "        vertical-align: middle;\n",
              "    }\n",
              "\n",
              "    .dataframe tbody tr th {\n",
              "        vertical-align: top;\n",
              "    }\n",
              "\n",
              "    .dataframe thead th {\n",
              "        text-align: right;\n",
              "    }\n",
              "</style>\n",
              "<table border=\"1\" class=\"dataframe\">\n",
              "  <thead>\n",
              "    <tr style=\"text-align: right;\">\n",
              "      <th></th>\n",
              "      <th>adcreatives_body</th>\n",
              "      <th>age</th>\n",
              "      <th>gender</th>\n",
              "      <th>clicks</th>\n",
              "      <th>impressions</th>\n",
              "      <th>reach</th>\n",
              "      <th>image_array</th>\n",
              "      <th>clean_adcreative_body</th>\n",
              "      <th>adcreative_word2vec</th>\n",
              "    </tr>\n",
              "  </thead>\n",
              "  <tbody>\n",
              "    <tr>\n",
              "      <th>18</th>\n",
              "      <td>Se non vuoi affrontare il classico cenone orga...</td>\n",
              "      <td>0</td>\n",
              "      <td>0</td>\n",
              "      <td>0</td>\n",
              "      <td>35</td>\n",
              "      <td>32</td>\n",
              "      <td>[[[201.0, 173.0, 151.0], [195.0, 171.0, 151.0]...</td>\n",
              "      <td>vuoi affrontare classico cenone organizzato vu...</td>\n",
              "      <td>[-0.0918605849146843, -0.1636652648448944, -0....</td>\n",
              "    </tr>\n",
              "    <tr>\n",
              "      <th>19</th>\n",
              "      <td>Se non vuoi affrontare il classico cenone orga...</td>\n",
              "      <td>0</td>\n",
              "      <td>1</td>\n",
              "      <td>0</td>\n",
              "      <td>40</td>\n",
              "      <td>37</td>\n",
              "      <td>[[[201.0, 173.0, 151.0], [195.0, 171.0, 151.0]...</td>\n",
              "      <td>vuoi affrontare classico cenone organizzato vu...</td>\n",
              "      <td>[-0.12292994558811188, -0.17102284729480743, -...</td>\n",
              "    </tr>\n",
              "  </tbody>\n",
              "</table>\n",
              "</div>"
            ],
            "text/plain": [
              "                                     adcreatives_body  age  gender  clicks  \\\n",
              "18  Se non vuoi affrontare il classico cenone orga...    0       0       0   \n",
              "19  Se non vuoi affrontare il classico cenone orga...    0       1       0   \n",
              "\n",
              "    impressions  reach                                        image_array  \\\n",
              "18           35     32  [[[201.0, 173.0, 151.0], [195.0, 171.0, 151.0]...   \n",
              "19           40     37  [[[201.0, 173.0, 151.0], [195.0, 171.0, 151.0]...   \n",
              "\n",
              "                                clean_adcreative_body  \\\n",
              "18  vuoi affrontare classico cenone organizzato vu...   \n",
              "19  vuoi affrontare classico cenone organizzato vu...   \n",
              "\n",
              "                                  adcreative_word2vec  \n",
              "18  [-0.0918605849146843, -0.1636652648448944, -0....  \n",
              "19  [-0.12292994558811188, -0.17102284729480743, -...  "
            ]
          },
          "execution_count": 46,
          "metadata": {},
          "output_type": "execute_result"
        }
      ],
      "source": [
        "#Create a list of lists\n",
        "dtv= np.array(card2vec).tolist()\n",
        "\n",
        "#set list to dataframe column\n",
        "final_df['adcreative_word2vec'] = dtv\n",
        "\n",
        "final_df.head(2)"
      ]
    },
    {
      "cell_type": "markdown",
      "metadata": {
        "id": "_G7p5nPWd0Mn"
      },
      "source": [
        "#### Conditional Attention Network Section"
      ]
    },
    {
      "cell_type": "code",
      "execution_count": null,
      "metadata": {
        "id": "MrilH6kTd0Mn"
      },
      "outputs": [],
      "source": [
        "import tensorflow as tf\n",
        "from keras.layers import Input, Dense, LeakyReLU, Dropout, Flatten, concatenate\n",
        "from transformers import ViTImageProcessor, ViTForImageClassification, ViTFeatureExtractor\n",
        "from keras.models import Model\n",
        "\n",
        "import torch\n",
        "import torch.nn as nn_torch\n",
        "from torch.utils.data import DataLoader\n",
        "\n",
        "from sklearn.model_selection import train_test_split\n",
        "from sklearn.preprocessing import StandardScaler\n",
        "import shutil\n",
        "\n",
        "try:\n",
        "    shutil.rmtree('logs')\n",
        "except:\n",
        "    pass"
      ]
    },
    {
      "cell_type": "code",
      "execution_count": null,
      "metadata": {
        "id": "j-ovWS_Td0Mn",
        "outputId": "46b2d4e7-f3e0-43db-9f58-7b250dcdd22f"
      },
      "outputs": [
        {
          "data": {
            "text/html": [
              "<div>\n",
              "<style scoped>\n",
              "    .dataframe tbody tr th:only-of-type {\n",
              "        vertical-align: middle;\n",
              "    }\n",
              "\n",
              "    .dataframe tbody tr th {\n",
              "        vertical-align: top;\n",
              "    }\n",
              "\n",
              "    .dataframe thead th {\n",
              "        text-align: right;\n",
              "    }\n",
              "</style>\n",
              "<table border=\"1\" class=\"dataframe\">\n",
              "  <thead>\n",
              "    <tr style=\"text-align: right;\">\n",
              "      <th></th>\n",
              "      <th>age</th>\n",
              "      <th>gender</th>\n",
              "      <th>clicks</th>\n",
              "      <th>impressions</th>\n",
              "      <th>reach</th>\n",
              "      <th>image_array</th>\n",
              "      <th>adcreative_word2vec</th>\n",
              "    </tr>\n",
              "  </thead>\n",
              "  <tbody>\n",
              "    <tr>\n",
              "      <th>18</th>\n",
              "      <td>0</td>\n",
              "      <td>0</td>\n",
              "      <td>0</td>\n",
              "      <td>35</td>\n",
              "      <td>32</td>\n",
              "      <td>[[[201.0, 173.0, 151.0], [195.0, 171.0, 151.0]...</td>\n",
              "      <td>[-0.0918605849146843, -0.1636652648448944, -0....</td>\n",
              "    </tr>\n",
              "    <tr>\n",
              "      <th>19</th>\n",
              "      <td>0</td>\n",
              "      <td>1</td>\n",
              "      <td>0</td>\n",
              "      <td>40</td>\n",
              "      <td>37</td>\n",
              "      <td>[[[201.0, 173.0, 151.0], [195.0, 171.0, 151.0]...</td>\n",
              "      <td>[-0.12292994558811188, -0.17102284729480743, -...</td>\n",
              "    </tr>\n",
              "  </tbody>\n",
              "</table>\n",
              "</div>"
            ],
            "text/plain": [
              "    age  gender  clicks  impressions  reach  \\\n",
              "18    0       0       0           35     32   \n",
              "19    0       1       0           40     37   \n",
              "\n",
              "                                          image_array  \\\n",
              "18  [[[201.0, 173.0, 151.0], [195.0, 171.0, 151.0]...   \n",
              "19  [[[201.0, 173.0, 151.0], [195.0, 171.0, 151.0]...   \n",
              "\n",
              "                                  adcreative_word2vec  \n",
              "18  [-0.0918605849146843, -0.1636652648448944, -0....  \n",
              "19  [-0.12292994558811188, -0.17102284729480743, -...  "
            ]
          },
          "execution_count": 48,
          "metadata": {},
          "output_type": "execute_result"
        }
      ],
      "source": [
        "#Drop these columns to ensure dataframe meets requirements\n",
        "final_df = final_df.drop(['adcreatives_body', 'clean_adcreative_body'], axis=1)\n",
        "final_df.head(2)"
      ]
    },
    {
      "cell_type": "code",
      "execution_count": null,
      "metadata": {
        "id": "QjHL-cN1d0Mn",
        "outputId": "7ed3c73f-4cd2-437d-a3c8-485d36dbf059"
      },
      "outputs": [
        {
          "data": {
            "text/html": [
              "<div>\n",
              "<style scoped>\n",
              "    .dataframe tbody tr th:only-of-type {\n",
              "        vertical-align: middle;\n",
              "    }\n",
              "\n",
              "    .dataframe tbody tr th {\n",
              "        vertical-align: top;\n",
              "    }\n",
              "\n",
              "    .dataframe thead th {\n",
              "        text-align: right;\n",
              "    }\n",
              "</style>\n",
              "<table border=\"1\" class=\"dataframe\">\n",
              "  <thead>\n",
              "    <tr style=\"text-align: right;\">\n",
              "      <th></th>\n",
              "      <th>age</th>\n",
              "      <th>gender</th>\n",
              "      <th>reach</th>\n",
              "      <th>image_array</th>\n",
              "      <th>adcreative_word2vec</th>\n",
              "      <th>clicks</th>\n",
              "      <th>impressions</th>\n",
              "    </tr>\n",
              "  </thead>\n",
              "  <tbody>\n",
              "    <tr>\n",
              "      <th>18</th>\n",
              "      <td>0</td>\n",
              "      <td>0</td>\n",
              "      <td>32</td>\n",
              "      <td>[[[201.0, 173.0, 151.0], [195.0, 171.0, 151.0]...</td>\n",
              "      <td>[-0.0918605849146843, -0.1636652648448944, -0....</td>\n",
              "      <td>0</td>\n",
              "      <td>35</td>\n",
              "    </tr>\n",
              "    <tr>\n",
              "      <th>19</th>\n",
              "      <td>0</td>\n",
              "      <td>1</td>\n",
              "      <td>37</td>\n",
              "      <td>[[[201.0, 173.0, 151.0], [195.0, 171.0, 151.0]...</td>\n",
              "      <td>[-0.12292994558811188, -0.17102284729480743, -...</td>\n",
              "      <td>0</td>\n",
              "      <td>40</td>\n",
              "    </tr>\n",
              "  </tbody>\n",
              "</table>\n",
              "</div>"
            ],
            "text/plain": [
              "    age  gender  reach                                        image_array  \\\n",
              "18    0       0     32  [[[201.0, 173.0, 151.0], [195.0, 171.0, 151.0]...   \n",
              "19    0       1     37  [[[201.0, 173.0, 151.0], [195.0, 171.0, 151.0]...   \n",
              "\n",
              "                                  adcreative_word2vec  clicks  impressions  \n",
              "18  [-0.0918605849146843, -0.1636652648448944, -0....       0           35  \n",
              "19  [-0.12292994558811188, -0.17102284729480743, -...       0           40  "
            ]
          },
          "execution_count": 49,
          "metadata": {},
          "output_type": "execute_result"
        }
      ],
      "source": [
        "# Rearrange the Columns to help select X and Y\n",
        "new_cols = ['age', 'gender', 'reach', 'image_array', 'adcreative_word2vec', 'clicks', 'impressions']\n",
        "final_df = final_df.reindex(columns=new_cols)\n",
        "\n",
        "# Backup the DF\n",
        "backup_df = final_df.copy()\n",
        "final_df.head(2)"
      ]
    },
    {
      "cell_type": "markdown",
      "metadata": {
        "id": "7I9QXu0ud0Mn"
      },
      "source": [
        "###### Begin the TRAINING ALGORITHM FOR THE NEURAL NETWORK"
      ]
    },
    {
      "cell_type": "markdown",
      "metadata": {
        "id": "ygoY-0ySd0Mn"
      },
      "source": [
        "###### input for the Neural Network"
      ]
    },
    {
      "cell_type": "code",
      "execution_count": null,
      "metadata": {
        "id": "ao3xx_D5d0Mn",
        "outputId": "a0092476-5947-4731-ab37-64c4dd81f140"
      },
      "outputs": [
        {
          "name": "stderr",
          "output_type": "stream",
          "text": [
            "Pandas Apply: 100%|██████████| 177/177 [00:00<00:00, 338065.49it/s]\n"
          ]
        }
      ],
      "source": [
        "# Flatten the image array\n",
        "final_df[\"image_array\"] = final_df[\"image_array\"].swifter.apply(lambda x: np.array(x).flatten() if isinstance(x, list) else x)\n",
        "\n",
        "# Split the data into X and Y\n",
        "X = final_df.iloc[:, :-2]\n",
        "Y = final_df.iloc[:, 5:]"
      ]
    },
    {
      "cell_type": "code",
      "execution_count": null,
      "metadata": {
        "id": "ODRbgcu6d0Mn"
      },
      "outputs": [],
      "source": [
        "def preprocess_data(X, y, test_size = 0.15, shuffle=True):\n",
        "    #Now Split the X and Y cols using the Train Test Split\n",
        "    X_train, X_test, y_train, y_test = train_test_split(X, y, test_size=test_size, shuffle=shuffle)\n",
        "\n",
        "    # Extract individual columns from DataFrames\n",
        "    X_train_non_vector = np.asarray(X_train.iloc[:, :3]).astype('float32')\n",
        "    X_train_image_vector = np.array([np.array(x) for x in X_train[\"image_array\"]])\n",
        "    X_train_word2vec_vector = np.asarray(X_train[\"adcreative_word2vec\"]).tolist()\n",
        "\n",
        "    X_test_non_vector = np.asarray(X_test.iloc[:, :3]).astype('float32')\n",
        "    X_test_image_vector = np.array([np.array(x) for x in X_test[\"image_array\"]])\n",
        "    X_test_word2vec_vector = np.asarray(X_test[\"adcreative_word2vec\"]).tolist()\n",
        "\n",
        "    # Convert labels to numpy arrays\n",
        "    y_train_np = np.asarray(y_train, dtype=np.float32)\n",
        "    y_test_np = np.asarray(y_test, dtype=np.float32)\n",
        "\n",
        "    return X_train_non_vector, X_train_image_vector, X_train_word2vec_vector, y_train_np, X_test_non_vector, X_test_image_vector, X_test_word2vec_vector, y_test_np\n"
      ]
    },
    {
      "cell_type": "markdown",
      "metadata": {
        "id": "qJnw-YgPd0Mn"
      },
      "source": [
        "<div style=\"font-size: 70%;\">\n",
        "def conv_to_tensor(arg):\n",
        "    # arg = tf.convert_to_tensor(arg, dtype=tf.float32)\n",
        "    arg = tf.convert_to_tensor(arg)\n",
        "    return arg\n",
        "\n",
        "\n",
        "###### Print the Shape of the Dataframe\n",
        "print(f\"X train Shape {X_train.shape} \\t X test Shape {X_test.shape}\")\n",
        "\n",
        "\n",
        "y_train = conv_to_tensor(y_train)\n",
        "y_test = conv_to_tensor(y_test)\n",
        "\n",
        "\n",
        "###### Print the Shape of the Y shape\n",
        "print(f\"Y train Shape {y_train.shape} \\t Y test Shape {y_test.shape}\")\n",
        "</div>"
      ]
    },
    {
      "cell_type": "code",
      "execution_count": null,
      "metadata": {
        "id": "NettVd1nd0Mo"
      },
      "outputs": [],
      "source": [
        "# Create a simple Logger class for callback\n",
        "class Logger(tf.keras.callbacks.Callback):\n",
        "    def on_epoch_end(self, epoch, logs=None):\n",
        "        if epoch % 10 == 0:\n",
        "            print(f\"Epoch {epoch}, Loss: {logs['loss']}, Val Loss: {logs['val_loss']}\")\n",
        "\n",
        "\n",
        "# Preprocess the data\n",
        "X_train_non_vector, X_train_image_vector, X_train_word2vec_vector, y_train_np, X_test_non_vector, X_test_image_vector, X_test_word2vec_vector, y_test_np = preprocess_data(X, Y)"
      ]
    },
    {
      "cell_type": "code",
      "execution_count": null,
      "metadata": {
        "id": "vH8_9vkTd0Mo",
        "outputId": "bbca6bee-47b2-4c3a-cabb-d714e5aaba52"
      },
      "outputs": [
        {
          "data": {
            "text/plain": [
              "(64,)"
            ]
          },
          "execution_count": 76,
          "metadata": {},
          "output_type": "execute_result"
        }
      ],
      "source": [
        "np.array(X_train_word2vec_vector[0]).shape"
      ]
    },
    {
      "cell_type": "code",
      "execution_count": null,
      "metadata": {
        "id": "n4zTY9kmd0Mo"
      },
      "outputs": [],
      "source": [
        "from tensorflow.keras.applications import EfficientNetB0\n",
        "\n",
        "vit_model = EfficientNetB0(weights='imagenet', include_top=False, input_shape=(224, 224, 3))\n",
        "\n",
        "# Freeze the layers on the Vision Transformers\n",
        "for layer in vit_model.layers:\n",
        "    layer.trainable = False\n",
        "\n",
        "word2vec_input_shape = np.array(X_train_word2vec_vector[0]).shape\n",
        "\n",
        "# Create Custom NN Model\n",
        "def create_can_model():\n",
        "    # Define the non-vectorized part\n",
        "    non_vectorized_input = Input(shape=(X_train_non_vector.shape[1],), name=\"non_vector_input\")\n",
        "    non_vectorized_output = Dense(64, activation='relu', name=\"dense_non_vector\")(non_vectorized_input)\n",
        "\n",
        "    # Define Image input\n",
        "    image_input = Input(shape=(224,224,3), name=\"image_input\")\n",
        "    image_features = vit_model(image_input)\n",
        "    image_features = Flatten(name=\"flatten_image\")(image_features)\n",
        "\n",
        "    # Define the Sentence input\n",
        "    word2vec_vector_input = Input(shape=word2vec_input_shape, name='word2vec_input')\n",
        "    word2vec_vector_output = Dense(32, activation='relu', name=\"dense_word2vec\")(word2vec_vector_input)\n",
        "\n",
        "    # Concatenate the branches\n",
        "    merged = concatenate([non_vectorized_output, image_features, word2vec_vector_output])\n",
        "\n",
        "    dense1_shared = Dense(256, name=\"dense1_shared\")(merged)\n",
        "    lr1_shared = LeakyReLU(alpha=0.01, name=\"lr1_shared\")(dense1_shared)\n",
        "    dense2_shared = Dense(512, name=\"dense2_shared\")(lr1_shared)\n",
        "    lr2_shared = LeakyReLU(alpha=0.01, name=\"lr2_shared\")(dense2_shared)\n",
        "    drop1_shared = Dropout(0.05, name=\"drop1_shared\")(lr2_shared)\n",
        "    dense3_shared = Dense(1024, name=\"dense3_shared\")(drop1_shared)\n",
        "    lr3_shared  = LeakyReLU(alpha=0.05, name=\"lr3_shared\")(dense3_shared)\n",
        "    drop2_shared = Dropout(0.02, name=\"drop2_shared\")(lr3_shared )\n",
        "    dense4_shared = Dense(256, name=\"dense4_shared\")(drop2_shared)\n",
        "    lr4_shared = LeakyReLU(alpha=0.01, name='lr4_shared')(dense4_shared)\n",
        "\n",
        "\n",
        "    dense1_2 = Dense(256, name=\"dense1_2\")(lr4_shared)\n",
        "    lr1_2 = LeakyReLU(alpha=0.01, name=\"lr1_2\")(dense1_2)\n",
        "    dense2_2 = Dense(512, name=\"dense2_2\")(lr1_2)\n",
        "    lr2_2 = LeakyReLU(alpha=0.01, name=\"lr2_2\")(dense2_2)\n",
        "    drop1_2 = Dropout(0.05, name=\"drop1_2\")(lr2_2)\n",
        "    dense3_2 = Dense(1024, name=\"dense3_2\")(drop1_2)\n",
        "    out2 = Dense(1, activation=\"linear\", name=\"out2_regression\")(dense3_2)\n",
        "\n",
        "\n",
        "    dense1_3 = Dense(1024, name=\"dense1_3\")(lr4_shared)\n",
        "    lr1_3 = LeakyReLU(alpha=0.01, name=\"lr1_3\")(dense1_3)\n",
        "    drop1_3 = Dropout(0.05, name=\"drop1_3\")(lr1_3)\n",
        "    dense2_3 = Dense(512, name=\"dense2_3\")(drop1_3)\n",
        "    lr2_3 = LeakyReLU(alpha=0.05, name=\"lr2_3\")(dense2_3)\n",
        "    drop2_3 = Dropout(0.02, name=\"drop2_3\")(lr2_3)\n",
        "    dense3_3 = Dense(256, name=\"dense3_3\")(drop2_3)\n",
        "    lr3_3 = LeakyReLU(alpha=0.01, name=\"lr3_3\")(dense3_3)\n",
        "    drop3_3 = Dropout(0.01, name=\"drop3_3\")(lr3_3)\n",
        "    out3 = Dense(1, activation=\"linear\", name=\"out3_regression\")(drop3_3)\n",
        "\n",
        "    # Define inputs and outputs\n",
        "    inputs = [non_vectorized_input, image_input, word2vec_vector_input]\n",
        "    outputs = [out2, out3]\n",
        "\n",
        "    # Compile the Model\n",
        "    final_model = Model(inputs=inputs, outputs=outputs)\n",
        "\n",
        "    # Create the final model\n",
        "    final_model.compile(optimizer='adam', loss='mean_squared_error', metrics='mean_absolute_error')\n",
        "\n",
        "    return final_model"
      ]
    },
    {
      "cell_type": "code",
      "execution_count": null,
      "metadata": {
        "id": "dD9WMTK-d0Mo",
        "outputId": "30aae7b8-eb8b-4c07-8b16-4afbaafc4c5e"
      },
      "outputs": [
        {
          "name": "stdout",
          "output_type": "stream",
          "text": [
            "X_train_non_vector shape: (150, 3)\n",
            "X_train_image_vector shape: (150, 224, 224, 3)\n",
            "X_train_word2vec_vector shape: (150, 64)\n",
            "X_test_non_vector shape: (27, 3)\n",
            "X_test_image_vector shape: (27, 224, 224, 3)\n",
            "X_test_word2vec_vector shape: (27, 64)\n",
            "y_train_np[:, 0] shape: (150,)\n",
            "y_train_np[:, 1] shape: (150,)\n"
          ]
        }
      ],
      "source": [
        "print(\"X_train_non_vector shape:\", X_train_non_vector.shape)\n",
        "print(\"X_train_image_vector shape:\", X_train_image_vector.shape)\n",
        "print(\"X_train_word2vec_vector shape:\", np.array(X_train_word2vec_vector).shape)\n",
        "\n",
        "\n",
        "print(\"X_test_non_vector shape:\", X_test_non_vector.shape)\n",
        "print(\"X_test_image_vector shape:\", X_test_image_vector.shape)\n",
        "print(\"X_test_word2vec_vector shape:\", np.array(X_test_word2vec_vector).shape)\n",
        "\n",
        "\n",
        "# Print the shape of labels\n",
        "print(\"y_train_np[:, 0] shape:\", y_train_np[:, 0].shape)\n",
        "print(\"y_train_np[:, 1] shape:\", y_train_np[:, 1].shape)"
      ]
    },
    {
      "cell_type": "code",
      "execution_count": null,
      "metadata": {
        "id": "1-hZIgtud0Mo",
        "outputId": "e46ebd32-b82d-4048-eacb-1c49f10e9000"
      },
      "outputs": [
        {
          "name": "stdout",
          "output_type": "stream",
          "text": [
            "WARNING:tensorflow:From c:\\Users\\Aigot-Developer\\Desktop\\PROJECTS\\AIGOT\\Backup_Data_Formats\\.venv\\lib\\site-packages\\keras\\src\\optimizers\\__init__.py:309: The name tf.train.Optimizer is deprecated. Please use tf.compat.v1.train.Optimizer instead.\n",
            "\n",
            "Model: \"model\"\n",
            "__________________________________________________________________________________________________\n",
            " Layer (type)                Output Shape                 Param #   Connected to                  \n",
            "==================================================================================================\n",
            " image_input (InputLayer)    [(None, 224, 224, 3)]        0         []                            \n",
            "                                                                                                  \n",
            " non_vector_input (InputLay  [(None, 3)]                  0         []                            \n",
            " er)                                                                                              \n",
            "                                                                                                  \n",
            " efficientnetb0 (Functional  (None, 7, 7, 1280)           4049571   ['image_input[0][0]']         \n",
            " )                                                                                                \n",
            "                                                                                                  \n",
            " word2vec_input (InputLayer  [(None, 64)]                 0         []                            \n",
            " )                                                                                                \n",
            "                                                                                                  \n",
            " dense_non_vector (Dense)    (None, 64)                   256       ['non_vector_input[0][0]']    \n",
            "                                                                                                  \n",
            " flatten_image (Flatten)     (None, 62720)                0         ['efficientnetb0[0][0]']      \n",
            "                                                                                                  \n",
            " dense_word2vec (Dense)      (None, 32)                   2080      ['word2vec_input[0][0]']      \n",
            "                                                                                                  \n",
            " concatenate (Concatenate)   (None, 62816)                0         ['dense_non_vector[0][0]',    \n",
            "                                                                     'flatten_image[0][0]',       \n",
            "                                                                     'dense_word2vec[0][0]']      \n",
            "                                                                                                  \n",
            " dense1_shared (Dense)       (None, 256)                  1608115   ['concatenate[0][0]']         \n",
            "                                                          2                                       \n",
            "                                                                                                  \n",
            " lr1_shared (LeakyReLU)      (None, 256)                  0         ['dense1_shared[0][0]']       \n",
            "                                                                                                  \n",
            " dense2_shared (Dense)       (None, 512)                  131584    ['lr1_shared[0][0]']          \n",
            "                                                                                                  \n",
            " lr2_shared (LeakyReLU)      (None, 512)                  0         ['dense2_shared[0][0]']       \n",
            "                                                                                                  \n",
            " drop1_shared (Dropout)      (None, 512)                  0         ['lr2_shared[0][0]']          \n",
            "                                                                                                  \n",
            " dense3_shared (Dense)       (None, 1024)                 525312    ['drop1_shared[0][0]']        \n",
            "                                                                                                  \n",
            " lr3_shared (LeakyReLU)      (None, 1024)                 0         ['dense3_shared[0][0]']       \n",
            "                                                                                                  \n",
            " drop2_shared (Dropout)      (None, 1024)                 0         ['lr3_shared[0][0]']          \n",
            "                                                                                                  \n",
            " dense4_shared (Dense)       (None, 256)                  262400    ['drop2_shared[0][0]']        \n",
            "                                                                                                  \n",
            " lr4_shared (LeakyReLU)      (None, 256)                  0         ['dense4_shared[0][0]']       \n",
            "                                                                                                  \n",
            " dense1_3 (Dense)            (None, 1024)                 263168    ['lr4_shared[0][0]']          \n",
            "                                                                                                  \n",
            " lr1_3 (LeakyReLU)           (None, 1024)                 0         ['dense1_3[0][0]']            \n",
            "                                                                                                  \n",
            " drop1_3 (Dropout)           (None, 1024)                 0         ['lr1_3[0][0]']               \n",
            "                                                                                                  \n",
            " dense1_2 (Dense)            (None, 256)                  65792     ['lr4_shared[0][0]']          \n",
            "                                                                                                  \n",
            " dense2_3 (Dense)            (None, 512)                  524800    ['drop1_3[0][0]']             \n",
            "                                                                                                  \n",
            " lr1_2 (LeakyReLU)           (None, 256)                  0         ['dense1_2[0][0]']            \n",
            "                                                                                                  \n",
            " lr2_3 (LeakyReLU)           (None, 512)                  0         ['dense2_3[0][0]']            \n",
            "                                                                                                  \n",
            " dense2_2 (Dense)            (None, 512)                  131584    ['lr1_2[0][0]']               \n",
            "                                                                                                  \n",
            " drop2_3 (Dropout)           (None, 512)                  0         ['lr2_3[0][0]']               \n",
            "                                                                                                  \n",
            " lr2_2 (LeakyReLU)           (None, 512)                  0         ['dense2_2[0][0]']            \n",
            "                                                                                                  \n",
            " dense3_3 (Dense)            (None, 256)                  131328    ['drop2_3[0][0]']             \n",
            "                                                                                                  \n",
            " drop1_2 (Dropout)           (None, 512)                  0         ['lr2_2[0][0]']               \n",
            "                                                                                                  \n",
            " lr3_3 (LeakyReLU)           (None, 256)                  0         ['dense3_3[0][0]']            \n",
            "                                                                                                  \n",
            " dense3_2 (Dense)            (None, 1024)                 525312    ['drop1_2[0][0]']             \n",
            "                                                                                                  \n",
            " drop3_3 (Dropout)           (None, 256)                  0         ['lr3_3[0][0]']               \n",
            "                                                                                                  \n",
            " out2_regression (Dense)     (None, 1)                    1025      ['dense3_2[0][0]']            \n",
            "                                                                                                  \n",
            " out3_regression (Dense)     (None, 1)                    257       ['drop3_3[0][0]']             \n",
            "                                                                                                  \n",
            "==================================================================================================\n",
            "Total params: 22695621 (86.58 MB)\n",
            "Trainable params: 18646050 (71.13 MB)\n",
            "Non-trainable params: 4049571 (15.45 MB)\n",
            "__________________________________________________________________________________________________\n"
          ]
        }
      ],
      "source": [
        "can_model_v2 = create_can_model()\n",
        "\n",
        "#Print the Summary of the model\n",
        "can_model_v2.summary()"
      ]
    },
    {
      "cell_type": "code",
      "execution_count": null,
      "metadata": {
        "id": "tBs2RfPjd0Mo",
        "outputId": "869b5878-84da-468e-c0c5-33538336cc96"
      },
      "outputs": [
        {
          "data": {
            "image/png": "[encoded data removed]",
            "text/plain": [
              "<Figure size 2000x2000 with 1 Axes>"
            ]
          },
          "metadata": {},
          "output_type": "display_data"
        }
      ],
      "source": [
        "from tensorflow.keras.utils import plot_model\n",
        "import matplotlib.pyplot as plt\n",
        "import matplotlib.image as mpimg\n",
        "\n",
        "\n",
        "# Save the model plot as an image\n",
        "plot_model(can_model_v2, to_file='can_modelV2_plot.png', show_shapes=True, show_layer_names=True)\n",
        "\n",
        "# Display the saved image\n",
        "img = mpimg.imread('can_modelV2_plot.png')\n",
        "fig, ax = plt.subplots(figsize=(20, 20))\n",
        "imgplot = plt.imshow(img)\n",
        "plt.show()"
      ]
    },
    {
      "cell_type": "code",
      "execution_count": null,
      "metadata": {
        "id": "DxJYyOP5d0Mo"
      },
      "outputs": [],
      "source": [
        "class Logger(tf.keras.callbacks.Callback):\n",
        "    def on_epoch_end(self, epoch, logs=None):\n",
        "        print(\"Logger Callback on Epoch End\")\n",
        "        out2_mae = logs.get('out2_regression_mean_absolute_error', None)\n",
        "        out3_mae = logs.get('out3_regression_mean_absolute_error', None)\n",
        "        val_out2_mae = logs.get('val_out2_mean_absolute_error', None)\n",
        "        val_out3_mae = logs.get('val_out3_mean_absolute_error', None)\n",
        "\n",
        "        print(\"=========********=========\\n\")\n",
        "        print('=' * 30, epoch + 1, '=' * 30)\n",
        "\n",
        "        # Check if the values are not None before formatting\n",
        "        if out2_mae is not None and out3_mae is not None:\n",
        "            print(f'out2_mae: {out2_mae:.2f}, out3_mae: {out3_mae:.2f}')\n",
        "\n",
        "        if val_out2_mae is not None and val_out3_mae is not None:\n",
        "            print(f'val_out2_mae: {val_out2_mae:.2f}, val_out3_mae: {val_out3_mae:.2f}')\n"
      ]
    },
    {
      "cell_type": "code",
      "execution_count": null,
      "metadata": {
        "id": "Szq0bxKDd0Mo",
        "outputId": "bcc4d216-4630-42ea-810e-fe1eef5b0095"
      },
      "outputs": [
        {
          "name": "stdout",
          "output_type": "stream",
          "text": [
            "Epoch 1/50\n",
            "5/5 [==============================] - 6s 841ms/step - loss: 83576.4844 - out2_regression_loss: 1402.6144 - out3_regression_loss: 82173.8750 - out2_regression_mean_absolute_error: 17.5184 - out3_regression_mean_absolute_error: 158.1209 - val_loss: 543543.8125 - val_out2_regression_loss: 2478.5564 - val_out3_regression_loss: 541065.2500 - val_out2_regression_mean_absolute_error: 31.3106 - val_out3_regression_mean_absolute_error: 491.1830\n",
            "Epoch 2/50\n",
            "5/5 [==============================] - 3s 644ms/step - loss: 154429.0312 - out2_regression_loss: 1064.1503 - out3_regression_loss: 153364.8750 - out2_regression_mean_absolute_error: 15.9433 - out3_regression_mean_absolute_error: 211.2972 - val_loss: 358978.9375 - val_out2_regression_loss: 629.3055 - val_out3_regression_loss: 358349.6250 - val_out2_regression_mean_absolute_error: 15.6615 - val_out3_regression_mean_absolute_error: 401.2612\n",
            "Epoch 3/50\n",
            "5/5 [==============================] - 3s 630ms/step - loss: 173976.8750 - out2_regression_loss: 974.1044 - out3_regression_loss: 173002.7812 - out2_regression_mean_absolute_error: 15.7617 - out3_regression_mean_absolute_error: 221.1824 - val_loss: 237175.0625 - val_out2_regression_loss: 1448.6852 - val_out3_regression_loss: 235726.3750 - val_out2_regression_mean_absolute_error: 21.1848 - val_out3_regression_mean_absolute_error: 261.8749\n",
            "Epoch 4/50\n",
            "5/5 [==============================] - 3s 639ms/step - loss: 125094.6953 - out2_regression_loss: 937.6890 - out3_regression_loss: 124157.0156 - out2_regression_mean_absolute_error: 14.6308 - out3_regression_mean_absolute_error: 187.6881 - val_loss: 106445.5078 - val_out2_regression_loss: 637.6556 - val_out3_regression_loss: 105807.8516 - val_out2_regression_mean_absolute_error: 17.4673 - val_out3_regression_mean_absolute_error: 199.0881\n",
            "Epoch 5/50\n",
            "5/5 [==============================] - 3s 641ms/step - loss: 105453.5625 - out2_regression_loss: 570.4534 - out3_regression_loss: 104883.1094 - out2_regression_mean_absolute_error: 11.7742 - out3_regression_mean_absolute_error: 163.5201 - val_loss: 81912.8672 - val_out2_regression_loss: 523.4326 - val_out3_regression_loss: 81389.4453 - val_out2_regression_mean_absolute_error: 15.4891 - val_out3_regression_mean_absolute_error: 169.4988\n",
            "Epoch 6/50\n",
            "5/5 [==============================] - 3s 656ms/step - loss: 74031.8047 - out2_regression_loss: 748.9392 - out3_regression_loss: 73282.8594 - out2_regression_mean_absolute_error: 12.2222 - out3_regression_mean_absolute_error: 150.4392 - val_loss: 115157.4297 - val_out2_regression_loss: 692.5218 - val_out3_regression_loss: 114464.8984 - val_out2_regression_mean_absolute_error: 17.6242 - val_out3_regression_mean_absolute_error: 195.0926\n",
            "Epoch 7/50\n",
            "5/5 [==============================] - 3s 645ms/step - loss: 65957.2500 - out2_regression_loss: 471.4566 - out3_regression_loss: 65485.7930 - out2_regression_mean_absolute_error: 10.8167 - out3_regression_mean_absolute_error: 130.5336 - val_loss: 71557.7188 - val_out2_regression_loss: 1271.0786 - val_out3_regression_loss: 70286.6406 - val_out2_regression_mean_absolute_error: 21.0348 - val_out3_regression_mean_absolute_error: 163.6042\n",
            "Epoch 8/50\n",
            "5/5 [==============================] - 3s 620ms/step - loss: 62177.0078 - out2_regression_loss: 643.9913 - out3_regression_loss: 61533.0195 - out2_regression_mean_absolute_error: 12.1793 - out3_regression_mean_absolute_error: 129.4056 - val_loss: 91494.2344 - val_out2_regression_loss: 849.5507 - val_out3_regression_loss: 90644.6875 - val_out2_regression_mean_absolute_error: 18.0250 - val_out3_regression_mean_absolute_error: 176.9007\n",
            "Epoch 9/50\n",
            "5/5 [==============================] - 3s 644ms/step - loss: 87941.4141 - out2_regression_loss: 821.3549 - out3_regression_loss: 87120.0625 - out2_regression_mean_absolute_error: 14.5938 - out3_regression_mean_absolute_error: 136.4529 - val_loss: 117125.6562 - val_out2_regression_loss: 4035.4619 - val_out3_regression_loss: 113090.1953 - val_out2_regression_mean_absolute_error: 39.1948 - val_out3_regression_mean_absolute_error: 190.9560\n",
            "Epoch 10/50\n",
            "5/5 [==============================] - 3s 653ms/step - loss: 64123.5273 - out2_regression_loss: 1482.6987 - out3_regression_loss: 62640.8281 - out2_regression_mean_absolute_error: 16.7704 - out3_regression_mean_absolute_error: 141.6295 - val_loss: 66840.3906 - val_out2_regression_loss: 848.7363 - val_out3_regression_loss: 65991.6562 - val_out2_regression_mean_absolute_error: 17.1608 - val_out3_regression_mean_absolute_error: 147.9428\n",
            "Epoch 11/50\n",
            "5/5 [==============================] - 3s 672ms/step - loss: 64445.7383 - out2_regression_loss: 782.9278 - out3_regression_loss: 63662.8125 - out2_regression_mean_absolute_error: 13.6462 - out3_regression_mean_absolute_error: 126.0575 - val_loss: 95487.1094 - val_out2_regression_loss: 2647.1458 - val_out3_regression_loss: 92839.9609 - val_out2_regression_mean_absolute_error: 28.5700 - val_out3_regression_mean_absolute_error: 183.9443\n",
            "Epoch 12/50\n",
            "5/5 [==============================] - 3s 623ms/step - loss: 69905.3594 - out2_regression_loss: 727.7503 - out3_regression_loss: 69177.6172 - out2_regression_mean_absolute_error: 15.0171 - out3_regression_mean_absolute_error: 133.4844 - val_loss: 153639.1250 - val_out2_regression_loss: 550.8306 - val_out3_regression_loss: 153088.2969 - val_out2_regression_mean_absolute_error: 14.5304 - val_out3_regression_mean_absolute_error: 209.8635\n",
            "Epoch 13/50\n",
            "5/5 [==============================] - 3s 622ms/step - loss: 78969.0938 - out2_regression_loss: 771.7009 - out3_regression_loss: 78197.3906 - out2_regression_mean_absolute_error: 13.8087 - out3_regression_mean_absolute_error: 137.6908 - val_loss: 53598.4180 - val_out2_regression_loss: 604.4247 - val_out3_regression_loss: 52993.9922 - val_out2_regression_mean_absolute_error: 15.3358 - val_out3_regression_mean_absolute_error: 147.0394\n",
            "Epoch 14/50\n",
            "5/5 [==============================] - 3s 701ms/step - loss: 38251.8633 - out2_regression_loss: 646.0280 - out3_regression_loss: 37605.8359 - out2_regression_mean_absolute_error: 12.2972 - out3_regression_mean_absolute_error: 101.7180 - val_loss: 59205.0000 - val_out2_regression_loss: 544.8917 - val_out3_regression_loss: 58660.1094 - val_out2_regression_mean_absolute_error: 14.6777 - val_out3_regression_mean_absolute_error: 137.7344\n",
            "Epoch 15/50\n",
            "5/5 [==============================] - 3s 645ms/step - loss: 35854.1133 - out2_regression_loss: 584.0195 - out3_regression_loss: 35270.0898 - out2_regression_mean_absolute_error: 11.6884 - out3_regression_mean_absolute_error: 97.2629 - val_loss: 68378.9375 - val_out2_regression_loss: 773.8831 - val_out3_regression_loss: 67605.0547 - val_out2_regression_mean_absolute_error: 15.8192 - val_out3_regression_mean_absolute_error: 145.9146\n",
            "Epoch 16/50\n",
            "5/5 [==============================] - 4s 746ms/step - loss: 45923.5625 - out2_regression_loss: 322.1989 - out3_regression_loss: 45601.3633 - out2_regression_mean_absolute_error: 10.0758 - out3_regression_mean_absolute_error: 103.0699 - val_loss: 101144.8984 - val_out2_regression_loss: 891.9698 - val_out3_regression_loss: 100252.9297 - val_out2_regression_mean_absolute_error: 17.5342 - val_out3_regression_mean_absolute_error: 183.2136\n",
            "Epoch 17/50\n",
            "5/5 [==============================] - 3s 623ms/step - loss: 48409.0391 - out2_regression_loss: 401.3505 - out3_regression_loss: 48007.6875 - out2_regression_mean_absolute_error: 10.4642 - out3_regression_mean_absolute_error: 116.5303 - val_loss: 143690.7344 - val_out2_regression_loss: 603.8663 - val_out3_regression_loss: 143086.8750 - val_out2_regression_mean_absolute_error: 15.9438 - val_out3_regression_mean_absolute_error: 249.5040\n",
            "Epoch 18/50\n",
            "5/5 [==============================] - 3s 630ms/step - loss: 73798.4219 - out2_regression_loss: 680.6379 - out3_regression_loss: 73117.7891 - out2_regression_mean_absolute_error: 12.8968 - out3_regression_mean_absolute_error: 147.6300 - val_loss: 134483.5781 - val_out2_regression_loss: 1208.8405 - val_out3_regression_loss: 133274.7344 - val_out2_regression_mean_absolute_error: 19.6250 - val_out3_regression_mean_absolute_error: 181.9599\n",
            "Epoch 19/50\n",
            "5/5 [==============================] - 3s 672ms/step - loss: 52357.8594 - out2_regression_loss: 355.1295 - out3_regression_loss: 52002.7305 - out2_regression_mean_absolute_error: 10.1546 - out3_regression_mean_absolute_error: 120.1184 - val_loss: 239008.4219 - val_out2_regression_loss: 493.2348 - val_out3_regression_loss: 238515.1875 - val_out2_regression_mean_absolute_error: 13.8230 - val_out3_regression_mean_absolute_error: 271.4418\n",
            "Epoch 20/50\n",
            "5/5 [==============================] - 3s 659ms/step - loss: 35664.0859 - out2_regression_loss: 403.4473 - out3_regression_loss: 35260.6445 - out2_regression_mean_absolute_error: 10.1434 - out3_regression_mean_absolute_error: 107.9671 - val_loss: 122189.7500 - val_out2_regression_loss: 465.4838 - val_out3_regression_loss: 121724.2656 - val_out2_regression_mean_absolute_error: 13.9851 - val_out3_regression_mean_absolute_error: 221.0988\n",
            "Epoch 21/50\n",
            "5/5 [==============================] - 3s 626ms/step - loss: 92518.9141 - out2_regression_loss: 366.8551 - out3_regression_loss: 92152.0547 - out2_regression_mean_absolute_error: 9.9516 - out3_regression_mean_absolute_error: 153.0582 - val_loss: 93807.1328 - val_out2_regression_loss: 447.9872 - val_out3_regression_loss: 93359.1484 - val_out2_regression_mean_absolute_error: 13.6848 - val_out3_regression_mean_absolute_error: 175.8712\n",
            "Epoch 22/50\n",
            "5/5 [==============================] - 3s 628ms/step - loss: 104964.2422 - out2_regression_loss: 431.5987 - out3_regression_loss: 104532.6406 - out2_regression_mean_absolute_error: 10.0340 - out3_regression_mean_absolute_error: 152.8777 - val_loss: 296188.5312 - val_out2_regression_loss: 1066.6821 - val_out3_regression_loss: 295121.8438 - val_out2_regression_mean_absolute_error: 17.9123 - val_out3_regression_mean_absolute_error: 351.2807\n",
            "Epoch 23/50\n",
            "5/5 [==============================] - 3s 624ms/step - loss: 68855.9219 - out2_regression_loss: 630.8846 - out3_regression_loss: 68225.0234 - out2_regression_mean_absolute_error: 11.8463 - out3_regression_mean_absolute_error: 143.0822 - val_loss: 80313.4688 - val_out2_regression_loss: 528.4214 - val_out3_regression_loss: 79785.0469 - val_out2_regression_mean_absolute_error: 14.8007 - val_out3_regression_mean_absolute_error: 192.7466\n",
            "Epoch 24/50\n",
            "5/5 [==============================] - 3s 638ms/step - loss: 73807.6094 - out2_regression_loss: 492.1315 - out3_regression_loss: 73315.4766 - out2_regression_mean_absolute_error: 11.1803 - out3_regression_mean_absolute_error: 146.1828 - val_loss: 141270.0469 - val_out2_regression_loss: 616.4376 - val_out3_regression_loss: 140653.6094 - val_out2_regression_mean_absolute_error: 14.9854 - val_out3_regression_mean_absolute_error: 196.6526\n",
            "Epoch 25/50\n",
            "5/5 [==============================] - 3s 633ms/step - loss: 46079.1602 - out2_regression_loss: 242.1441 - out3_regression_loss: 45837.0195 - out2_regression_mean_absolute_error: 8.1283 - out3_regression_mean_absolute_error: 120.6812 - val_loss: 150584.7656 - val_out2_regression_loss: 457.8909 - val_out3_regression_loss: 150126.8750 - val_out2_regression_mean_absolute_error: 12.7615 - val_out3_regression_mean_absolute_error: 236.3806\n",
            "Epoch 26/50\n",
            "5/5 [==============================] - 3s 635ms/step - loss: 64314.3789 - out2_regression_loss: 399.5747 - out3_regression_loss: 63914.8125 - out2_regression_mean_absolute_error: 10.8252 - out3_regression_mean_absolute_error: 135.3314 - val_loss: 104015.9453 - val_out2_regression_loss: 443.4868 - val_out3_regression_loss: 103572.4609 - val_out2_regression_mean_absolute_error: 12.7800 - val_out3_regression_mean_absolute_error: 174.4190\n",
            "Epoch 27/50\n",
            "5/5 [==============================] - 3s 632ms/step - loss: 52064.6797 - out2_regression_loss: 332.8307 - out3_regression_loss: 51731.8516 - out2_regression_mean_absolute_error: 9.5314 - out3_regression_mean_absolute_error: 126.0175 - val_loss: 99566.8438 - val_out2_regression_loss: 718.4009 - val_out3_regression_loss: 98848.4453 - val_out2_regression_mean_absolute_error: 16.1374 - val_out3_regression_mean_absolute_error: 179.7480\n",
            "Epoch 28/50\n",
            "5/5 [==============================] - 3s 666ms/step - loss: 70036.2109 - out2_regression_loss: 535.2480 - out3_regression_loss: 69500.9688 - out2_regression_mean_absolute_error: 11.7634 - out3_regression_mean_absolute_error: 136.9224 - val_loss: 212058.4844 - val_out2_regression_loss: 830.7771 - val_out3_regression_loss: 211227.7031 - val_out2_regression_mean_absolute_error: 15.6824 - val_out3_regression_mean_absolute_error: 283.4598\n",
            "Epoch 29/50\n",
            "5/5 [==============================] - 3s 674ms/step - loss: 116569.3047 - out2_regression_loss: 739.3132 - out3_regression_loss: 115829.9766 - out2_regression_mean_absolute_error: 13.2136 - out3_regression_mean_absolute_error: 173.2354 - val_loss: 110694.1094 - val_out2_regression_loss: 734.8482 - val_out3_regression_loss: 109959.2578 - val_out2_regression_mean_absolute_error: 16.6165 - val_out3_regression_mean_absolute_error: 195.7313\n",
            "Epoch 30/50\n",
            "5/5 [==============================] - 3s 640ms/step - loss: 90802.4766 - out2_regression_loss: 414.3580 - out3_regression_loss: 90388.1172 - out2_regression_mean_absolute_error: 10.7465 - out3_regression_mean_absolute_error: 169.0494 - val_loss: 410905.2812 - val_out2_regression_loss: 1583.0558 - val_out3_regression_loss: 409322.2188 - val_out2_regression_mean_absolute_error: 23.5266 - val_out3_regression_mean_absolute_error: 364.5110\n",
            "Epoch 31/50\n",
            "5/5 [==============================] - 3s 640ms/step - loss: 99279.0391 - out2_regression_loss: 572.1595 - out3_regression_loss: 98706.8828 - out2_regression_mean_absolute_error: 12.3358 - out3_regression_mean_absolute_error: 156.9666 - val_loss: 99792.8594 - val_out2_regression_loss: 643.4254 - val_out3_regression_loss: 99149.4375 - val_out2_regression_mean_absolute_error: 15.9173 - val_out3_regression_mean_absolute_error: 197.6787\n",
            "Epoch 32/50\n",
            "5/5 [==============================] - 3s 630ms/step - loss: 45792.9922 - out2_regression_loss: 528.6008 - out3_regression_loss: 45264.3945 - out2_regression_mean_absolute_error: 11.3361 - out3_regression_mean_absolute_error: 125.3747 - val_loss: 298415.6250 - val_out2_regression_loss: 1724.0406 - val_out3_regression_loss: 296691.5938 - val_out2_regression_mean_absolute_error: 23.7117 - val_out3_regression_mean_absolute_error: 252.5855\n",
            "Epoch 33/50\n",
            "5/5 [==============================] - 3s 638ms/step - loss: 103792.5234 - out2_regression_loss: 612.9963 - out3_regression_loss: 103179.5234 - out2_regression_mean_absolute_error: 11.9485 - out3_regression_mean_absolute_error: 170.4962 - val_loss: 120802.5703 - val_out2_regression_loss: 502.9807 - val_out3_regression_loss: 120299.5859 - val_out2_regression_mean_absolute_error: 14.5364 - val_out3_regression_mean_absolute_error: 216.9220\n",
            "Epoch 34/50\n",
            "5/5 [==============================] - 3s 660ms/step - loss: 87733.3125 - out2_regression_loss: 594.4338 - out3_regression_loss: 87138.8750 - out2_regression_mean_absolute_error: 11.8783 - out3_regression_mean_absolute_error: 159.6802 - val_loss: 106986.9062 - val_out2_regression_loss: 562.2921 - val_out3_regression_loss: 106424.6172 - val_out2_regression_mean_absolute_error: 15.0332 - val_out3_regression_mean_absolute_error: 202.1459\n",
            "Epoch 35/50\n",
            "5/5 [==============================] - 3s 668ms/step - loss: 100726.9688 - out2_regression_loss: 1183.4174 - out3_regression_loss: 99543.5469 - out2_regression_mean_absolute_error: 16.3637 - out3_regression_mean_absolute_error: 166.4749 - val_loss: 309874.3438 - val_out2_regression_loss: 1305.3939 - val_out3_regression_loss: 308568.9375 - val_out2_regression_mean_absolute_error: 20.1798 - val_out3_regression_mean_absolute_error: 321.7841\n",
            "Epoch 36/50\n",
            "5/5 [==============================] - 3s 667ms/step - loss: 108691.2812 - out2_regression_loss: 407.3324 - out3_regression_loss: 108283.9688 - out2_regression_mean_absolute_error: 10.7796 - out3_regression_mean_absolute_error: 165.1700 - val_loss: 83810.5625 - val_out2_regression_loss: 514.3618 - val_out3_regression_loss: 83296.2031 - val_out2_regression_mean_absolute_error: 14.1546 - val_out3_regression_mean_absolute_error: 177.3754\n",
            "Epoch 37/50\n",
            "5/5 [==============================] - 3s 663ms/step - loss: 81057.4688 - out2_regression_loss: 420.4250 - out3_regression_loss: 80637.0391 - out2_regression_mean_absolute_error: 10.5335 - out3_regression_mean_absolute_error: 155.9788 - val_loss: 46573.2500 - val_out2_regression_loss: 396.2756 - val_out3_regression_loss: 46176.9727 - val_out2_regression_mean_absolute_error: 12.2785 - val_out3_regression_mean_absolute_error: 136.6959\n",
            "Epoch 38/50\n",
            "5/5 [==============================] - 3s 691ms/step - loss: 52695.0078 - out2_regression_loss: 370.9442 - out3_regression_loss: 52324.0664 - out2_regression_mean_absolute_error: 9.1286 - out3_regression_mean_absolute_error: 121.2075 - val_loss: 72215.0156 - val_out2_regression_loss: 1360.5347 - val_out3_regression_loss: 70854.4844 - val_out2_regression_mean_absolute_error: 21.2136 - val_out3_regression_mean_absolute_error: 162.7676\n",
            "Epoch 39/50\n",
            "5/5 [==============================] - 3s 654ms/step - loss: 59180.0781 - out2_regression_loss: 635.3461 - out3_regression_loss: 58544.7383 - out2_regression_mean_absolute_error: 12.7466 - out3_regression_mean_absolute_error: 123.4142 - val_loss: 83299.4141 - val_out2_regression_loss: 457.2283 - val_out3_regression_loss: 82842.1875 - val_out2_regression_mean_absolute_error: 13.1928 - val_out3_regression_mean_absolute_error: 182.2265\n",
            "Epoch 40/50\n",
            "5/5 [==============================] - 3s 642ms/step - loss: 34590.3359 - out2_regression_loss: 543.8702 - out3_regression_loss: 34046.4648 - out2_regression_mean_absolute_error: 10.6838 - out3_regression_mean_absolute_error: 89.2558 - val_loss: 149570.9531 - val_out2_regression_loss: 671.5504 - val_out3_regression_loss: 148899.4062 - val_out2_regression_mean_absolute_error: 16.2119 - val_out3_regression_mean_absolute_error: 212.7682\n",
            "Epoch 41/50\n",
            "5/5 [==============================] - 3s 651ms/step - loss: 60066.5352 - out2_regression_loss: 392.7335 - out3_regression_loss: 59673.8086 - out2_regression_mean_absolute_error: 10.1258 - out3_regression_mean_absolute_error: 117.3467 - val_loss: 89560.6484 - val_out2_regression_loss: 614.9879 - val_out3_regression_loss: 88945.6641 - val_out2_regression_mean_absolute_error: 15.2326 - val_out3_regression_mean_absolute_error: 176.0826\n",
            "Epoch 42/50\n",
            "5/5 [==============================] - 3s 639ms/step - loss: 59819.1250 - out2_regression_loss: 359.1850 - out3_regression_loss: 59459.9414 - out2_regression_mean_absolute_error: 9.8773 - out3_regression_mean_absolute_error: 125.4958 - val_loss: 61499.0781 - val_out2_regression_loss: 505.0355 - val_out3_regression_loss: 60994.0430 - val_out2_regression_mean_absolute_error: 14.3550 - val_out3_regression_mean_absolute_error: 145.3996\n",
            "Epoch 43/50\n",
            "5/5 [==============================] - 3s 663ms/step - loss: 76146.9453 - out2_regression_loss: 408.7761 - out3_regression_loss: 75738.1719 - out2_regression_mean_absolute_error: 10.7265 - out3_regression_mean_absolute_error: 127.6564 - val_loss: 238399.2656 - val_out2_regression_loss: 1267.8069 - val_out3_regression_loss: 237131.4375 - val_out2_regression_mean_absolute_error: 20.6487 - val_out3_regression_mean_absolute_error: 267.0890\n",
            "Epoch 44/50\n",
            "5/5 [==============================] - 3s 640ms/step - loss: 103403.5625 - out2_regression_loss: 590.1764 - out3_regression_loss: 102813.3828 - out2_regression_mean_absolute_error: 12.1740 - out3_regression_mean_absolute_error: 163.6467 - val_loss: 230378.2031 - val_out2_regression_loss: 711.9225 - val_out3_regression_loss: 229666.2812 - val_out2_regression_mean_absolute_error: 15.9512 - val_out3_regression_mean_absolute_error: 303.1649\n",
            "Epoch 45/50\n",
            "5/5 [==============================] - 3s 646ms/step - loss: 140484.4219 - out2_regression_loss: 739.8846 - out3_regression_loss: 139744.5312 - out2_regression_mean_absolute_error: 13.2584 - out3_regression_mean_absolute_error: 192.9520 - val_loss: 82183.4688 - val_out2_regression_loss: 573.0188 - val_out3_regression_loss: 81610.4531 - val_out2_regression_mean_absolute_error: 14.5838 - val_out3_regression_mean_absolute_error: 166.6292\n",
            "Epoch 46/50\n",
            "5/5 [==============================] - 3s 643ms/step - loss: 252200.2188 - out2_regression_loss: 1122.6754 - out3_regression_loss: 251077.5156 - out2_regression_mean_absolute_error: 15.8340 - out3_regression_mean_absolute_error: 241.2109 - val_loss: 853339.4375 - val_out2_regression_loss: 1749.4673 - val_out3_regression_loss: 851589.9375 - val_out2_regression_mean_absolute_error: 23.6040 - val_out3_regression_mean_absolute_error: 594.2488\n",
            "Epoch 47/50\n",
            "5/5 [==============================] - 3s 633ms/step - loss: 191695.5781 - out2_regression_loss: 929.7501 - out3_regression_loss: 190765.8281 - out2_regression_mean_absolute_error: 15.0245 - out3_regression_mean_absolute_error: 240.5184 - val_loss: 114364.3594 - val_out2_regression_loss: 882.8074 - val_out3_regression_loss: 113481.5547 - val_out2_regression_mean_absolute_error: 18.0985 - val_out3_regression_mean_absolute_error: 241.4477\n",
            "Epoch 48/50\n",
            "5/5 [==============================] - 3s 706ms/step - loss: 72486.1250 - out2_regression_loss: 519.3994 - out3_regression_loss: 71966.7266 - out2_regression_mean_absolute_error: 11.0184 - out3_regression_mean_absolute_error: 138.8603 - val_loss: 112135.5156 - val_out2_regression_loss: 976.5256 - val_out3_regression_loss: 111158.9922 - val_out2_regression_mean_absolute_error: 18.0550 - val_out3_regression_mean_absolute_error: 226.4855\n",
            "Epoch 49/50\n",
            "5/5 [==============================] - 3s 653ms/step - loss: 50974.1680 - out2_regression_loss: 491.8761 - out3_regression_loss: 50482.2852 - out2_regression_mean_absolute_error: 10.7304 - out3_regression_mean_absolute_error: 132.5630 - val_loss: 355312.2500 - val_out2_regression_loss: 553.7917 - val_out3_regression_loss: 354758.4688 - val_out2_regression_mean_absolute_error: 15.1186 - val_out3_regression_mean_absolute_error: 352.5672\n",
            "Epoch 50/50\n",
            "5/5 [==============================] - 3s 653ms/step - loss: 100880.6172 - out2_regression_loss: 411.4069 - out3_regression_loss: 100469.2188 - out2_regression_mean_absolute_error: 10.5791 - out3_regression_mean_absolute_error: 145.8339 - val_loss: 221804.8750 - val_out2_regression_loss: 986.8142 - val_out3_regression_loss: 220818.0625 - val_out2_regression_mean_absolute_error: 19.6379 - val_out3_regression_mean_absolute_error: 246.1683\n"
          ]
        }
      ],
      "source": [
        "#tf.config.run_functions_eagerly(True)\n",
        "\n",
        "input_data = {\n",
        "    \"non_vector_input\": X_train_non_vector,\n",
        "    \"image_input\": X_train_image_vector,\n",
        "    \"word2vec_input\": np.array(X_train_word2vec_vector)\n",
        "}\n",
        "\n",
        "output_data = {\n",
        "    \"out2_regression\": y_train_np[:, 0],\n",
        "    \"out3_regression\": y_train_np[:, 1]\n",
        "}\n",
        "\n",
        "validation_data = {\n",
        "    \"non_vector_input\": X_test_non_vector,\n",
        "    \"image_input\": X_test_image_vector,\n",
        "    \"word2vec_input\": np.array(X_test_word2vec_vector)\n",
        "}\n",
        "\n",
        "validation_output_data = {\n",
        "    \"out2_regression\": y_test_np[:, 0],\n",
        "    \"out3_regression\": y_test_np[:, 1]\n",
        "}\n",
        "\n",
        "history = can_model_v2.fit(\n",
        "    input_data,\n",
        "    output_data,\n",
        "    batch_size=32,\n",
        "    epochs=50,\n",
        "    # callbacks=[Logger(), tf.keras.callbacks.TensorBoard(log_dir=\"./logs/\")],\n",
        "    validation_data=(validation_data, validation_output_data),\n",
        "    verbose=True\n",
        ")"
      ]
    },
    {
      "cell_type": "code",
      "execution_count": null,
      "metadata": {
        "id": "cBeNrDOgd0Mp",
        "outputId": "3496fa6e-0af3-4f14-e9d2-90299e7a52f3"
      },
      "outputs": [
        {
          "name": "stderr",
          "output_type": "stream",
          "text": [
            "c:\\Users\\Aigot-Developer\\Desktop\\PROJECTS\\AIGOT\\Backup_Data_Formats\\.venv\\lib\\site-packages\\keras\\src\\engine\\training.py:3103: UserWarning:\n",
            "\n",
            "You are saving your model as an HDF5 file via `model.save()`. This file format is considered legacy. We recommend using instead the native Keras format, e.g. `model.save('my_model.keras')`.\n",
            "\n"
          ]
        }
      ],
      "source": [
        "#Save the Model\n",
        "can_model_v2.save(\"aigot_can_model.h5\")"
      ]
    },
    {
      "cell_type": "markdown",
      "metadata": {
        "id": "SUf3foNtd0Mp"
      },
      "source": [
        "<div style=\"font-size: 90%;\"><strong>2. USING A ONE STEP APPROACH FOR ONLY IMPRESSIONS</strong></div>"
      ]
    },
    {
      "cell_type": "code",
      "execution_count": null,
      "metadata": {
        "id": "eRB6g7Phd0Mp"
      },
      "outputs": [],
      "source": [
        "ads_insight_df = pd.read_csv(\"../all_ads_data.csv\")\n",
        "campaigns_df = pd.read_csv(\"../all_ad_creatives_with_insights.csv\")"
      ]
    },
    {
      "cell_type": "code",
      "execution_count": null,
      "metadata": {
        "id": "tLhzkVeYd0Mp",
        "outputId": "4546592f-a749-46cb-bd2d-4eb564ad95bd"
      },
      "outputs": [
        {
          "name": "stderr",
          "output_type": "stream",
          "text": [
            "Pandas Apply: 100%|██████████| 636/636 [00:00<00:00, 16843.32it/s]\n",
            "Pandas Apply: 100%|██████████| 636/636 [00:00<00:00, 14597.67it/s]\n"
          ]
        }
      ],
      "source": [
        "#\n",
        "ads_insight_df['adcreatives_body'] = ads_insight_df['adcreatives'].swifter.apply(extract_adcreative_body)\n",
        "ads_insight_df[\"image_url\"] = ads_insight_df[\"adcreatives\"].swifter.apply(extract_adcreative_image)"
      ]
    },
    {
      "cell_type": "code",
      "execution_count": null,
      "metadata": {
        "id": "bKbGgj9bd0Mp",
        "outputId": "86657fc1-3276-4dba-978f-c4c77dda0ca0"
      },
      "outputs": [
        {
          "data": {
            "text/html": [
              "<div>\n",
              "<style scoped>\n",
              "    .dataframe tbody tr th:only-of-type {\n",
              "        vertical-align: middle;\n",
              "    }\n",
              "\n",
              "    .dataframe tbody tr th {\n",
              "        vertical-align: top;\n",
              "    }\n",
              "\n",
              "    .dataframe thead th {\n",
              "        text-align: right;\n",
              "    }\n",
              "</style>\n",
              "<table border=\"1\" class=\"dataframe\">\n",
              "  <thead>\n",
              "    <tr style=\"text-align: right;\">\n",
              "      <th></th>\n",
              "      <th>adcreatives</th>\n",
              "      <th>adset</th>\n",
              "      <th>campaign</th>\n",
              "      <th>created_time</th>\n",
              "      <th>id</th>\n",
              "      <th>name</th>\n",
              "      <th>adcreatives_body</th>\n",
              "      <th>image_url</th>\n",
              "    </tr>\n",
              "  </thead>\n",
              "  <tbody>\n",
              "    <tr>\n",
              "      <th>0</th>\n",
              "      <td>{'data': [{'effective_object_story_id': '14091...</td>\n",
              "      <td>&lt;AdSet&gt; {\\n    \"id\": \"120202176749660035\",\\n  ...</td>\n",
              "      <td>&lt;Campaign&gt; {\\n    \"account_id\": \"6842150671417...</td>\n",
              "      <td>2023-12-06T15:19:43+0100</td>\n",
              "      <td>120202176749710035</td>\n",
              "      <td>Nuova inserzione Interazioni</td>\n",
              "      <td>None</td>\n",
              "      <td>https://scontent.fflr2-1.fna.fbcdn.net/v/t45.1...</td>\n",
              "    </tr>\n",
              "    <tr>\n",
              "      <th>1</th>\n",
              "      <td>{'data': [{'body': \"Celebrare i momenti specia...</td>\n",
              "      <td>&lt;AdSet&gt; {\\n    \"id\": \"120201758028270035\",\\n  ...</td>\n",
              "      <td>&lt;Campaign&gt; {\\n    \"account_id\": \"6842150671417...</td>\n",
              "      <td>2023-11-30T14:06:50+0100</td>\n",
              "      <td>120201758028320035</td>\n",
              "      <td>Nuova inserzione Interazioni</td>\n",
              "      <td>Celebrare i momenti speciali in luoghi altrett...</td>\n",
              "      <td>https://scontent.fflr2-1.fna.fbcdn.net/v/t45.1...</td>\n",
              "    </tr>\n",
              "    <tr>\n",
              "      <th>2</th>\n",
              "      <td>{'data': [{'body': \"🎉✨ Benvenuti nel nostro es...</td>\n",
              "      <td>&lt;AdSet&gt; {\\n    \"id\": \"120201758189670035\",\\n  ...</td>\n",
              "      <td>&lt;Campaign&gt; {\\n    \"account_id\": \"6842150671417...</td>\n",
              "      <td>2023-11-30T12:59:09+0100</td>\n",
              "      <td>120201758189720035</td>\n",
              "      <td>Nuova inserzione Interazioni</td>\n",
              "      <td>🎉✨ Benvenuti nel nostro esclusivo Cenone di Ca...</td>\n",
              "      <td>https://scontent.fflr2-1.fna.fbcdn.net/v/t39.3...</td>\n",
              "    </tr>\n",
              "    <tr>\n",
              "      <th>3</th>\n",
              "      <td>{'data': [{'effective_object_story_id': '10040...</td>\n",
              "      <td>&lt;AdSet&gt; {\\n    \"id\": \"120202597513850390\",\\n  ...</td>\n",
              "      <td>&lt;Campaign&gt; {\\n    \"account_id\": \"6596519296300...</td>\n",
              "      <td>2023-12-14T11:33:58+0100</td>\n",
              "      <td>120202597513830390</td>\n",
              "      <td>Nuovo pacchetto: Interazioni Inserzione con im...</td>\n",
              "      <td>None</td>\n",
              "      <td>https://scontent.fflr2-1.fna.fbcdn.net/v/t45.1...</td>\n",
              "    </tr>\n",
              "    <tr>\n",
              "      <th>4</th>\n",
              "      <td>{'data': [{'body': \"🎅Ci stiamo avvolgendo nell...</td>\n",
              "      <td>&lt;AdSet&gt; {\\n    \"id\": \"120201422366960390\",\\n  ...</td>\n",
              "      <td>&lt;Campaign&gt; {\\n    \"account_id\": \"6596519296300...</td>\n",
              "      <td>2023-12-01T16:20:38+0100</td>\n",
              "      <td>120201442215360390</td>\n",
              "      <td>menu base - Copia</td>\n",
              "      <td>🎅Ci stiamo avvolgendo nell'atmosfera natalizia...</td>\n",
              "      <td>https://scontent.fflr2-1.fna.fbcdn.net/v/t45.1...</td>\n",
              "    </tr>\n",
              "  </tbody>\n",
              "</table>\n",
              "</div>"
            ],
            "text/plain": [
              "                                         adcreatives  \\\n",
              "0  {'data': [{'effective_object_story_id': '14091...   \n",
              "1  {'data': [{'body': \"Celebrare i momenti specia...   \n",
              "2  {'data': [{'body': \"🎉✨ Benvenuti nel nostro es...   \n",
              "3  {'data': [{'effective_object_story_id': '10040...   \n",
              "4  {'data': [{'body': \"🎅Ci stiamo avvolgendo nell...   \n",
              "\n",
              "                                               adset  \\\n",
              "0  <AdSet> {\\n    \"id\": \"120202176749660035\",\\n  ...   \n",
              "1  <AdSet> {\\n    \"id\": \"120201758028270035\",\\n  ...   \n",
              "2  <AdSet> {\\n    \"id\": \"120201758189670035\",\\n  ...   \n",
              "3  <AdSet> {\\n    \"id\": \"120202597513850390\",\\n  ...   \n",
              "4  <AdSet> {\\n    \"id\": \"120201422366960390\",\\n  ...   \n",
              "\n",
              "                                            campaign  \\\n",
              "0  <Campaign> {\\n    \"account_id\": \"6842150671417...   \n",
              "1  <Campaign> {\\n    \"account_id\": \"6842150671417...   \n",
              "2  <Campaign> {\\n    \"account_id\": \"6842150671417...   \n",
              "3  <Campaign> {\\n    \"account_id\": \"6596519296300...   \n",
              "4  <Campaign> {\\n    \"account_id\": \"6596519296300...   \n",
              "\n",
              "               created_time                  id  \\\n",
              "0  2023-12-06T15:19:43+0100  120202176749710035   \n",
              "1  2023-11-30T14:06:50+0100  120201758028320035   \n",
              "2  2023-11-30T12:59:09+0100  120201758189720035   \n",
              "3  2023-12-14T11:33:58+0100  120202597513830390   \n",
              "4  2023-12-01T16:20:38+0100  120201442215360390   \n",
              "\n",
              "                                                name  \\\n",
              "0                       Nuova inserzione Interazioni   \n",
              "1                       Nuova inserzione Interazioni   \n",
              "2                       Nuova inserzione Interazioni   \n",
              "3  Nuovo pacchetto: Interazioni Inserzione con im...   \n",
              "4                                  menu base - Copia   \n",
              "\n",
              "                                    adcreatives_body  \\\n",
              "0                                               None   \n",
              "1  Celebrare i momenti speciali in luoghi altrett...   \n",
              "2  🎉✨ Benvenuti nel nostro esclusivo Cenone di Ca...   \n",
              "3                                               None   \n",
              "4  🎅Ci stiamo avvolgendo nell'atmosfera natalizia...   \n",
              "\n",
              "                                           image_url  \n",
              "0  https://scontent.fflr2-1.fna.fbcdn.net/v/t45.1...  \n",
              "1  https://scontent.fflr2-1.fna.fbcdn.net/v/t45.1...  \n",
              "2  https://scontent.fflr2-1.fna.fbcdn.net/v/t39.3...  \n",
              "3  https://scontent.fflr2-1.fna.fbcdn.net/v/t45.1...  \n",
              "4  https://scontent.fflr2-1.fna.fbcdn.net/v/t45.1...  "
            ]
          },
          "execution_count": 11,
          "metadata": {},
          "output_type": "execute_result"
        }
      ],
      "source": [
        "ads_insight_df.head()"
      ]
    },
    {
      "cell_type": "code",
      "execution_count": null,
      "metadata": {
        "id": "MNWhLWVcd0Mp",
        "outputId": "535b26e8-bd95-40e0-f793-6a0c351fb79a"
      },
      "outputs": [
        {
          "data": {
            "text/html": [
              "<div>\n",
              "<style scoped>\n",
              "    .dataframe tbody tr th:only-of-type {\n",
              "        vertical-align: middle;\n",
              "    }\n",
              "\n",
              "    .dataframe tbody tr th {\n",
              "        vertical-align: top;\n",
              "    }\n",
              "\n",
              "    .dataframe thead th {\n",
              "        text-align: right;\n",
              "    }\n",
              "</style>\n",
              "<table border=\"1\" class=\"dataframe\">\n",
              "  <thead>\n",
              "    <tr style=\"text-align: right;\">\n",
              "      <th></th>\n",
              "      <th>ad_id</th>\n",
              "      <th>age</th>\n",
              "      <th>campaign_id</th>\n",
              "      <th>clicks</th>\n",
              "      <th>cpm</th>\n",
              "      <th>date_start</th>\n",
              "      <th>date_stop</th>\n",
              "      <th>gender</th>\n",
              "      <th>impressions</th>\n",
              "      <th>reach</th>\n",
              "    </tr>\n",
              "  </thead>\n",
              "  <tbody>\n",
              "    <tr>\n",
              "      <th>0</th>\n",
              "      <td>120205380158210033</td>\n",
              "      <td>18-24</td>\n",
              "      <td>120205380158220033</td>\n",
              "      <td>1</td>\n",
              "      <td>4.693878</td>\n",
              "      <td>2024-01-09</td>\n",
              "      <td>2024-02-07</td>\n",
              "      <td>female</td>\n",
              "      <td>49</td>\n",
              "      <td>43</td>\n",
              "    </tr>\n",
              "    <tr>\n",
              "      <th>1</th>\n",
              "      <td>120205380158210033</td>\n",
              "      <td>18-24</td>\n",
              "      <td>120205380158220033</td>\n",
              "      <td>0</td>\n",
              "      <td>4.523810</td>\n",
              "      <td>2024-01-09</td>\n",
              "      <td>2024-02-07</td>\n",
              "      <td>male</td>\n",
              "      <td>42</td>\n",
              "      <td>36</td>\n",
              "    </tr>\n",
              "  </tbody>\n",
              "</table>\n",
              "</div>"
            ],
            "text/plain": [
              "                ad_id    age         campaign_id  clicks       cpm  \\\n",
              "0  120205380158210033  18-24  120205380158220033       1  4.693878   \n",
              "1  120205380158210033  18-24  120205380158220033       0  4.523810   \n",
              "\n",
              "   date_start   date_stop  gender  impressions  reach  \n",
              "0  2024-01-09  2024-02-07  female           49     43  \n",
              "1  2024-01-09  2024-02-07    male           42     36  "
            ]
          },
          "execution_count": 12,
          "metadata": {},
          "output_type": "execute_result"
        }
      ],
      "source": [
        "campaigns_df.head(2)"
      ]
    },
    {
      "cell_type": "code",
      "execution_count": null,
      "metadata": {
        "id": "iwmZWSEtd0Mp"
      },
      "outputs": [],
      "source": [
        "#Download the images now\n",
        "import requests\n",
        "from urllib.parse import urlparse\n",
        "import os\n",
        "# import time\n",
        "\n",
        "def is_valid_url(url):\n",
        "    try:\n",
        "        result = urlparse(url)\n",
        "        return all([result.scheme, result.netloc])\n",
        "    except ValueError:\n",
        "        return False\n",
        "\n",
        "\n",
        "default_extension = '.jpg'\n",
        "def download_images(image_urls, download_folder):\n",
        "    image_paths = []\n",
        "    for image_url in image_urls:\n",
        "        if is_valid_url(image_url):\n",
        "            response = requests.get(image_url)\n",
        "\n",
        "            # Extract filename from URL\n",
        "            parsed_url = urlparse(image_url)\n",
        "            image_name = os.path.basename(parsed_url.path)\n",
        "\n",
        "            # Remove invalid characters from filename\n",
        "            image_name = ''.join(c if c.isalnum() or c in ['.', '_'] else '_' for c in image_name)\n",
        "\n",
        "            # Split the filename into base name and extension\n",
        "            base_name, extension = os.path.splitext(image_name)\n",
        "\n",
        "            # If no extension or extension is invalid, use default_extension\n",
        "            if not extension or extension.lower() not in ['.jpg', '.jpeg', '.png', '.gif']:\n",
        "                extension = default_extension\n",
        "\n",
        "            image_path = os.path.join(os.getcwd(), download_folder, f\"{base_name}{extension}\")\n",
        "\n",
        "            with open(image_path, 'wb') as f:\n",
        "                f.write(response.content)\n",
        "                # time.sleep(2)\n",
        "\n",
        "            image_paths.append(image_path)\n",
        "        else:\n",
        "            image_paths.append(None)\n",
        "\n",
        "    return image_paths"
      ]
    },
    {
      "cell_type": "code",
      "execution_count": null,
      "metadata": {
        "id": "UTv3NUn1d0Mp"
      },
      "outputs": [],
      "source": [
        "# Create a folder for downloaded images\n",
        "download_folder = 'downloaded_images_per_cpm'\n",
        "os.makedirs(download_folder, exist_ok=True)\n",
        "\n",
        "image_urls = ads_insight_df['image_url'].dropna().apply(lambda x: x.strip())\n",
        "\n",
        "# Download images\n",
        "valid_image_urls = image_urls[image_urls.apply(is_valid_url)].reset_index(drop=True)\n",
        "\n",
        "image_paths_series = pd.Series(download_images(valid_image_urls, download_folder), index=valid_image_urls.index)\n",
        "\n",
        "ads_insight_df[\"image_path\"] = image_paths_series"
      ]
    },
    {
      "cell_type": "code",
      "execution_count": null,
      "metadata": {
        "id": "3E23mxz9d0Mp",
        "outputId": "971c7bf3-f507-43c7-e393-4b207d9cd3f1"
      },
      "outputs": [
        {
          "data": {
            "text/html": [
              "<div>\n",
              "<style scoped>\n",
              "    .dataframe tbody tr th:only-of-type {\n",
              "        vertical-align: middle;\n",
              "    }\n",
              "\n",
              "    .dataframe tbody tr th {\n",
              "        vertical-align: top;\n",
              "    }\n",
              "\n",
              "    .dataframe thead th {\n",
              "        text-align: right;\n",
              "    }\n",
              "</style>\n",
              "<table border=\"1\" class=\"dataframe\">\n",
              "  <thead>\n",
              "    <tr style=\"text-align: right;\">\n",
              "      <th></th>\n",
              "      <th>adcreatives</th>\n",
              "      <th>adset</th>\n",
              "      <th>campaign</th>\n",
              "      <th>created_time</th>\n",
              "      <th>id</th>\n",
              "      <th>name</th>\n",
              "      <th>adcreatives_body</th>\n",
              "      <th>image_url</th>\n",
              "      <th>image_path</th>\n",
              "    </tr>\n",
              "  </thead>\n",
              "  <tbody>\n",
              "    <tr>\n",
              "      <th>0</th>\n",
              "      <td>{'data': [{'effective_object_story_id': '14091...</td>\n",
              "      <td>&lt;AdSet&gt; {\\n    \"id\": \"120202176749660035\",\\n  ...</td>\n",
              "      <td>&lt;Campaign&gt; {\\n    \"account_id\": \"6842150671417...</td>\n",
              "      <td>2023-12-06T15:19:43+0100</td>\n",
              "      <td>120202176749710035</td>\n",
              "      <td>Nuova inserzione Interazioni</td>\n",
              "      <td>None</td>\n",
              "      <td>https://scontent.fflr2-1.fna.fbcdn.net/v/t45.1...</td>\n",
              "      <td>c:\\Users\\Aigot-Developer\\Desktop\\PROJECTS\\AIGO...</td>\n",
              "    </tr>\n",
              "    <tr>\n",
              "      <th>1</th>\n",
              "      <td>{'data': [{'body': \"Celebrare i momenti specia...</td>\n",
              "      <td>&lt;AdSet&gt; {\\n    \"id\": \"120201758028270035\",\\n  ...</td>\n",
              "      <td>&lt;Campaign&gt; {\\n    \"account_id\": \"6842150671417...</td>\n",
              "      <td>2023-11-30T14:06:50+0100</td>\n",
              "      <td>120201758028320035</td>\n",
              "      <td>Nuova inserzione Interazioni</td>\n",
              "      <td>Celebrare i momenti speciali in luoghi altrett...</td>\n",
              "      <td>https://scontent.fflr2-1.fna.fbcdn.net/v/t45.1...</td>\n",
              "      <td>c:\\Users\\Aigot-Developer\\Desktop\\PROJECTS\\AIGO...</td>\n",
              "    </tr>\n",
              "  </tbody>\n",
              "</table>\n",
              "</div>"
            ],
            "text/plain": [
              "                                         adcreatives  \\\n",
              "0  {'data': [{'effective_object_story_id': '14091...   \n",
              "1  {'data': [{'body': \"Celebrare i momenti specia...   \n",
              "\n",
              "                                               adset  \\\n",
              "0  <AdSet> {\\n    \"id\": \"120202176749660035\",\\n  ...   \n",
              "1  <AdSet> {\\n    \"id\": \"120201758028270035\",\\n  ...   \n",
              "\n",
              "                                            campaign  \\\n",
              "0  <Campaign> {\\n    \"account_id\": \"6842150671417...   \n",
              "1  <Campaign> {\\n    \"account_id\": \"6842150671417...   \n",
              "\n",
              "               created_time                  id                          name  \\\n",
              "0  2023-12-06T15:19:43+0100  120202176749710035  Nuova inserzione Interazioni   \n",
              "1  2023-11-30T14:06:50+0100  120201758028320035  Nuova inserzione Interazioni   \n",
              "\n",
              "                                    adcreatives_body  \\\n",
              "0                                               None   \n",
              "1  Celebrare i momenti speciali in luoghi altrett...   \n",
              "\n",
              "                                           image_url  \\\n",
              "0  https://scontent.fflr2-1.fna.fbcdn.net/v/t45.1...   \n",
              "1  https://scontent.fflr2-1.fna.fbcdn.net/v/t45.1...   \n",
              "\n",
              "                                          image_path  \n",
              "0  c:\\Users\\Aigot-Developer\\Desktop\\PROJECTS\\AIGO...  \n",
              "1  c:\\Users\\Aigot-Developer\\Desktop\\PROJECTS\\AIGO...  "
            ]
          },
          "execution_count": 15,
          "metadata": {},
          "output_type": "execute_result"
        }
      ],
      "source": [
        "ads_insight_df.head(2)"
      ]
    },
    {
      "cell_type": "code",
      "execution_count": null,
      "metadata": {
        "id": "XM0DfN3dd0Mp",
        "outputId": "0a1e43b9-b1c1-4346-ff68-58b0a4a602ab"
      },
      "outputs": [
        {
          "name": "stderr",
          "output_type": "stream",
          "text": [
            "Pandas Apply:  72%|███████▏  | 458/635 [00:12<00:02, 81.32it/s] "
          ]
        },
        {
          "name": "stdout",
          "output_type": "stream",
          "text": [
            "Error processing image at c:\\Users\\Aigot-Developer\\Desktop\\PROJECTS\\AIGOT\\Backup_Data_Formats\\conditional_attention_network\\downloaded_images_per_cpm\\16853587870224659985.jpg: cannot identify image file 'c:\\\\Users\\\\Aigot-Developer\\\\Desktop\\\\PROJECTS\\\\AIGOT\\\\Backup_Data_Formats\\\\conditional_attention_network\\\\downloaded_images_per_cpm\\\\16853587870224659985.jpg'\n"
          ]
        },
        {
          "name": "stderr",
          "output_type": "stream",
          "text": [
            "Pandas Apply: 100%|██████████| 635/635 [00:17<00:00, 36.09it/s]\n"
          ]
        }
      ],
      "source": [
        "valid_image_paths = ads_insight_df[\"image_path\"].dropna()\n",
        "\n",
        "# Apply the function to each valid image path in the dataframe\n",
        "ads_insight_df.loc[valid_image_paths.index, \"image_array\"] = valid_image_paths.swifter.apply(lambda x: load_and_preprocess_image(x))"
      ]
    },
    {
      "cell_type": "code",
      "execution_count": null,
      "metadata": {
        "id": "NIKLyg7Cd0Mp",
        "outputId": "a71937f0-ab14-4338-c86b-fb69d5ca1478"
      },
      "outputs": [
        {
          "data": {
            "text/html": [
              "<div>\n",
              "<style scoped>\n",
              "    .dataframe tbody tr th:only-of-type {\n",
              "        vertical-align: middle;\n",
              "    }\n",
              "\n",
              "    .dataframe tbody tr th {\n",
              "        vertical-align: top;\n",
              "    }\n",
              "\n",
              "    .dataframe thead th {\n",
              "        text-align: right;\n",
              "    }\n",
              "</style>\n",
              "<table border=\"1\" class=\"dataframe\">\n",
              "  <thead>\n",
              "    <tr style=\"text-align: right;\">\n",
              "      <th></th>\n",
              "      <th>adcreatives</th>\n",
              "      <th>adset</th>\n",
              "      <th>campaign</th>\n",
              "      <th>created_time</th>\n",
              "      <th>id</th>\n",
              "      <th>name</th>\n",
              "      <th>adcreatives_body</th>\n",
              "      <th>image_url</th>\n",
              "      <th>image_path</th>\n",
              "      <th>image_array</th>\n",
              "    </tr>\n",
              "  </thead>\n",
              "  <tbody>\n",
              "    <tr>\n",
              "      <th>0</th>\n",
              "      <td>{'data': [{'effective_object_story_id': '14091...</td>\n",
              "      <td>&lt;AdSet&gt; {\\n    \"id\": \"120202176749660035\",\\n  ...</td>\n",
              "      <td>&lt;Campaign&gt; {\\n    \"account_id\": \"6842150671417...</td>\n",
              "      <td>2023-12-06T15:19:43+0100</td>\n",
              "      <td>120202176749710035</td>\n",
              "      <td>Nuova inserzione Interazioni</td>\n",
              "      <td>None</td>\n",
              "      <td>https://scontent.fflr2-1.fna.fbcdn.net/v/t45.1...</td>\n",
              "      <td>c:\\Users\\Aigot-Developer\\Desktop\\PROJECTS\\AIGO...</td>\n",
              "      <td>[[[212.0, 187.0, 165.0], [213.0, 187.0, 165.0]...</td>\n",
              "    </tr>\n",
              "    <tr>\n",
              "      <th>1</th>\n",
              "      <td>{'data': [{'body': \"Celebrare i momenti specia...</td>\n",
              "      <td>&lt;AdSet&gt; {\\n    \"id\": \"120201758028270035\",\\n  ...</td>\n",
              "      <td>&lt;Campaign&gt; {\\n    \"account_id\": \"6842150671417...</td>\n",
              "      <td>2023-11-30T14:06:50+0100</td>\n",
              "      <td>120201758028320035</td>\n",
              "      <td>Nuova inserzione Interazioni</td>\n",
              "      <td>Celebrare i momenti speciali in luoghi altrett...</td>\n",
              "      <td>https://scontent.fflr2-1.fna.fbcdn.net/v/t45.1...</td>\n",
              "      <td>c:\\Users\\Aigot-Developer\\Desktop\\PROJECTS\\AIGO...</td>\n",
              "      <td>[[[255.0, 250.0, 247.0], [255.0, 250.0, 247.0]...</td>\n",
              "    </tr>\n",
              "  </tbody>\n",
              "</table>\n",
              "</div>"
            ],
            "text/plain": [
              "                                         adcreatives  \\\n",
              "0  {'data': [{'effective_object_story_id': '14091...   \n",
              "1  {'data': [{'body': \"Celebrare i momenti specia...   \n",
              "\n",
              "                                               adset  \\\n",
              "0  <AdSet> {\\n    \"id\": \"120202176749660035\",\\n  ...   \n",
              "1  <AdSet> {\\n    \"id\": \"120201758028270035\",\\n  ...   \n",
              "\n",
              "                                            campaign  \\\n",
              "0  <Campaign> {\\n    \"account_id\": \"6842150671417...   \n",
              "1  <Campaign> {\\n    \"account_id\": \"6842150671417...   \n",
              "\n",
              "               created_time                  id                          name  \\\n",
              "0  2023-12-06T15:19:43+0100  120202176749710035  Nuova inserzione Interazioni   \n",
              "1  2023-11-30T14:06:50+0100  120201758028320035  Nuova inserzione Interazioni   \n",
              "\n",
              "                                    adcreatives_body  \\\n",
              "0                                               None   \n",
              "1  Celebrare i momenti speciali in luoghi altrett...   \n",
              "\n",
              "                                           image_url  \\\n",
              "0  https://scontent.fflr2-1.fna.fbcdn.net/v/t45.1...   \n",
              "1  https://scontent.fflr2-1.fna.fbcdn.net/v/t45.1...   \n",
              "\n",
              "                                          image_path  \\\n",
              "0  c:\\Users\\Aigot-Developer\\Desktop\\PROJECTS\\AIGO...   \n",
              "1  c:\\Users\\Aigot-Developer\\Desktop\\PROJECTS\\AIGO...   \n",
              "\n",
              "                                         image_array  \n",
              "0  [[[212.0, 187.0, 165.0], [213.0, 187.0, 165.0]...  \n",
              "1  [[[255.0, 250.0, 247.0], [255.0, 250.0, 247.0]...  "
            ]
          },
          "execution_count": 18,
          "metadata": {},
          "output_type": "execute_result"
        }
      ],
      "source": [
        "ads_insight_df.head(2)"
      ]
    },
    {
      "cell_type": "code",
      "execution_count": null,
      "metadata": {
        "id": "8XP4nYppd0Mq",
        "outputId": "6e28aaf2-ce3e-4aa0-e555-c8b44c089a93"
      },
      "outputs": [
        {
          "name": "stderr",
          "output_type": "stream",
          "text": [
            "Pandas Apply: 100%|██████████| 636/636 [00:00<00:00, 211645.30it/s]\n"
          ]
        }
      ],
      "source": [
        "#Merge the Dataframe using the Campaign ID as the common field\n",
        "ads_insight_df[\"campaign_id\"] = ads_insight_df[\"campaign\"].swifter.apply(extract_campaign_id)\n",
        "\n",
        "ads_insight_df['campaign_id'] = ads_insight_df['campaign_id'].astype('int64')"
      ]
    },
    {
      "cell_type": "code",
      "execution_count": null,
      "metadata": {
        "id": "nE2XozF9d0Mq",
        "outputId": "6c12ec84-865d-45b4-acaf-dc048b550441"
      },
      "outputs": [
        {
          "data": {
            "text/html": [
              "<div>\n",
              "<style scoped>\n",
              "    .dataframe tbody tr th:only-of-type {\n",
              "        vertical-align: middle;\n",
              "    }\n",
              "\n",
              "    .dataframe tbody tr th {\n",
              "        vertical-align: top;\n",
              "    }\n",
              "\n",
              "    .dataframe thead th {\n",
              "        text-align: right;\n",
              "    }\n",
              "</style>\n",
              "<table border=\"1\" class=\"dataframe\">\n",
              "  <thead>\n",
              "    <tr style=\"text-align: right;\">\n",
              "      <th></th>\n",
              "      <th>adcreatives</th>\n",
              "      <th>adset</th>\n",
              "      <th>campaign</th>\n",
              "      <th>created_time</th>\n",
              "      <th>id</th>\n",
              "      <th>name</th>\n",
              "      <th>adcreatives_body</th>\n",
              "      <th>image_url</th>\n",
              "      <th>image_path</th>\n",
              "      <th>image_array</th>\n",
              "      <th>campaign_id</th>\n",
              "      <th>ad_id</th>\n",
              "      <th>age</th>\n",
              "      <th>clicks</th>\n",
              "      <th>cpm</th>\n",
              "      <th>date_start</th>\n",
              "      <th>date_stop</th>\n",
              "      <th>gender</th>\n",
              "      <th>impressions</th>\n",
              "      <th>reach</th>\n",
              "    </tr>\n",
              "  </thead>\n",
              "  <tbody>\n",
              "    <tr>\n",
              "      <th>0</th>\n",
              "      <td>{'data': [{'effective_object_story_id': '56265...</td>\n",
              "      <td>&lt;AdSet&gt; {\\n    \"id\": \"120205380158230033\",\\n  ...</td>\n",
              "      <td>&lt;Campaign&gt; {\\n    \"account_id\": \"2572739292893...</td>\n",
              "      <td>2024-02-06T15:41:35+0100</td>\n",
              "      <td>120205380158210033</td>\n",
              "      <td>Nuovo pacchetto: Interazioni Inserzione con im...</td>\n",
              "      <td>None</td>\n",
              "      <td>https://scontent.fflr2-1.fna.fbcdn.net/v/t45.1...</td>\n",
              "      <td>c:\\Users\\Aigot-Developer\\Desktop\\PROJECTS\\AIGO...</td>\n",
              "      <td>[[[96.0, 0.0, 6.0], [96.0, 0.0, 6.0], [96.0, 0...</td>\n",
              "      <td>120205380158220033</td>\n",
              "      <td>120205380158210033</td>\n",
              "      <td>18-24</td>\n",
              "      <td>1</td>\n",
              "      <td>4.693878</td>\n",
              "      <td>2024-01-09</td>\n",
              "      <td>2024-02-07</td>\n",
              "      <td>female</td>\n",
              "      <td>49</td>\n",
              "      <td>43</td>\n",
              "    </tr>\n",
              "    <tr>\n",
              "      <th>1</th>\n",
              "      <td>{'data': [{'effective_object_story_id': '56265...</td>\n",
              "      <td>&lt;AdSet&gt; {\\n    \"id\": \"120205380158230033\",\\n  ...</td>\n",
              "      <td>&lt;Campaign&gt; {\\n    \"account_id\": \"2572739292893...</td>\n",
              "      <td>2024-02-06T15:41:35+0100</td>\n",
              "      <td>120205380158210033</td>\n",
              "      <td>Nuovo pacchetto: Interazioni Inserzione con im...</td>\n",
              "      <td>None</td>\n",
              "      <td>https://scontent.fflr2-1.fna.fbcdn.net/v/t45.1...</td>\n",
              "      <td>c:\\Users\\Aigot-Developer\\Desktop\\PROJECTS\\AIGO...</td>\n",
              "      <td>[[[96.0, 0.0, 6.0], [96.0, 0.0, 6.0], [96.0, 0...</td>\n",
              "      <td>120205380158220033</td>\n",
              "      <td>120205380158210033</td>\n",
              "      <td>18-24</td>\n",
              "      <td>0</td>\n",
              "      <td>4.523810</td>\n",
              "      <td>2024-01-09</td>\n",
              "      <td>2024-02-07</td>\n",
              "      <td>male</td>\n",
              "      <td>42</td>\n",
              "      <td>36</td>\n",
              "    </tr>\n",
              "  </tbody>\n",
              "</table>\n",
              "</div>"
            ],
            "text/plain": [
              "                                         adcreatives  \\\n",
              "0  {'data': [{'effective_object_story_id': '56265...   \n",
              "1  {'data': [{'effective_object_story_id': '56265...   \n",
              "\n",
              "                                               adset  \\\n",
              "0  <AdSet> {\\n    \"id\": \"120205380158230033\",\\n  ...   \n",
              "1  <AdSet> {\\n    \"id\": \"120205380158230033\",\\n  ...   \n",
              "\n",
              "                                            campaign  \\\n",
              "0  <Campaign> {\\n    \"account_id\": \"2572739292893...   \n",
              "1  <Campaign> {\\n    \"account_id\": \"2572739292893...   \n",
              "\n",
              "               created_time                  id  \\\n",
              "0  2024-02-06T15:41:35+0100  120205380158210033   \n",
              "1  2024-02-06T15:41:35+0100  120205380158210033   \n",
              "\n",
              "                                                name adcreatives_body  \\\n",
              "0  Nuovo pacchetto: Interazioni Inserzione con im...             None   \n",
              "1  Nuovo pacchetto: Interazioni Inserzione con im...             None   \n",
              "\n",
              "                                           image_url  \\\n",
              "0  https://scontent.fflr2-1.fna.fbcdn.net/v/t45.1...   \n",
              "1  https://scontent.fflr2-1.fna.fbcdn.net/v/t45.1...   \n",
              "\n",
              "                                          image_path  \\\n",
              "0  c:\\Users\\Aigot-Developer\\Desktop\\PROJECTS\\AIGO...   \n",
              "1  c:\\Users\\Aigot-Developer\\Desktop\\PROJECTS\\AIGO...   \n",
              "\n",
              "                                         image_array         campaign_id  \\\n",
              "0  [[[96.0, 0.0, 6.0], [96.0, 0.0, 6.0], [96.0, 0...  120205380158220033   \n",
              "1  [[[96.0, 0.0, 6.0], [96.0, 0.0, 6.0], [96.0, 0...  120205380158220033   \n",
              "\n",
              "                ad_id    age  clicks       cpm  date_start   date_stop  \\\n",
              "0  120205380158210033  18-24       1  4.693878  2024-01-09  2024-02-07   \n",
              "1  120205380158210033  18-24       0  4.523810  2024-01-09  2024-02-07   \n",
              "\n",
              "   gender  impressions  reach  \n",
              "0  female           49     43  \n",
              "1    male           42     36  "
            ]
          },
          "execution_count": 20,
          "metadata": {},
          "output_type": "execute_result"
        }
      ],
      "source": [
        "#Merge the Dataframe using the Campaign ID as the common field\n",
        "df_merged = pd.merge(ads_insight_df, campaigns_df, on=\"campaign_id\", how=\"inner\")\n",
        "df_merged.head(2)"
      ]
    },
    {
      "cell_type": "code",
      "execution_count": null,
      "metadata": {
        "id": "Vvb4Po6dd0Mq",
        "outputId": "33a54991-e28a-4cda-bd47-9fd244d7b944"
      },
      "outputs": [
        {
          "name": "stdout",
          "output_type": "stream",
          "text": [
            "Shape of Merged DF (228, 20)\n",
            "Num of Null Rows 140\n"
          ]
        }
      ],
      "source": [
        "# Check the None fopr the Adcreatives body\n",
        "null_mask = df_merged.isnull().any(axis=1)\n",
        "null_rows = df_merged[\"adcreatives_body\"][null_mask]\n",
        "\n",
        "print(f\"Shape of Merged DF {df_merged.shape}\")\n",
        "print(f\"Num of Null Rows {len(null_rows)}\")"
      ]
    },
    {
      "cell_type": "code",
      "execution_count": null,
      "metadata": {
        "id": "yxPAM9S2d0Mq"
      },
      "outputs": [],
      "source": [
        "#Since there are null values, check and drop it\n",
        "df_merged.dropna(inplace=True)"
      ]
    },
    {
      "cell_type": "code",
      "execution_count": null,
      "metadata": {
        "id": "tXQYorgVd0Mq",
        "outputId": "8d8ea05b-4ee5-42b0-de49-efcce6e360f9"
      },
      "outputs": [
        {
          "name": "stdout",
          "output_type": "stream",
          "text": [
            "Shape of Merged DF (88, 20)\n",
            "Num of Null Rows 0\n"
          ]
        }
      ],
      "source": [
        "# Check the None fopr the Adcreatives body\n",
        "null_mask = df_merged.isnull().any(axis=1)\n",
        "null_rows = df_merged[\"adcreatives_body\"][null_mask]\n",
        "\n",
        "print(f\"Shape of Merged DF {df_merged.shape}\")\n",
        "print(f\"Num of Null Rows {len(null_rows)}\")"
      ]
    },
    {
      "cell_type": "code",
      "execution_count": null,
      "metadata": {
        "id": "HlTPTXB6d0Mq",
        "outputId": "4c146c0b-ce33-4f23-feca-17701c856cfc"
      },
      "outputs": [
        {
          "data": {
            "text/html": [
              "<div>\n",
              "<style scoped>\n",
              "    .dataframe tbody tr th:only-of-type {\n",
              "        vertical-align: middle;\n",
              "    }\n",
              "\n",
              "    .dataframe tbody tr th {\n",
              "        vertical-align: top;\n",
              "    }\n",
              "\n",
              "    .dataframe thead th {\n",
              "        text-align: right;\n",
              "    }\n",
              "</style>\n",
              "<table border=\"1\" class=\"dataframe\">\n",
              "  <thead>\n",
              "    <tr style=\"text-align: right;\">\n",
              "      <th></th>\n",
              "      <th>adcreatives</th>\n",
              "      <th>adset</th>\n",
              "      <th>campaign</th>\n",
              "      <th>created_time</th>\n",
              "      <th>id</th>\n",
              "      <th>name</th>\n",
              "      <th>adcreatives_body</th>\n",
              "      <th>image_url</th>\n",
              "      <th>image_path</th>\n",
              "      <th>image_array</th>\n",
              "      <th>campaign_id</th>\n",
              "      <th>ad_id</th>\n",
              "      <th>age</th>\n",
              "      <th>clicks</th>\n",
              "      <th>cpm</th>\n",
              "      <th>date_start</th>\n",
              "      <th>date_stop</th>\n",
              "      <th>gender</th>\n",
              "      <th>impressions</th>\n",
              "      <th>reach</th>\n",
              "    </tr>\n",
              "  </thead>\n",
              "  <tbody>\n",
              "    <tr>\n",
              "      <th>18</th>\n",
              "      <td>{'data': [{'body': 'Vieni a scoprire la magia ...</td>\n",
              "      <td>&lt;AdSet&gt; {\\n    \"id\": \"120204180956850080\",\\n  ...</td>\n",
              "      <td>&lt;Campaign&gt; {\\n    \"account_id\": \"3505879773063...</td>\n",
              "      <td>2024-01-10T10:20:32+0100</td>\n",
              "      <td>120204180956890080</td>\n",
              "      <td>Foto Pizza</td>\n",
              "      <td>Vieni a scoprire la magia della vera pizza Nap...</td>\n",
              "      <td>https://scontent.fflr2-1.fna.fbcdn.net/v/t45.1...</td>\n",
              "      <td>c:\\Users\\Aigot-Developer\\Desktop\\PROJECTS\\AIGO...</td>\n",
              "      <td>[[[95.0, 90.0, 94.0], [96.0, 92.0, 93.0], [94....</td>\n",
              "      <td>120204180956780080</td>\n",
              "      <td>120204180956890080</td>\n",
              "      <td>18-24</td>\n",
              "      <td>18</td>\n",
              "      <td>1.511704</td>\n",
              "      <td>2024-01-09</td>\n",
              "      <td>2024-02-07</td>\n",
              "      <td>female</td>\n",
              "      <td>806</td>\n",
              "      <td>584</td>\n",
              "    </tr>\n",
              "    <tr>\n",
              "      <th>19</th>\n",
              "      <td>{'data': [{'body': 'Vieni a scoprire la magia ...</td>\n",
              "      <td>&lt;AdSet&gt; {\\n    \"id\": \"120204180956850080\",\\n  ...</td>\n",
              "      <td>&lt;Campaign&gt; {\\n    \"account_id\": \"3505879773063...</td>\n",
              "      <td>2024-01-10T10:20:32+0100</td>\n",
              "      <td>120204180956890080</td>\n",
              "      <td>Foto Pizza</td>\n",
              "      <td>Vieni a scoprire la magia della vera pizza Nap...</td>\n",
              "      <td>https://scontent.fflr2-1.fna.fbcdn.net/v/t45.1...</td>\n",
              "      <td>c:\\Users\\Aigot-Developer\\Desktop\\PROJECTS\\AIGO...</td>\n",
              "      <td>[[[95.0, 90.0, 94.0], [96.0, 92.0, 93.0], [94....</td>\n",
              "      <td>120204180956780080</td>\n",
              "      <td>120204180956890080</td>\n",
              "      <td>18-24</td>\n",
              "      <td>13</td>\n",
              "      <td>2.833327</td>\n",
              "      <td>2024-01-09</td>\n",
              "      <td>2024-02-07</td>\n",
              "      <td>male</td>\n",
              "      <td>779</td>\n",
              "      <td>472</td>\n",
              "    </tr>\n",
              "  </tbody>\n",
              "</table>\n",
              "</div>"
            ],
            "text/plain": [
              "                                          adcreatives  \\\n",
              "18  {'data': [{'body': 'Vieni a scoprire la magia ...   \n",
              "19  {'data': [{'body': 'Vieni a scoprire la magia ...   \n",
              "\n",
              "                                                adset  \\\n",
              "18  <AdSet> {\\n    \"id\": \"120204180956850080\",\\n  ...   \n",
              "19  <AdSet> {\\n    \"id\": \"120204180956850080\",\\n  ...   \n",
              "\n",
              "                                             campaign  \\\n",
              "18  <Campaign> {\\n    \"account_id\": \"3505879773063...   \n",
              "19  <Campaign> {\\n    \"account_id\": \"3505879773063...   \n",
              "\n",
              "                created_time                  id        name  \\\n",
              "18  2024-01-10T10:20:32+0100  120204180956890080  Foto Pizza   \n",
              "19  2024-01-10T10:20:32+0100  120204180956890080  Foto Pizza   \n",
              "\n",
              "                                     adcreatives_body  \\\n",
              "18  Vieni a scoprire la magia della vera pizza Nap...   \n",
              "19  Vieni a scoprire la magia della vera pizza Nap...   \n",
              "\n",
              "                                            image_url  \\\n",
              "18  https://scontent.fflr2-1.fna.fbcdn.net/v/t45.1...   \n",
              "19  https://scontent.fflr2-1.fna.fbcdn.net/v/t45.1...   \n",
              "\n",
              "                                           image_path  \\\n",
              "18  c:\\Users\\Aigot-Developer\\Desktop\\PROJECTS\\AIGO...   \n",
              "19  c:\\Users\\Aigot-Developer\\Desktop\\PROJECTS\\AIGO...   \n",
              "\n",
              "                                          image_array         campaign_id  \\\n",
              "18  [[[95.0, 90.0, 94.0], [96.0, 92.0, 93.0], [94....  120204180956780080   \n",
              "19  [[[95.0, 90.0, 94.0], [96.0, 92.0, 93.0], [94....  120204180956780080   \n",
              "\n",
              "                 ad_id    age  clicks       cpm  date_start   date_stop  \\\n",
              "18  120204180956890080  18-24      18  1.511704  2024-01-09  2024-02-07   \n",
              "19  120204180956890080  18-24      13  2.833327  2024-01-09  2024-02-07   \n",
              "\n",
              "    gender  impressions  reach  \n",
              "18  female          806    584  \n",
              "19    male          779    472  "
            ]
          },
          "execution_count": 24,
          "metadata": {},
          "output_type": "execute_result"
        }
      ],
      "source": [
        "# df_merged = pd.read_csv(\"../df_merged_backup.csv\")\n",
        "df_merged.head(2)\n",
        "\n",
        "#Uncomment if you want to save the dataframe\n",
        "# df_merged.to_csv(\"df_merged_backup.csv\")"
      ]
    },
    {
      "cell_type": "code",
      "execution_count": null,
      "metadata": {
        "id": "nG0zhAZ8d0Mq",
        "outputId": "88dc4119-1df3-462c-bbf8-56c1a9e14910"
      },
      "outputs": [
        {
          "data": {
            "text/html": [
              "<div>\n",
              "<style scoped>\n",
              "    .dataframe tbody tr th:only-of-type {\n",
              "        vertical-align: middle;\n",
              "    }\n",
              "\n",
              "    .dataframe tbody tr th {\n",
              "        vertical-align: top;\n",
              "    }\n",
              "\n",
              "    .dataframe thead th {\n",
              "        text-align: right;\n",
              "    }\n",
              "</style>\n",
              "<table border=\"1\" class=\"dataframe\">\n",
              "  <thead>\n",
              "    <tr style=\"text-align: right;\">\n",
              "      <th></th>\n",
              "      <th>adcreatives_body</th>\n",
              "      <th>image_array</th>\n",
              "      <th>cpm</th>\n",
              "    </tr>\n",
              "  </thead>\n",
              "  <tbody>\n",
              "    <tr>\n",
              "      <th>18</th>\n",
              "      <td>Vieni a scoprire la magia della vera pizza Nap...</td>\n",
              "      <td>[[[95.0, 90.0, 94.0], [96.0, 92.0, 93.0], [94....</td>\n",
              "      <td>1.511704</td>\n",
              "    </tr>\n",
              "    <tr>\n",
              "      <th>19</th>\n",
              "      <td>Vieni a scoprire la magia della vera pizza Nap...</td>\n",
              "      <td>[[[95.0, 90.0, 94.0], [96.0, 92.0, 93.0], [94....</td>\n",
              "      <td>2.833327</td>\n",
              "    </tr>\n",
              "  </tbody>\n",
              "</table>\n",
              "</div>"
            ],
            "text/plain": [
              "                                     adcreatives_body  \\\n",
              "18  Vieni a scoprire la magia della vera pizza Nap...   \n",
              "19  Vieni a scoprire la magia della vera pizza Nap...   \n",
              "\n",
              "                                          image_array       cpm  \n",
              "18  [[[95.0, 90.0, 94.0], [96.0, 92.0, 93.0], [94....  1.511704  \n",
              "19  [[[95.0, 90.0, 94.0], [96.0, 92.0, 93.0], [94....  2.833327  "
            ]
          },
          "execution_count": 25,
          "metadata": {},
          "output_type": "execute_result"
        }
      ],
      "source": [
        "columns_to_select = ['adcreatives_body', 'image_array', 'cpm']\n",
        "\n",
        "# Create the final dataframe (Dataframe 3) with the condition\n",
        "final_df = df_merged[df_merged['adcreatives_body'].notna()][columns_to_select]\n",
        "final_df.head(2)"
      ]
    },
    {
      "cell_type": "code",
      "execution_count": null,
      "metadata": {
        "id": "Y83BEbjOd0Mq",
        "outputId": "1e411bc6-1679-4b2d-8d28-0135a1edeba9"
      },
      "outputs": [
        {
          "name": "stderr",
          "output_type": "stream",
          "text": [
            "Pandas Apply: 100%|██████████| 88/88 [00:00<00:00, 87964.43it/s]\n"
          ]
        },
        {
          "data": {
            "text/html": [
              "<div>\n",
              "<style scoped>\n",
              "    .dataframe tbody tr th:only-of-type {\n",
              "        vertical-align: middle;\n",
              "    }\n",
              "\n",
              "    .dataframe tbody tr th {\n",
              "        vertical-align: top;\n",
              "    }\n",
              "\n",
              "    .dataframe thead th {\n",
              "        text-align: right;\n",
              "    }\n",
              "</style>\n",
              "<table border=\"1\" class=\"dataframe\">\n",
              "  <thead>\n",
              "    <tr style=\"text-align: right;\">\n",
              "      <th></th>\n",
              "      <th>adcreatives_body</th>\n",
              "      <th>image_array</th>\n",
              "      <th>cpm</th>\n",
              "      <th>clean_adcreative_body</th>\n",
              "    </tr>\n",
              "  </thead>\n",
              "  <tbody>\n",
              "    <tr>\n",
              "      <th>18</th>\n",
              "      <td>Vieni a scoprire la magia della vera pizza Nap...</td>\n",
              "      <td>[[[95.0, 90.0, 94.0], [96.0, 92.0, 93.0], [94....</td>\n",
              "      <td>1.511704</td>\n",
              "      <td>vieni scoprire magia vera pizza napoletana pis...</td>\n",
              "    </tr>\n",
              "    <tr>\n",
              "      <th>19</th>\n",
              "      <td>Vieni a scoprire la magia della vera pizza Nap...</td>\n",
              "      <td>[[[95.0, 90.0, 94.0], [96.0, 92.0, 93.0], [94....</td>\n",
              "      <td>2.833327</td>\n",
              "      <td>vieni scoprire magia vera pizza napoletana pis...</td>\n",
              "    </tr>\n",
              "  </tbody>\n",
              "</table>\n",
              "</div>"
            ],
            "text/plain": [
              "                                     adcreatives_body  \\\n",
              "18  Vieni a scoprire la magia della vera pizza Nap...   \n",
              "19  Vieni a scoprire la magia della vera pizza Nap...   \n",
              "\n",
              "                                          image_array       cpm  \\\n",
              "18  [[[95.0, 90.0, 94.0], [96.0, 92.0, 93.0], [94....  1.511704   \n",
              "19  [[[95.0, 90.0, 94.0], [96.0, 92.0, 93.0], [94....  2.833327   \n",
              "\n",
              "                                clean_adcreative_body  \n",
              "18  vieni scoprire magia vera pizza napoletana pis...  \n",
              "19  vieni scoprire magia vera pizza napoletana pis...  "
            ]
          },
          "execution_count": 28,
          "metadata": {},
          "output_type": "execute_result"
        }
      ],
      "source": [
        "# Remove the Stopwords by passing into the Hero Pipeline\n",
        "final_df[\"clean_adcreative_body\"] = hero.clean(final_df[\"adcreatives_body\"])\n",
        "\n",
        "#Remove Stop Words from the Column\n",
        "final_df[\"clean_adcreative_body\"] = final_df[\"clean_adcreative_body\"].swifter.apply(lambda x: ' '.join([word for word in x.split() if word not in (aigot_custom_stopwords)]))\n",
        "final_df.head(2)"
      ]
    },
    {
      "cell_type": "code",
      "execution_count": null,
      "metadata": {
        "id": "6_753KPrd0Mq",
        "outputId": "a376af5c-fe8a-413f-fb21-5cbba5260834"
      },
      "outputs": [
        {
          "data": {
            "application/vnd.plotly.v1+json": {
              "config": {
                "plotlyServerURL": "https://plot.ly"
              },
              "data": [
                {
                  "alignmentgroup": "True",
                  "hovertemplate": "variable=count<br>clean_adcreative_body=%{x}<br>value=%{y}<extra></extra>",
                  "legendgroup": "count",
                  "marker": {
                    "color": "#636efa",
                    "pattern": {
                      "shape": ""
                    }
                  },
                  "name": "count",
                  "offsetgroup": "count",
                  "orientation": "v",
                  "showlegend": true,
                  "textposition": "auto",
                  "type": "bar",
                  "x": [
                    "febbraio",
                    "mealbox",
                    "menu",
                    "presidente",
                    "pisa",
                    "servizio",
                    "san",
                    "prenotazioni",
                    "cena",
                    "approfitta"
                  ],
                  "xaxis": "x",
                  "y": [
                    72,
                    54,
                    54,
                    54,
                    52,
                    52,
                    36,
                    36,
                    36,
                    36
                  ],
                  "yaxis": "y"
                }
              ],
              "layout": {
                "barmode": "relative",
                "legend": {
                  "title": {
                    "text": "variable"
                  },
                  "tracegroupgap": 0
                },
                "margin": {
                  "t": 60
                },
                "template": {
                  "data": {
                    "bar": [
                      {
                        "error_x": {
                          "color": "#2a3f5f"
                        },
                        "error_y": {
                          "color": "#2a3f5f"
                        },
                        "marker": {
                          "line": {
                            "color": "#E5ECF6",
                            "width": 0.5
                          },
                          "pattern": {
                            "fillmode": "overlay",
                            "size": 10,
                            "solidity": 0.2
                          }
                        },
                        "type": "bar"
                      }
                    ],
                    "barpolar": [
                      {
                        "marker": {
                          "line": {
                            "color": "#E5ECF6",
                            "width": 0.5
                          },
                          "pattern": {
                            "fillmode": "overlay",
                            "size": 10,
                            "solidity": 0.2
                          }
                        },
                        "type": "barpolar"
                      }
                    ],
                    "carpet": [
                      {
                        "aaxis": {
                          "endlinecolor": "#2a3f5f",
                          "gridcolor": "white",
                          "linecolor": "white",
                          "minorgridcolor": "white",
                          "startlinecolor": "#2a3f5f"
                        },
                        "baxis": {
                          "endlinecolor": "#2a3f5f",
                          "gridcolor": "white",
                          "linecolor": "white",
                          "minorgridcolor": "white",
                          "startlinecolor": "#2a3f5f"
                        },
                        "type": "carpet"
                      }
                    ],
                    "choropleth": [
                      {
                        "colorbar": {
                          "outlinewidth": 0,
                          "ticks": ""
                        },
                        "type": "choropleth"
                      }
                    ],
                    "contour": [
                      {
                        "colorbar": {
                          "outlinewidth": 0,
                          "ticks": ""
                        },
                        "colorscale": [
                          [
                            0,
                            "#0d0887"
                          ],
                          [
                            0.1111111111111111,
                            "#46039f"
                          ],
                          [
                            0.2222222222222222,
                            "#7201a8"
                          ],
                          [
                            0.3333333333333333,
                            "#9c179e"
                          ],
                          [
                            0.4444444444444444,
                            "#bd3786"
                          ],
                          [
                            0.5555555555555556,
                            "#d8576b"
                          ],
                          [
                            0.6666666666666666,
                            "#ed7953"
                          ],
                          [
                            0.7777777777777778,
                            "#fb9f3a"
                          ],
                          [
                            0.8888888888888888,
                            "#fdca26"
                          ],
                          [
                            1,
                            "#f0f921"
                          ]
                        ],
                        "type": "contour"
                      }
                    ],
                    "contourcarpet": [
                      {
                        "colorbar": {
                          "outlinewidth": 0,
                          "ticks": ""
                        },
                        "type": "contourcarpet"
                      }
                    ],
                    "heatmap": [
                      {
                        "colorbar": {
                          "outlinewidth": 0,
                          "ticks": ""
                        },
                        "colorscale": [
                          [
                            0,
                            "#0d0887"
                          ],
                          [
                            0.1111111111111111,
                            "#46039f"
                          ],
                          [
                            0.2222222222222222,
                            "#7201a8"
                          ],
                          [
                            0.3333333333333333,
                            "#9c179e"
                          ],
                          [
                            0.4444444444444444,
                            "#bd3786"
                          ],
                          [
                            0.5555555555555556,
                            "#d8576b"
                          ],
                          [
                            0.6666666666666666,
                            "#ed7953"
                          ],
                          [
                            0.7777777777777778,
                            "#fb9f3a"
                          ],
                          [
                            0.8888888888888888,
                            "#fdca26"
                          ],
                          [
                            1,
                            "#f0f921"
                          ]
                        ],
                        "type": "heatmap"
                      }
                    ],
                    "heatmapgl": [
                      {
                        "colorbar": {
                          "outlinewidth": 0,
                          "ticks": ""
                        },
                        "colorscale": [
                          [
                            0,
                            "#0d0887"
                          ],
                          [
                            0.1111111111111111,
                            "#46039f"
                          ],
                          [
                            0.2222222222222222,
                            "#7201a8"
                          ],
                          [
                            0.3333333333333333,
                            "#9c179e"
                          ],
                          [
                            0.4444444444444444,
                            "#bd3786"
                          ],
                          [
                            0.5555555555555556,
                            "#d8576b"
                          ],
                          [
                            0.6666666666666666,
                            "#ed7953"
                          ],
                          [
                            0.7777777777777778,
                            "#fb9f3a"
                          ],
                          [
                            0.8888888888888888,
                            "#fdca26"
                          ],
                          [
                            1,
                            "#f0f921"
                          ]
                        ],
                        "type": "heatmapgl"
                      }
                    ],
                    "histogram": [
                      {
                        "marker": {
                          "pattern": {
                            "fillmode": "overlay",
                            "size": 10,
                            "solidity": 0.2
                          }
                        },
                        "type": "histogram"
                      }
                    ],
                    "histogram2d": [
                      {
                        "colorbar": {
                          "outlinewidth": 0,
                          "ticks": ""
                        },
                        "colorscale": [
                          [
                            0,
                            "#0d0887"
                          ],
                          [
                            0.1111111111111111,
                            "#46039f"
                          ],
                          [
                            0.2222222222222222,
                            "#7201a8"
                          ],
                          [
                            0.3333333333333333,
                            "#9c179e"
                          ],
                          [
                            0.4444444444444444,
                            "#bd3786"
                          ],
                          [
                            0.5555555555555556,
                            "#d8576b"
                          ],
                          [
                            0.6666666666666666,
                            "#ed7953"
                          ],
                          [
                            0.7777777777777778,
                            "#fb9f3a"
                          ],
                          [
                            0.8888888888888888,
                            "#fdca26"
                          ],
                          [
                            1,
                            "#f0f921"
                          ]
                        ],
                        "type": "histogram2d"
                      }
                    ],
                    "histogram2dcontour": [
                      {
                        "colorbar": {
                          "outlinewidth": 0,
                          "ticks": ""
                        },
                        "colorscale": [
                          [
                            0,
                            "#0d0887"
                          ],
                          [
                            0.1111111111111111,
                            "#46039f"
                          ],
                          [
                            0.2222222222222222,
                            "#7201a8"
                          ],
                          [
                            0.3333333333333333,
                            "#9c179e"
                          ],
                          [
                            0.4444444444444444,
                            "#bd3786"
                          ],
                          [
                            0.5555555555555556,
                            "#d8576b"
                          ],
                          [
                            0.6666666666666666,
                            "#ed7953"
                          ],
                          [
                            0.7777777777777778,
                            "#fb9f3a"
                          ],
                          [
                            0.8888888888888888,
                            "#fdca26"
                          ],
                          [
                            1,
                            "#f0f921"
                          ]
                        ],
                        "type": "histogram2dcontour"
                      }
                    ],
                    "mesh3d": [
                      {
                        "colorbar": {
                          "outlinewidth": 0,
                          "ticks": ""
                        },
                        "type": "mesh3d"
                      }
                    ],
                    "parcoords": [
                      {
                        "line": {
                          "colorbar": {
                            "outlinewidth": 0,
                            "ticks": ""
                          }
                        },
                        "type": "parcoords"
                      }
                    ],
                    "pie": [
                      {
                        "automargin": true,
                        "type": "pie"
                      }
                    ],
                    "scatter": [
                      {
                        "fillpattern": {
                          "fillmode": "overlay",
                          "size": 10,
                          "solidity": 0.2
                        },
                        "type": "scatter"
                      }
                    ],
                    "scatter3d": [
                      {
                        "line": {
                          "colorbar": {
                            "outlinewidth": 0,
                            "ticks": ""
                          }
                        },
                        "marker": {
                          "colorbar": {
                            "outlinewidth": 0,
                            "ticks": ""
                          }
                        },
                        "type": "scatter3d"
                      }
                    ],
                    "scattercarpet": [
                      {
                        "marker": {
                          "colorbar": {
                            "outlinewidth": 0,
                            "ticks": ""
                          }
                        },
                        "type": "scattercarpet"
                      }
                    ],
                    "scattergeo": [
                      {
                        "marker": {
                          "colorbar": {
                            "outlinewidth": 0,
                            "ticks": ""
                          }
                        },
                        "type": "scattergeo"
                      }
                    ],
                    "scattergl": [
                      {
                        "marker": {
                          "colorbar": {
                            "outlinewidth": 0,
                            "ticks": ""
                          }
                        },
                        "type": "scattergl"
                      }
                    ],
                    "scattermapbox": [
                      {
                        "marker": {
                          "colorbar": {
                            "outlinewidth": 0,
                            "ticks": ""
                          }
                        },
                        "type": "scattermapbox"
                      }
                    ],
                    "scatterpolar": [
                      {
                        "marker": {
                          "colorbar": {
                            "outlinewidth": 0,
                            "ticks": ""
                          }
                        },
                        "type": "scatterpolar"
                      }
                    ],
                    "scatterpolargl": [
                      {
                        "marker": {
                          "colorbar": {
                            "outlinewidth": 0,
                            "ticks": ""
                          }
                        },
                        "type": "scatterpolargl"
                      }
                    ],
                    "scatterternary": [
                      {
                        "marker": {
                          "colorbar": {
                            "outlinewidth": 0,
                            "ticks": ""
                          }
                        },
                        "type": "scatterternary"
                      }
                    ],
                    "surface": [
                      {
                        "colorbar": {
                          "outlinewidth": 0,
                          "ticks": ""
                        },
                        "colorscale": [
                          [
                            0,
                            "#0d0887"
                          ],
                          [
                            0.1111111111111111,
                            "#46039f"
                          ],
                          [
                            0.2222222222222222,
                            "#7201a8"
                          ],
                          [
                            0.3333333333333333,
                            "#9c179e"
                          ],
                          [
                            0.4444444444444444,
                            "#bd3786"
                          ],
                          [
                            0.5555555555555556,
                            "#d8576b"
                          ],
                          [
                            0.6666666666666666,
                            "#ed7953"
                          ],
                          [
                            0.7777777777777778,
                            "#fb9f3a"
                          ],
                          [
                            0.8888888888888888,
                            "#fdca26"
                          ],
                          [
                            1,
                            "#f0f921"
                          ]
                        ],
                        "type": "surface"
                      }
                    ],
                    "table": [
                      {
                        "cells": {
                          "fill": {
                            "color": "#EBF0F8"
                          },
                          "line": {
                            "color": "white"
                          }
                        },
                        "header": {
                          "fill": {
                            "color": "#C8D4E3"
                          },
                          "line": {
                            "color": "white"
                          }
                        },
                        "type": "table"
                      }
                    ]
                  },
                  "layout": {
                    "annotationdefaults": {
                      "arrowcolor": "#2a3f5f",
                      "arrowhead": 0,
                      "arrowwidth": 1
                    },
                    "autotypenumbers": "strict",
                    "coloraxis": {
                      "colorbar": {
                        "outlinewidth": 0,
                        "ticks": ""
                      }
                    },
                    "colorscale": {
                      "diverging": [
                        [
                          0,
                          "#8e0152"
                        ],
                        [
                          0.1,
                          "#c51b7d"
                        ],
                        [
                          0.2,
                          "#de77ae"
                        ],
                        [
                          0.3,
                          "#f1b6da"
                        ],
                        [
                          0.4,
                          "#fde0ef"
                        ],
                        [
                          0.5,
                          "#f7f7f7"
                        ],
                        [
                          0.6,
                          "#e6f5d0"
                        ],
                        [
                          0.7,
                          "#b8e186"
                        ],
                        [
                          0.8,
                          "#7fbc41"
                        ],
                        [
                          0.9,
                          "#4d9221"
                        ],
                        [
                          1,
                          "#276419"
                        ]
                      ],
                      "sequential": [
                        [
                          0,
                          "#0d0887"
                        ],
                        [
                          0.1111111111111111,
                          "#46039f"
                        ],
                        [
                          0.2222222222222222,
                          "#7201a8"
                        ],
                        [
                          0.3333333333333333,
                          "#9c179e"
                        ],
                        [
                          0.4444444444444444,
                          "#bd3786"
                        ],
                        [
                          0.5555555555555556,
                          "#d8576b"
                        ],
                        [
                          0.6666666666666666,
                          "#ed7953"
                        ],
                        [
                          0.7777777777777778,
                          "#fb9f3a"
                        ],
                        [
                          0.8888888888888888,
                          "#fdca26"
                        ],
                        [
                          1,
                          "#f0f921"
                        ]
                      ],
                      "sequentialminus": [
                        [
                          0,
                          "#0d0887"
                        ],
                        [
                          0.1111111111111111,
                          "#46039f"
                        ],
                        [
                          0.2222222222222222,
                          "#7201a8"
                        ],
                        [
                          0.3333333333333333,
                          "#9c179e"
                        ],
                        [
                          0.4444444444444444,
                          "#bd3786"
                        ],
                        [
                          0.5555555555555556,
                          "#d8576b"
                        ],
                        [
                          0.6666666666666666,
                          "#ed7953"
                        ],
                        [
                          0.7777777777777778,
                          "#fb9f3a"
                        ],
                        [
                          0.8888888888888888,
                          "#fdca26"
                        ],
                        [
                          1,
                          "#f0f921"
                        ]
                      ]
                    },
                    "colorway": [
                      "#636efa",
                      "#EF553B",
                      "#00cc96",
                      "#ab63fa",
                      "#FFA15A",
                      "#19d3f3",
                      "#FF6692",
                      "#B6E880",
                      "#FF97FF",
                      "#FECB52"
                    ],
                    "font": {
                      "color": "#2a3f5f"
                    },
                    "geo": {
                      "bgcolor": "white",
                      "lakecolor": "white",
                      "landcolor": "#E5ECF6",
                      "showlakes": true,
                      "showland": true,
                      "subunitcolor": "white"
                    },
                    "hoverlabel": {
                      "align": "left"
                    },
                    "hovermode": "closest",
                    "mapbox": {
                      "style": "light"
                    },
                    "paper_bgcolor": "white",
                    "plot_bgcolor": "#E5ECF6",
                    "polar": {
                      "angularaxis": {
                        "gridcolor": "white",
                        "linecolor": "white",
                        "ticks": ""
                      },
                      "bgcolor": "#E5ECF6",
                      "radialaxis": {
                        "gridcolor": "white",
                        "linecolor": "white",
                        "ticks": ""
                      }
                    },
                    "scene": {
                      "xaxis": {
                        "backgroundcolor": "#E5ECF6",
                        "gridcolor": "white",
                        "gridwidth": 2,
                        "linecolor": "white",
                        "showbackground": true,
                        "ticks": "",
                        "zerolinecolor": "white"
                      },
                      "yaxis": {
                        "backgroundcolor": "#E5ECF6",
                        "gridcolor": "white",
                        "gridwidth": 2,
                        "linecolor": "white",
                        "showbackground": true,
                        "ticks": "",
                        "zerolinecolor": "white"
                      },
                      "zaxis": {
                        "backgroundcolor": "#E5ECF6",
                        "gridcolor": "white",
                        "gridwidth": 2,
                        "linecolor": "white",
                        "showbackground": true,
                        "ticks": "",
                        "zerolinecolor": "white"
                      }
                    },
                    "shapedefaults": {
                      "line": {
                        "color": "#2a3f5f"
                      }
                    },
                    "ternary": {
                      "aaxis": {
                        "gridcolor": "white",
                        "linecolor": "white",
                        "ticks": ""
                      },
                      "baxis": {
                        "gridcolor": "white",
                        "linecolor": "white",
                        "ticks": ""
                      },
                      "bgcolor": "#E5ECF6",
                      "caxis": {
                        "gridcolor": "white",
                        "linecolor": "white",
                        "ticks": ""
                      }
                    },
                    "title": {
                      "x": 0.05
                    },
                    "xaxis": {
                      "automargin": true,
                      "gridcolor": "white",
                      "linecolor": "white",
                      "ticks": "",
                      "title": {
                        "standoff": 15
                      },
                      "zerolinecolor": "white",
                      "zerolinewidth": 2
                    },
                    "yaxis": {
                      "automargin": true,
                      "gridcolor": "white",
                      "linecolor": "white",
                      "ticks": "",
                      "title": {
                        "standoff": 15
                      },
                      "zerolinecolor": "white",
                      "zerolinewidth": 2
                    }
                  }
                },
                "xaxis": {
                  "anchor": "y",
                  "domain": [
                    0,
                    1
                  ],
                  "title": {
                    "text": "clean_adcreative_body"
                  }
                },
                "yaxis": {
                  "anchor": "x",
                  "domain": [
                    0,
                    1
                  ],
                  "title": {
                    "text": "value"
                  }
                }
              }
            }
          },
          "metadata": {},
          "output_type": "display_data"
        },
        {
          "data": {
            "text/plain": [
              "clean_adcreative_body\n",
              "febbraio      72\n",
              "mealbox       54\n",
              "menu          54\n",
              "presidente    54\n",
              "pisa          52\n",
              "Name: count, dtype: int64"
            ]
          },
          "execution_count": 29,
          "metadata": {},
          "output_type": "execute_result"
        }
      ],
      "source": [
        "# Plot the stop words for this dataframe\n",
        "tw = hero.visualization.top_words(final_df[\"clean_adcreative_body\"]).head(10)\n",
        "import plotly.express as px\n",
        "\n",
        "fig = px.bar(tw)\n",
        "fig.show()\n",
        "tw.head()"
      ]
    },
    {
      "cell_type": "code",
      "execution_count": null,
      "metadata": {
        "id": "Z_7WKcP_d0Mq",
        "outputId": "e00ce7cd-631e-40e9-e818-4f6b969881bd"
      },
      "outputs": [
        {
          "data": {
            "text/html": [
              "<div>\n",
              "<style scoped>\n",
              "    .dataframe tbody tr th:only-of-type {\n",
              "        vertical-align: middle;\n",
              "    }\n",
              "\n",
              "    .dataframe tbody tr th {\n",
              "        vertical-align: top;\n",
              "    }\n",
              "\n",
              "    .dataframe thead th {\n",
              "        text-align: right;\n",
              "    }\n",
              "</style>\n",
              "<table border=\"1\" class=\"dataframe\">\n",
              "  <thead>\n",
              "    <tr style=\"text-align: right;\">\n",
              "      <th></th>\n",
              "      <th>image_array</th>\n",
              "      <th>cpm</th>\n",
              "      <th>clean_adcreative_body</th>\n",
              "    </tr>\n",
              "  </thead>\n",
              "  <tbody>\n",
              "    <tr>\n",
              "      <th>18</th>\n",
              "      <td>[[[95.0, 90.0, 94.0], [96.0, 92.0, 93.0], [94....</td>\n",
              "      <td>1.511704</td>\n",
              "      <td>vieni scoprire magia vera pizza napoletana pis...</td>\n",
              "    </tr>\n",
              "    <tr>\n",
              "      <th>19</th>\n",
              "      <td>[[[95.0, 90.0, 94.0], [96.0, 92.0, 93.0], [94....</td>\n",
              "      <td>2.833327</td>\n",
              "      <td>vieni scoprire magia vera pizza napoletana pis...</td>\n",
              "    </tr>\n",
              "  </tbody>\n",
              "</table>\n",
              "</div>"
            ],
            "text/plain": [
              "                                          image_array       cpm  \\\n",
              "18  [[[95.0, 90.0, 94.0], [96.0, 92.0, 93.0], [94....  1.511704   \n",
              "19  [[[95.0, 90.0, 94.0], [96.0, 92.0, 93.0], [94....  2.833327   \n",
              "\n",
              "                                clean_adcreative_body  \n",
              "18  vieni scoprire magia vera pizza napoletana pis...  \n",
              "19  vieni scoprire magia vera pizza napoletana pis...  "
            ]
          },
          "execution_count": 30,
          "metadata": {},
          "output_type": "execute_result"
        }
      ],
      "source": [
        "final_df = final_df.drop('adcreatives_body', axis=1)\n",
        "final_df.head(2)"
      ]
    },
    {
      "cell_type": "code",
      "execution_count": null,
      "metadata": {
        "id": "K9EI3-KVd0Mq",
        "outputId": "f98c5e42-ec1d-461d-9f04-f0a224a124be"
      },
      "outputs": [
        {
          "data": {
            "text/html": [
              "<div>\n",
              "<style scoped>\n",
              "    .dataframe tbody tr th:only-of-type {\n",
              "        vertical-align: middle;\n",
              "    }\n",
              "\n",
              "    .dataframe tbody tr th {\n",
              "        vertical-align: top;\n",
              "    }\n",
              "\n",
              "    .dataframe thead th {\n",
              "        text-align: right;\n",
              "    }\n",
              "</style>\n",
              "<table border=\"1\" class=\"dataframe\">\n",
              "  <thead>\n",
              "    <tr style=\"text-align: right;\">\n",
              "      <th></th>\n",
              "      <th>image_array</th>\n",
              "      <th>cpm</th>\n",
              "      <th>clean_adcreative_body</th>\n",
              "      <th>adcreative_word2vec</th>\n",
              "    </tr>\n",
              "  </thead>\n",
              "  <tbody>\n",
              "    <tr>\n",
              "      <th>18</th>\n",
              "      <td>[[[95.0, 90.0, 94.0], [96.0, 92.0, 93.0], [94....</td>\n",
              "      <td>1.511704</td>\n",
              "      <td>vieni scoprire magia vera pizza napoletana pis...</td>\n",
              "      <td>[-0.023828020319342613, 0.01629415713250637, 0...</td>\n",
              "    </tr>\n",
              "    <tr>\n",
              "      <th>19</th>\n",
              "      <td>[[[95.0, 90.0, 94.0], [96.0, 92.0, 93.0], [94....</td>\n",
              "      <td>2.833327</td>\n",
              "      <td>vieni scoprire magia vera pizza napoletana pis...</td>\n",
              "      <td>[-0.021696321666240692, 0.018789490684866905, ...</td>\n",
              "    </tr>\n",
              "  </tbody>\n",
              "</table>\n",
              "</div>"
            ],
            "text/plain": [
              "                                          image_array       cpm  \\\n",
              "18  [[[95.0, 90.0, 94.0], [96.0, 92.0, 93.0], [94....  1.511704   \n",
              "19  [[[95.0, 90.0, 94.0], [96.0, 92.0, 93.0], [94....  2.833327   \n",
              "\n",
              "                                clean_adcreative_body  \\\n",
              "18  vieni scoprire magia vera pizza napoletana pis...   \n",
              "19  vieni scoprire magia vera pizza napoletana pis...   \n",
              "\n",
              "                                  adcreative_word2vec  \n",
              "18  [-0.023828020319342613, 0.01629415713250637, 0...  \n",
              "19  [-0.021696321666240692, 0.018789490684866905, ...  "
            ]
          },
          "execution_count": 31,
          "metadata": {},
          "output_type": "execute_result"
        }
      ],
      "source": [
        "# Make Tf-Idf of the Description\n",
        "from gensim.models.doc2vec import Doc2Vec, TaggedDocument\n",
        "\n",
        "cards = [TaggedDocument(doc.split(' '), [i]) for i, doc in enumerate(final_df[\"clean_adcreative_body\"])]\n",
        "\n",
        "#Model instantiating\n",
        "model = Doc2Vec(vector_size=64, window=2, workers=8, min_count=1, epochs =40)\n",
        "\n",
        "#Build the vocabs\n",
        "model.build_vocab(cards)\n",
        "\n",
        "# Train the model\n",
        "model.train(cards, total_examples=model.corpus_count, epochs=model.epochs)\n",
        "\n",
        "# Generate vectors, skipping rows where 'clean_adcreative_body' is empty\n",
        "card2vec = [model.infer_vector(row.split()) for row in final_df['clean_adcreative_body'] if pd.notna(row) and row.strip()]\n",
        "\n",
        "#Create a list of lists\n",
        "dtv= np.array(card2vec).tolist()\n",
        "\n",
        "#set list to dataframe column\n",
        "final_df['adcreative_word2vec'] = dtv\n",
        "\n",
        "final_df.head(2)"
      ]
    },
    {
      "cell_type": "code",
      "execution_count": null,
      "metadata": {
        "id": "2Slg3La2d0Mr",
        "outputId": "2853343d-d35c-49af-9a8b-bfc48d155586"
      },
      "outputs": [
        {
          "data": {
            "text/html": [
              "<div>\n",
              "<style scoped>\n",
              "    .dataframe tbody tr th:only-of-type {\n",
              "        vertical-align: middle;\n",
              "    }\n",
              "\n",
              "    .dataframe tbody tr th {\n",
              "        vertical-align: top;\n",
              "    }\n",
              "\n",
              "    .dataframe thead th {\n",
              "        text-align: right;\n",
              "    }\n",
              "</style>\n",
              "<table border=\"1\" class=\"dataframe\">\n",
              "  <thead>\n",
              "    <tr style=\"text-align: right;\">\n",
              "      <th></th>\n",
              "      <th>index</th>\n",
              "      <th>image_array</th>\n",
              "      <th>cpm</th>\n",
              "      <th>adcreative_word2vec</th>\n",
              "    </tr>\n",
              "  </thead>\n",
              "  <tbody>\n",
              "    <tr>\n",
              "      <th>0</th>\n",
              "      <td>18</td>\n",
              "      <td>[[[95.0, 90.0, 94.0], [96.0, 92.0, 93.0], [94....</td>\n",
              "      <td>1.511704</td>\n",
              "      <td>[-0.023828020319342613, 0.01629415713250637, 0...</td>\n",
              "    </tr>\n",
              "    <tr>\n",
              "      <th>1</th>\n",
              "      <td>19</td>\n",
              "      <td>[[[95.0, 90.0, 94.0], [96.0, 92.0, 93.0], [94....</td>\n",
              "      <td>2.833327</td>\n",
              "      <td>[-0.021696321666240692, 0.018789490684866905, ...</td>\n",
              "    </tr>\n",
              "  </tbody>\n",
              "</table>\n",
              "</div>"
            ],
            "text/plain": [
              "   index                                        image_array       cpm  \\\n",
              "0     18  [[[95.0, 90.0, 94.0], [96.0, 92.0, 93.0], [94....  1.511704   \n",
              "1     19  [[[95.0, 90.0, 94.0], [96.0, 92.0, 93.0], [94....  2.833327   \n",
              "\n",
              "                                 adcreative_word2vec  \n",
              "0  [-0.023828020319342613, 0.01629415713250637, 0...  \n",
              "1  [-0.021696321666240692, 0.018789490684866905, ...  "
            ]
          },
          "execution_count": 32,
          "metadata": {},
          "output_type": "execute_result"
        }
      ],
      "source": [
        "final_df = final_df.drop('clean_adcreative_body', axis=1).reset_index()\n",
        "final_df.head(2)"
      ]
    },
    {
      "cell_type": "code",
      "execution_count": null,
      "metadata": {
        "id": "y2LfSyzvd0Mr"
      },
      "outputs": [],
      "source": [
        "#Save the CSV file now\n",
        "final_df = final_df.drop('index', axis=1)\n",
        "final_df.to_csv(\"../final_df_backup.csv\", index=False)"
      ]
    },
    {
      "cell_type": "code",
      "execution_count": null,
      "metadata": {
        "id": "Tz9EMxxEd0Mr",
        "outputId": "5e1b4e5c-33a2-4e30-91ae-5ec60fcf4080"
      },
      "outputs": [
        {
          "data": {
            "text/html": [
              "<div>\n",
              "<style scoped>\n",
              "    .dataframe tbody tr th:only-of-type {\n",
              "        vertical-align: middle;\n",
              "    }\n",
              "\n",
              "    .dataframe tbody tr th {\n",
              "        vertical-align: top;\n",
              "    }\n",
              "\n",
              "    .dataframe thead th {\n",
              "        text-align: right;\n",
              "    }\n",
              "</style>\n",
              "<table border=\"1\" class=\"dataframe\">\n",
              "  <thead>\n",
              "    <tr style=\"text-align: right;\">\n",
              "      <th></th>\n",
              "      <th>image_array</th>\n",
              "      <th>cpm</th>\n",
              "      <th>adcreative_word2vec</th>\n",
              "    </tr>\n",
              "  </thead>\n",
              "  <tbody>\n",
              "    <tr>\n",
              "      <th>0</th>\n",
              "      <td>[[[ 95.  90.  94.]\\n  [ 96.  92.  93.]\\n  [ 94...</td>\n",
              "      <td>1.511704</td>\n",
              "      <td>[-0.047150880098342896, -0.027570663020014763,...</td>\n",
              "    </tr>\n",
              "    <tr>\n",
              "      <th>1</th>\n",
              "      <td>[[[ 95.  90.  94.]\\n  [ 96.  92.  93.]\\n  [ 94...</td>\n",
              "      <td>2.833327</td>\n",
              "      <td>[-0.04560212045907974, -0.032711662352085114, ...</td>\n",
              "    </tr>\n",
              "  </tbody>\n",
              "</table>\n",
              "</div>"
            ],
            "text/plain": [
              "                                         image_array       cpm  \\\n",
              "0  [[[ 95.  90.  94.]\\n  [ 96.  92.  93.]\\n  [ 94...  1.511704   \n",
              "1  [[[ 95.  90.  94.]\\n  [ 96.  92.  93.]\\n  [ 94...  2.833327   \n",
              "\n",
              "                                 adcreative_word2vec  \n",
              "0  [-0.047150880098342896, -0.027570663020014763,...  \n",
              "1  [-0.04560212045907974, -0.032711662352085114, ...  "
            ]
          },
          "execution_count": 7,
          "metadata": {},
          "output_type": "execute_result"
        }
      ],
      "source": [
        "#Read the CSV file that was saved\n",
        "final_df = pd.read_csv(r\"C:\\Users\\Aigot-Developer\\Desktop\\PROJECTS\\AIGOT\\Backup_Data_Formats\\final_df_backup.csv\")\n",
        "final_df.head(2)"
      ]
    },
    {
      "cell_type": "code",
      "execution_count": null,
      "metadata": {
        "id": "xdishT4qd0Mr"
      },
      "outputs": [],
      "source": [
        "X = final_df.drop(columns=\"cpm\", axis=1)\n",
        "y = final_df[\"cpm\"]"
      ]
    },
    {
      "cell_type": "code",
      "execution_count": null,
      "metadata": {
        "id": "Kq5jhUx4d0Mr"
      },
      "outputs": [],
      "source": [
        "from sklearn.model_selection import train_test_split\n",
        "from sklearn.preprocessing import MinMaxScaler\n",
        "\n",
        "#Now Split the X and Y cols using the Train Test Split\n",
        "X_train, X_test, y_train, y_test = train_test_split(X, y, test_size=0.2, shuffle=True, random_state=42)\n",
        "\n",
        "# Extract individual columns from DataFrames\n",
        "X_train_image_vector = np.array([np.array(x) for x in X_train[\"image_array\"]])\n",
        "X_train_word2vec_vector = np.asarray(X_train[\"adcreative_word2vec\"]).tolist()\n",
        "\n",
        "X_test_image_vector = np.array([np.array(x) for x in X_test[\"image_array\"]])\n",
        "X_test_word2vec_vector = np.asarray(X_test[\"adcreative_word2vec\"]).tolist()\n",
        "\n",
        "#Apply the MinMaxScaler to the y-values\n",
        "scaler = MinMaxScaler((0, 1))\n",
        "\n",
        "# Fit and transform on training data\n",
        "y_train_scaled = scaler.fit_transform(np.array(y_train, dtype=np.float32).reshape(-1, 1))\n",
        "\n",
        "# Transform on test data\n",
        "y_test_scaled = scaler.transform(np.array(y_test, dtype=np.float32).reshape(-1, 1))"
      ]
    },
    {
      "cell_type": "code",
      "execution_count": null,
      "metadata": {
        "id": "XsGqGEwDd0Mr"
      },
      "outputs": [],
      "source": [
        "def preprocess_data_v2(X, y, test_size = 0.20, shuffle=True):\n",
        "    #Now Split the X and Y cols using the Train Test Split\n",
        "    X_train, X_test, y_train, y_test = train_test_split(X, y, test_size=test_size, shuffle=shuffle)\n",
        "\n",
        "    # Extract individual columns from DataFrames\n",
        "    X_train_image_vector = np.array([np.array(x) for x in X_train[\"image_array\"]])\n",
        "    X_train_word2vec_vector = np.asarray(X_train[\"adcreative_word2vec\"]).tolist()\n",
        "\n",
        "    X_test_image_vector = np.array([np.array(x) for x in X_test[\"image_array\"]])\n",
        "    X_test_word2vec_vector = np.asarray(X_test[\"adcreative_word2vec\"]).tolist()\n",
        "\n",
        "    # Convert labels to numpy arrays\n",
        "    y_train_np = np.asarray(y_train, dtype=np.float32)\n",
        "    y_test_np = np.asarray(y_test, dtype=np.float32)\n",
        "\n",
        "    return X_train_image_vector, X_train_word2vec_vector, y_train_np, X_test_image_vector, X_test_word2vec_vector, y_test_np\n"
      ]
    },
    {
      "cell_type": "code",
      "execution_count": null,
      "metadata": {
        "id": "1BPr2eQ7d0Mr"
      },
      "outputs": [],
      "source": [
        "# from tensorflow.keras.applications import EfficientNetB0\n",
        "from keras import regularizers\n",
        "\n",
        "\n",
        "word2vec_input_shape = np.array(X_train_word2vec_vector[0]).shape\n",
        "\n",
        "# Create Custom NN Model\n",
        "def create_can_model_v2():\n",
        "    # Define Image input\n",
        "    image_input = Input(shape=(224,224,3), name=\"image_input\")\n",
        "    # image_features = vit_model(image_input)\n",
        "    image_features = Flatten(name=\"flatten_image\")(image_input)\n",
        "\n",
        "    # Define the Sentence input\n",
        "    word2vec_vector_input = Input(shape=word2vec_input_shape, name='word2vec_input')\n",
        "    word2vec_vector_output = Dense(64, activation='relu', name=\"dense_word2vec\")(word2vec_vector_input)\n",
        "\n",
        "    # Concatenate the branches\n",
        "    merged = concatenate([image_features, word2vec_vector_output])\n",
        "\n",
        "    dense1_shared = Dense(64, name=\"dense1_shared\", kernel_regularizer=regularizers.L2(l2=0.01))(merged)\n",
        "    lr1_shared = LeakyReLU(alpha=0.01, name=\"lr1_shared\")(dense1_shared)\n",
        "    dense2_shared = Dense(32, name=\"dense2_shared\",  kernel_regularizer=regularizers.L2(l2=0.02))(lr1_shared)\n",
        "    lr2_shared = LeakyReLU(alpha=0.01, name=\"lr2_shared\")(dense2_shared)\n",
        "    drop3_3 = Dropout(0.05, name=\"drop3_3\")(lr2_shared)\n",
        "    out3 = Dense(1, activation=\"linear\", name=\"out3_regression\")(drop3_3)\n",
        "\n",
        "    # Define inputs and outputs\n",
        "    inputs = [image_input, word2vec_vector_input]\n",
        "    outputs = [out3]\n",
        "\n",
        "    # Compile the Model\n",
        "    final_model = Model(inputs=inputs, outputs=outputs)\n",
        "\n",
        "    # Create the final model\n",
        "    final_model.compile(optimizer='adam', loss='mean_absolute_error', metrics='mean_absolute_error')\n",
        "\n",
        "    return final_model"
      ]
    },
    {
      "cell_type": "markdown",
      "metadata": {
        "id": "iaa89FXhd0Mr"
      },
      "source": [
        "###### Evaluating the Neural Network to know the best Batch Size and Epoch"
      ]
    },
    {
      "cell_type": "code",
      "execution_count": null,
      "metadata": {
        "id": "0qzNSr6-d0Mr",
        "outputId": "7a758ace-2515-481e-ffa6-ba13e823b733"
      },
      "outputs": [
        {
          "name": "stdout",
          "output_type": "stream",
          "text": [
            "WARNING:tensorflow:From c:\\Users\\Aigot-Developer\\Desktop\\PROJECTS\\AIGOT\\Backup_Data_Formats\\.venv\\lib\\site-packages\\keras\\src\\backend.py:1398: The name tf.executing_eagerly_outside_functions is deprecated. Please use tf.compat.v1.executing_eagerly_outside_functions instead.\n",
            "\n",
            "WARNING:tensorflow:From c:\\Users\\Aigot-Developer\\Desktop\\PROJECTS\\AIGOT\\Backup_Data_Formats\\.venv\\lib\\site-packages\\keras\\src\\optimizers\\__init__.py:309: The name tf.train.Optimizer is deprecated. Please use tf.compat.v1.train.Optimizer instead.\n",
            "\n",
            "WARNING:tensorflow:From c:\\Users\\Aigot-Developer\\Desktop\\PROJECTS\\AIGOT\\Backup_Data_Formats\\.venv\\lib\\site-packages\\keras\\src\\utils\\tf_utils.py:492: The name tf.ragged.RaggedTensorValue is deprecated. Please use tf.compat.v1.ragged.RaggedTensorValue instead.\n",
            "\n",
            "WARNING:tensorflow:From c:\\Users\\Aigot-Developer\\Desktop\\PROJECTS\\AIGOT\\Backup_Data_Formats\\.venv\\lib\\site-packages\\keras\\src\\engine\\base_layer_utils.py:384: The name tf.executing_eagerly_outside_functions is deprecated. Please use tf.compat.v1.executing_eagerly_outside_functions instead.\n",
            "\n"
          ]
        }
      ],
      "source": [
        "new_model = create_can_model_v2()\n",
        "\n",
        "HISTORY = new_model.fit(x=[X_train_image_vector, np.array(X_train_word2vec_vector)], y=y_train_scaled, batch_size=16, epochs=100, verbose=0)"
      ]
    },
    {
      "cell_type": "code",
      "execution_count": null,
      "metadata": {
        "id": "ELunI2MDd0Mr",
        "outputId": "40744667-0d60-45cd-fa49-11686390076b"
      },
      "outputs": [
        {
          "data": {
            "image/png": "[encoded data removed]",
            "text/plain": [
              "<Figure size 640x480 with 1 Axes>"
            ]
          },
          "metadata": {},
          "output_type": "display_data"
        }
      ],
      "source": [
        "# Plot the graph & check the efficient values\n",
        "plt.plot(HISTORY.history[\"mean_absolute_error\"])\n",
        "plt.title(\"Loss Function over Epochs\")\n",
        "plt.ylabel(\"MAE value\")\n",
        "plt.xlabel(\"Num of Epochs\")\n",
        "plt.show()"
      ]
    },
    {
      "cell_type": "code",
      "execution_count": null,
      "metadata": {
        "id": "iipGz_ySd0Mr",
        "outputId": "b0910626-ea9b-48ce-e2be-052cbc0e40b4"
      },
      "outputs": [
        {
          "name": "stdout",
          "output_type": "stream",
          "text": [
            "1/1 [==============================] - 0s 114ms/step\n",
            "+------------+---------------+\n",
            "| Actual CPM | Predicted CPM |\n",
            "+------------+---------------+\n",
            "|   11.67    |     80.71     |\n",
            "|   10.23    |     58.22     |\n",
            "|    5.56    |     102.0     |\n",
            "|    7.17    |     102.0     |\n",
            "|   10.14    |     58.22     |\n",
            "|   11.57    |     123.96    |\n",
            "|   11.62    |     58.22     |\n",
            "|   12.84    |     102.0     |\n",
            "|   11.23    |     58.22     |\n",
            "|   10.49    |     123.96    |\n",
            "+------------+---------------+\n"
          ]
        }
      ],
      "source": [
        "# Check the predictions to see if the values are close to the predictions\n",
        "from prettytable import PrettyTable\n",
        "\n",
        "# Y prediction for the X test variables\n",
        "y_pred_scaled = new_model.predict(x=[X_test_image_vector, np.array(X_test_word2vec_vector)])\n",
        "y_predInverse = scaler.inverse_transform(y_pred_scaled.reshape(-1, 1))\n",
        "\n",
        "# Convert the pandas Series to a NumPy array before reshaping\n",
        "y_test_array = np.array(y_test)\n",
        "y_testInverse = scaler.inverse_transform(y_test_array.reshape(-1, 1))\n",
        "\n",
        "combinedArray = np.column_stack((y_testInverse[0:10], y_predInverse[0:10]))\n",
        "\n",
        "# Create a PrettyTable instance\n",
        "table = PrettyTable()\n",
        "\n",
        "# Define column names\n",
        "table.field_names = [\"Actual CPM\", \"Predicted CPM\"]\n",
        "\n",
        "# Add data to the table\n",
        "for row in combinedArray:\n",
        "    table.add_row(np.around(row, decimals=2))  # Round the entire row to 2 decimal places\n",
        "\n",
        "# Print the table\n",
        "print(table)"
      ]
    },
    {
      "cell_type": "markdown",
      "metadata": {
        "id": "Gmt-3HKyd0Mr"
      },
      "source": [
        "###### BEGIN THE GRID_SEARCH_WITH CROSS VALIDATION OF 5"
      ]
    },
    {
      "cell_type": "code",
      "execution_count": null,
      "metadata": {
        "id": "4rDjTpubd0Ms"
      },
      "outputs": [],
      "source": [
        "# Using Grid Search CV\n",
        "from sklearn.model_selection import GridSearchCV\n",
        "from scikeras.wrappers import KerasRegressor\n",
        "\n",
        "# Flatten the X_train_image_vector to make it 2D\n",
        "X_train_image_vector_flattened = np.array(X_train_image_vector).reshape(70, -1)\n",
        "\n",
        "# Reshape X_train_word2vec_vector to match the number of dimensions in X_train_image_vector\n",
        "X_train_word2vec_vector_reshaped = np.array(X_train_word2vec_vector).reshape(-1, 64)\n",
        "\n",
        "# Combine image and word2vec vectors\n",
        "X_train_combined = np.concatenate([X_train_image_vector_flattened, X_train_word2vec_vector_reshaped], axis=1)\n",
        "\n",
        "\n",
        "# Function to create the model\n",
        "def create_can_model_v2(optimizer='adam'):\n",
        "    # Define Image input\n",
        "    image_input = Input(shape=(224 * 224 * 3,), name=\"image_input\")\n",
        "    image_features = Dense(224 * 224 * 3, activation='relu', name=\"dense_image\")(image_input)\n",
        "\n",
        "    # Define the Sentence input\n",
        "    word2vec_vector_input = Input(shape=(64,), name='word2vec_input')\n",
        "    word2vec_vector_output = Dense(64, activation='relu', name=\"dense_word2vec\")(word2vec_vector_input)\n",
        "\n",
        "    # Concatenate the branches\n",
        "    merged = concatenate([image_features, word2vec_vector_output])\n",
        "\n",
        "    dense1_shared = Dense(64, name=\"dense1_shared\", kernel_regularizer=regularizers.L2(l2=0.01))(merged)\n",
        "    lr1_shared = LeakyReLU(alpha=0.01, name=\"lr1_shared\")(dense1_shared)\n",
        "    dense2_shared = Dense(32, name=\"dense2_shared\", kernel_regularizer=regularizers.L2(l2=0.02))(lr1_shared)\n",
        "    lr2_shared = LeakyReLU(alpha=0.01, name=\"lr2_shared\")(dense2_shared)\n",
        "    drop3_3 = Dropout(rate=0.05, name=\"drop3_3\")(lr2_shared)\n",
        "    out3 = Dense(1, activation=\"linear\", name=\"out3_regression\")(drop3_3)\n",
        "\n",
        "    # Define inputs and outputs\n",
        "    inputs = [image_input, word2vec_vector_input]\n",
        "    outputs = [out3]\n",
        "\n",
        "    # Compile the Model\n",
        "    final_model = Model(inputs=inputs, outputs=outputs)\n",
        "    final_model.compile(optimizer=optimizer, loss='mean_absolute_error', metrics=['mean_absolute_error'])\n",
        "\n",
        "    return final_model"
      ]
    },
    {
      "cell_type": "code",
      "execution_count": null,
      "metadata": {
        "id": "kbRZQzPud0Ms",
        "outputId": "eb7c2b2f-5fc9-41be-b261-99678943bf23"
      },
      "outputs": [
        {
          "ename": "ValueError",
          "evalue": "\nAll the 60 fits failed.\nIt is very likely that your model is misconfigured.\nYou can try to debug the error by setting error_score='raise'.\n\nBelow are more details about the failures:\n--------------------------------------------------------------------------------\n60 fits failed with the following error:\nTraceback (most recent call last):\n  File \"c:\\Users\\Aigot-Developer\\Desktop\\PROJECTS\\AIGOT\\Backup_Data_Formats\\.venv\\lib\\site-packages\\sklearn\\model_selection\\_validation.py\", line 890, in _fit_and_score\n    estimator.fit(X_train, y_train, **fit_params)\n  File \"c:\\Users\\Aigot-Developer\\Desktop\\PROJECTS\\AIGOT\\Backup_Data_Formats\\.venv\\lib\\site-packages\\scikeras\\wrappers.py\", line 760, in fit\n    self._fit(\n  File \"c:\\Users\\Aigot-Developer\\Desktop\\PROJECTS\\AIGOT\\Backup_Data_Formats\\.venv\\lib\\site-packages\\scikeras\\wrappers.py\", line 915, in _fit\n    X, y = self._initialize(X, y)\n  File \"c:\\Users\\Aigot-Developer\\Desktop\\PROJECTS\\AIGOT\\Backup_Data_Formats\\.venv\\lib\\site-packages\\scikeras\\wrappers.py\", line 852, in _initialize\n    self.model_ = self._build_keras_model()\n  File \"c:\\Users\\Aigot-Developer\\Desktop\\PROJECTS\\AIGOT\\Backup_Data_Formats\\.venv\\lib\\site-packages\\scikeras\\wrappers.py\", line 429, in _build_keras_model\n    model = final_build_fn(**build_params)\n  File \"C:\\Users\\Aigot-Developer\\AppData\\Local\\Temp\\ipykernel_19604\\1040115752.py\", line 19, in create_can_model_v2\n    image_features = Dense(224 * 224 * 3, activation='relu', name=\"dense_image\")(image_input)\n  File \"c:\\Users\\Aigot-Developer\\Desktop\\PROJECTS\\AIGOT\\Backup_Data_Formats\\.venv\\lib\\site-packages\\keras\\src\\utils\\traceback_utils.py\", line 70, in error_handler\n    raise e.with_traceback(filtered_tb) from None\n  File \"c:\\Users\\Aigot-Developer\\Desktop\\PROJECTS\\AIGOT\\Backup_Data_Formats\\.venv\\lib\\site-packages\\keras\\src\\backend.py\", line 2100, in random_uniform\n    return tf.random.stateless_uniform(\ntensorflow.python.framework.errors_impl.ResourceExhaustedError: {{function_node __wrapped__StatelessRandomUniformV2_device_/job:localhost/replica:0/task:0/device:CPU:0}} OOM when allocating tensor with shape[150528,150528] and type float on /job:localhost/replica:0/task:0/device:CPU:0 by allocator mklcpu [Op:StatelessRandomUniformV2] name: \n",
          "output_type": "error",
          "traceback": [
            "\u001b[1;31m---------------------------------------------------------------------------\u001b[0m",
            "\u001b[1;31mValueError\u001b[0m                                Traceback (most recent call last)",
            "Cell \u001b[1;32mIn[45], line 17\u001b[0m\n\u001b[0;32m     13\u001b[0m grid_search \u001b[38;5;241m=\u001b[39m GridSearchCV(estimator\u001b[38;5;241m=\u001b[39mmodel, param_grid\u001b[38;5;241m=\u001b[39mparam_grid, cv\u001b[38;5;241m=\u001b[39m\u001b[38;5;241m5\u001b[39m, scoring\u001b[38;5;241m=\u001b[39m\u001b[38;5;124m'\u001b[39m\u001b[38;5;124mneg_mean_absolute_error\u001b[39m\u001b[38;5;124m'\u001b[39m)\n\u001b[0;32m     14\u001b[0m \u001b[38;5;66;03m# grid_search = GridSearchCV(estimator=model, param_grid=param_grid, cv=5)\u001b[39;00m\n\u001b[1;32m---> 17\u001b[0m grid_result \u001b[38;5;241m=\u001b[39m \u001b[43mgrid_search\u001b[49m\u001b[38;5;241;43m.\u001b[39;49m\u001b[43mfit\u001b[49m\u001b[43m(\u001b[49m\u001b[43mX\u001b[49m\u001b[38;5;241;43m=\u001b[39;49m\u001b[43mX_train_combined\u001b[49m\u001b[43m,\u001b[49m\u001b[43m \u001b[49m\u001b[43my\u001b[49m\u001b[38;5;241;43m=\u001b[39;49m\u001b[43my_train_scaled\u001b[49m\u001b[43m)\u001b[49m\n",
            "File \u001b[1;32mc:\\Users\\Aigot-Developer\\Desktop\\PROJECTS\\AIGOT\\Backup_Data_Formats\\.venv\\lib\\site-packages\\sklearn\\base.py:1351\u001b[0m, in \u001b[0;36m_fit_context.<locals>.decorator.<locals>.wrapper\u001b[1;34m(estimator, *args, **kwargs)\u001b[0m\n\u001b[0;32m   1344\u001b[0m     estimator\u001b[38;5;241m.\u001b[39m_validate_params()\n\u001b[0;32m   1346\u001b[0m \u001b[38;5;28;01mwith\u001b[39;00m config_context(\n\u001b[0;32m   1347\u001b[0m     skip_parameter_validation\u001b[38;5;241m=\u001b[39m(\n\u001b[0;32m   1348\u001b[0m         prefer_skip_nested_validation \u001b[38;5;129;01mor\u001b[39;00m global_skip_validation\n\u001b[0;32m   1349\u001b[0m     )\n\u001b[0;32m   1350\u001b[0m ):\n\u001b[1;32m-> 1351\u001b[0m     \u001b[38;5;28;01mreturn\u001b[39;00m fit_method(estimator, \u001b[38;5;241m*\u001b[39margs, \u001b[38;5;241m*\u001b[39m\u001b[38;5;241m*\u001b[39mkwargs)\n",
            "File \u001b[1;32mc:\\Users\\Aigot-Developer\\Desktop\\PROJECTS\\AIGOT\\Backup_Data_Formats\\.venv\\lib\\site-packages\\sklearn\\model_selection\\_search.py:970\u001b[0m, in \u001b[0;36mBaseSearchCV.fit\u001b[1;34m(self, X, y, **params)\u001b[0m\n\u001b[0;32m    964\u001b[0m     results \u001b[38;5;241m=\u001b[39m \u001b[38;5;28mself\u001b[39m\u001b[38;5;241m.\u001b[39m_format_results(\n\u001b[0;32m    965\u001b[0m         all_candidate_params, n_splits, all_out, all_more_results\n\u001b[0;32m    966\u001b[0m     )\n\u001b[0;32m    968\u001b[0m     \u001b[38;5;28;01mreturn\u001b[39;00m results\n\u001b[1;32m--> 970\u001b[0m \u001b[38;5;28;43mself\u001b[39;49m\u001b[38;5;241;43m.\u001b[39;49m\u001b[43m_run_search\u001b[49m\u001b[43m(\u001b[49m\u001b[43mevaluate_candidates\u001b[49m\u001b[43m)\u001b[49m\n\u001b[0;32m    972\u001b[0m \u001b[38;5;66;03m# multimetric is determined here because in the case of a callable\u001b[39;00m\n\u001b[0;32m    973\u001b[0m \u001b[38;5;66;03m# self.scoring the return type is only known after calling\u001b[39;00m\n\u001b[0;32m    974\u001b[0m first_test_score \u001b[38;5;241m=\u001b[39m all_out[\u001b[38;5;241m0\u001b[39m][\u001b[38;5;124m\"\u001b[39m\u001b[38;5;124mtest_scores\u001b[39m\u001b[38;5;124m\"\u001b[39m]\n",
            "File \u001b[1;32mc:\\Users\\Aigot-Developer\\Desktop\\PROJECTS\\AIGOT\\Backup_Data_Formats\\.venv\\lib\\site-packages\\sklearn\\model_selection\\_search.py:1527\u001b[0m, in \u001b[0;36mGridSearchCV._run_search\u001b[1;34m(self, evaluate_candidates)\u001b[0m\n\u001b[0;32m   1525\u001b[0m \u001b[38;5;28;01mdef\u001b[39;00m \u001b[38;5;21m_run_search\u001b[39m(\u001b[38;5;28mself\u001b[39m, evaluate_candidates):\n\u001b[0;32m   1526\u001b[0m \u001b[38;5;250m    \u001b[39m\u001b[38;5;124;03m\"\"\"Search all candidates in param_grid\"\"\"\u001b[39;00m\n\u001b[1;32m-> 1527\u001b[0m     \u001b[43mevaluate_candidates\u001b[49m\u001b[43m(\u001b[49m\u001b[43mParameterGrid\u001b[49m\u001b[43m(\u001b[49m\u001b[38;5;28;43mself\u001b[39;49m\u001b[38;5;241;43m.\u001b[39;49m\u001b[43mparam_grid\u001b[49m\u001b[43m)\u001b[49m\u001b[43m)\u001b[49m\n",
            "File \u001b[1;32mc:\\Users\\Aigot-Developer\\Desktop\\PROJECTS\\AIGOT\\Backup_Data_Formats\\.venv\\lib\\site-packages\\sklearn\\model_selection\\_search.py:947\u001b[0m, in \u001b[0;36mBaseSearchCV.fit.<locals>.evaluate_candidates\u001b[1;34m(candidate_params, cv, more_results)\u001b[0m\n\u001b[0;32m    940\u001b[0m \u001b[38;5;28;01melif\u001b[39;00m \u001b[38;5;28mlen\u001b[39m(out) \u001b[38;5;241m!=\u001b[39m n_candidates \u001b[38;5;241m*\u001b[39m n_splits:\n\u001b[0;32m    941\u001b[0m     \u001b[38;5;28;01mraise\u001b[39;00m \u001b[38;5;167;01mValueError\u001b[39;00m(\n\u001b[0;32m    942\u001b[0m         \u001b[38;5;124m\"\u001b[39m\u001b[38;5;124mcv.split and cv.get_n_splits returned \u001b[39m\u001b[38;5;124m\"\u001b[39m\n\u001b[0;32m    943\u001b[0m         \u001b[38;5;124m\"\u001b[39m\u001b[38;5;124minconsistent results. Expected \u001b[39m\u001b[38;5;132;01m{}\u001b[39;00m\u001b[38;5;124m \u001b[39m\u001b[38;5;124m\"\u001b[39m\n\u001b[0;32m    944\u001b[0m         \u001b[38;5;124m\"\u001b[39m\u001b[38;5;124msplits, got \u001b[39m\u001b[38;5;132;01m{}\u001b[39;00m\u001b[38;5;124m\"\u001b[39m\u001b[38;5;241m.\u001b[39mformat(n_splits, \u001b[38;5;28mlen\u001b[39m(out) \u001b[38;5;241m/\u001b[39m\u001b[38;5;241m/\u001b[39m n_candidates)\n\u001b[0;32m    945\u001b[0m     )\n\u001b[1;32m--> 947\u001b[0m \u001b[43m_warn_or_raise_about_fit_failures\u001b[49m\u001b[43m(\u001b[49m\u001b[43mout\u001b[49m\u001b[43m,\u001b[49m\u001b[43m \u001b[49m\u001b[38;5;28;43mself\u001b[39;49m\u001b[38;5;241;43m.\u001b[39;49m\u001b[43merror_score\u001b[49m\u001b[43m)\u001b[49m\n\u001b[0;32m    949\u001b[0m \u001b[38;5;66;03m# For callable self.scoring, the return type is only know after\u001b[39;00m\n\u001b[0;32m    950\u001b[0m \u001b[38;5;66;03m# calling. If the return type is a dictionary, the error scores\u001b[39;00m\n\u001b[0;32m    951\u001b[0m \u001b[38;5;66;03m# can now be inserted with the correct key. The type checking\u001b[39;00m\n\u001b[0;32m    952\u001b[0m \u001b[38;5;66;03m# of out will be done in `_insert_error_scores`.\u001b[39;00m\n\u001b[0;32m    953\u001b[0m \u001b[38;5;28;01mif\u001b[39;00m \u001b[38;5;28mcallable\u001b[39m(\u001b[38;5;28mself\u001b[39m\u001b[38;5;241m.\u001b[39mscoring):\n",
            "File \u001b[1;32mc:\\Users\\Aigot-Developer\\Desktop\\PROJECTS\\AIGOT\\Backup_Data_Formats\\.venv\\lib\\site-packages\\sklearn\\model_selection\\_validation.py:531\u001b[0m, in \u001b[0;36m_warn_or_raise_about_fit_failures\u001b[1;34m(results, error_score)\u001b[0m\n\u001b[0;32m    524\u001b[0m \u001b[38;5;28;01mif\u001b[39;00m num_failed_fits \u001b[38;5;241m==\u001b[39m num_fits:\n\u001b[0;32m    525\u001b[0m     all_fits_failed_message \u001b[38;5;241m=\u001b[39m (\n\u001b[0;32m    526\u001b[0m         \u001b[38;5;124mf\u001b[39m\u001b[38;5;124m\"\u001b[39m\u001b[38;5;130;01m\\n\u001b[39;00m\u001b[38;5;124mAll the \u001b[39m\u001b[38;5;132;01m{\u001b[39;00mnum_fits\u001b[38;5;132;01m}\u001b[39;00m\u001b[38;5;124m fits failed.\u001b[39m\u001b[38;5;130;01m\\n\u001b[39;00m\u001b[38;5;124m\"\u001b[39m\n\u001b[0;32m    527\u001b[0m         \u001b[38;5;124m\"\u001b[39m\u001b[38;5;124mIt is very likely that your model is misconfigured.\u001b[39m\u001b[38;5;130;01m\\n\u001b[39;00m\u001b[38;5;124m\"\u001b[39m\n\u001b[0;32m    528\u001b[0m         \u001b[38;5;124m\"\u001b[39m\u001b[38;5;124mYou can try to debug the error by setting error_score=\u001b[39m\u001b[38;5;124m'\u001b[39m\u001b[38;5;124mraise\u001b[39m\u001b[38;5;124m'\u001b[39m\u001b[38;5;124m.\u001b[39m\u001b[38;5;130;01m\\n\u001b[39;00m\u001b[38;5;130;01m\\n\u001b[39;00m\u001b[38;5;124m\"\u001b[39m\n\u001b[0;32m    529\u001b[0m         \u001b[38;5;124mf\u001b[39m\u001b[38;5;124m\"\u001b[39m\u001b[38;5;124mBelow are more details about the failures:\u001b[39m\u001b[38;5;130;01m\\n\u001b[39;00m\u001b[38;5;132;01m{\u001b[39;00mfit_errors_summary\u001b[38;5;132;01m}\u001b[39;00m\u001b[38;5;124m\"\u001b[39m\n\u001b[0;32m    530\u001b[0m     )\n\u001b[1;32m--> 531\u001b[0m     \u001b[38;5;28;01mraise\u001b[39;00m \u001b[38;5;167;01mValueError\u001b[39;00m(all_fits_failed_message)\n\u001b[0;32m    533\u001b[0m \u001b[38;5;28;01melse\u001b[39;00m:\n\u001b[0;32m    534\u001b[0m     some_fits_failed_message \u001b[38;5;241m=\u001b[39m (\n\u001b[0;32m    535\u001b[0m         \u001b[38;5;124mf\u001b[39m\u001b[38;5;124m\"\u001b[39m\u001b[38;5;130;01m\\n\u001b[39;00m\u001b[38;5;132;01m{\u001b[39;00mnum_failed_fits\u001b[38;5;132;01m}\u001b[39;00m\u001b[38;5;124m fits failed out of a total of \u001b[39m\u001b[38;5;132;01m{\u001b[39;00mnum_fits\u001b[38;5;132;01m}\u001b[39;00m\u001b[38;5;124m.\u001b[39m\u001b[38;5;130;01m\\n\u001b[39;00m\u001b[38;5;124m\"\u001b[39m\n\u001b[0;32m    536\u001b[0m         \u001b[38;5;124m\"\u001b[39m\u001b[38;5;124mThe score on these train-test partitions for these parameters\u001b[39m\u001b[38;5;124m\"\u001b[39m\n\u001b[1;32m   (...)\u001b[0m\n\u001b[0;32m    540\u001b[0m         \u001b[38;5;124mf\u001b[39m\u001b[38;5;124m\"\u001b[39m\u001b[38;5;124mBelow are more details about the failures:\u001b[39m\u001b[38;5;130;01m\\n\u001b[39;00m\u001b[38;5;132;01m{\u001b[39;00mfit_errors_summary\u001b[38;5;132;01m}\u001b[39;00m\u001b[38;5;124m\"\u001b[39m\n\u001b[0;32m    541\u001b[0m     )\n",
            "\u001b[1;31mValueError\u001b[0m: \nAll the 60 fits failed.\nIt is very likely that your model is misconfigured.\nYou can try to debug the error by setting error_score='raise'.\n\nBelow are more details about the failures:\n--------------------------------------------------------------------------------\n60 fits failed with the following error:\nTraceback (most recent call last):\n  File \"c:\\Users\\Aigot-Developer\\Desktop\\PROJECTS\\AIGOT\\Backup_Data_Formats\\.venv\\lib\\site-packages\\sklearn\\model_selection\\_validation.py\", line 890, in _fit_and_score\n    estimator.fit(X_train, y_train, **fit_params)\n  File \"c:\\Users\\Aigot-Developer\\Desktop\\PROJECTS\\AIGOT\\Backup_Data_Formats\\.venv\\lib\\site-packages\\scikeras\\wrappers.py\", line 760, in fit\n    self._fit(\n  File \"c:\\Users\\Aigot-Developer\\Desktop\\PROJECTS\\AIGOT\\Backup_Data_Formats\\.venv\\lib\\site-packages\\scikeras\\wrappers.py\", line 915, in _fit\n    X, y = self._initialize(X, y)\n  File \"c:\\Users\\Aigot-Developer\\Desktop\\PROJECTS\\AIGOT\\Backup_Data_Formats\\.venv\\lib\\site-packages\\scikeras\\wrappers.py\", line 852, in _initialize\n    self.model_ = self._build_keras_model()\n  File \"c:\\Users\\Aigot-Developer\\Desktop\\PROJECTS\\AIGOT\\Backup_Data_Formats\\.venv\\lib\\site-packages\\scikeras\\wrappers.py\", line 429, in _build_keras_model\n    model = final_build_fn(**build_params)\n  File \"C:\\Users\\Aigot-Developer\\AppData\\Local\\Temp\\ipykernel_19604\\1040115752.py\", line 19, in create_can_model_v2\n    image_features = Dense(224 * 224 * 3, activation='relu', name=\"dense_image\")(image_input)\n  File \"c:\\Users\\Aigot-Developer\\Desktop\\PROJECTS\\AIGOT\\Backup_Data_Formats\\.venv\\lib\\site-packages\\keras\\src\\utils\\traceback_utils.py\", line 70, in error_handler\n    raise e.with_traceback(filtered_tb) from None\n  File \"c:\\Users\\Aigot-Developer\\Desktop\\PROJECTS\\AIGOT\\Backup_Data_Formats\\.venv\\lib\\site-packages\\keras\\src\\backend.py\", line 2100, in random_uniform\n    return tf.random.stateless_uniform(\ntensorflow.python.framework.errors_impl.ResourceExhaustedError: {{function_node __wrapped__StatelessRandomUniformV2_device_/job:localhost/replica:0/task:0/device:CPU:0}} OOM when allocating tensor with shape[150528,150528] and type float on /job:localhost/replica:0/task:0/device:CPU:0 by allocator mklcpu [Op:StatelessRandomUniformV2] name: \n"
          ]
        }
      ],
      "source": [
        "#Initialize the Keras Regressor with the new model\n",
        "model = KerasRegressor(model=create_can_model_v2, verbose=0)\n",
        "\n",
        "# Create a dictionary for inputs\n",
        "param_grid = {\n",
        "    'batch_size': [8, 16],\n",
        "    'epochs': [5, 10, 15],\n",
        "    'optimizer': ['adam', 'rmsprop'],\n",
        "}\n",
        "\n",
        "\n",
        "#Initialize the GridSearch with params such as Cross-Validation, Scoring ...\n",
        "grid_search = GridSearchCV(estimator=model, param_grid=param_grid, cv=5, scoring='neg_mean_absolute_error')\n",
        "# grid_search = GridSearchCV(estimator=model, param_grid=param_grid, cv=5)\n",
        "\n",
        "\n",
        "grid_result = grid_search.fit(X=X_train_combined, y=y_train_scaled)"
      ]
    },
    {
      "cell_type": "code",
      "execution_count": null,
      "metadata": {
        "id": "mfb9Z-uYd0Ms"
      },
      "outputs": [],
      "source": [
        "## Display the best parameters and results\n",
        "print(\"Best Parameters: \", grid_result.best_params_)\n",
        "print(\"Best Score: \", grid_result.best_score_)"
      ]
    },
    {
      "cell_type": "code",
      "execution_count": null,
      "metadata": {
        "id": "u-hmQxLqd0Ms",
        "outputId": "83e8bf23-e565-44de-977f-0e446556e593"
      },
      "outputs": [
        {
          "name": "stdout",
          "output_type": "stream",
          "text": [
            "Fri Feb 16 17:43:06 2024       \n",
            "+---------------------------------------------------------------------------------------+\n",
            "| NVIDIA-SMI 537.42                 Driver Version: 537.42       CUDA Version: 12.2     |\n",
            "|-----------------------------------------+----------------------+----------------------+\n",
            "| GPU  Name                     TCC/WDDM  | Bus-Id        Disp.A | Volatile Uncorr. ECC |\n",
            "| Fan  Temp   Perf          Pwr:Usage/Cap |         Memory-Usage | GPU-Util  Compute M. |\n",
            "|                                         |                      |               MIG M. |\n",
            "|=========================================+======================+======================|\n",
            "|   0  NVIDIA GeForce MX450         WDDM  | 00000000:2B:00.0 Off |                  N/A |\n",
            "| N/A   63C    P8              N/A / ERR! |    294MiB /  2048MiB |      3%      Default |\n",
            "|                                         |                      |                  N/A |\n",
            "+-----------------------------------------+----------------------+----------------------+\n",
            "                                                                                         \n",
            "+---------------------------------------------------------------------------------------+\n",
            "| Processes:                                                                            |\n",
            "|  GPU   GI   CI        PID   Type   Process name                            GPU Memory |\n",
            "|        ID   ID                                                             Usage      |\n",
            "|=======================================================================================|\n",
            "|    0   N/A  N/A      2096    C+G   ...5.0_x64__cv1g1gvanyjgm\\WhatsApp.exe    N/A      |\n",
            "|    0   N/A  N/A      2108    C+G   ...n\\121.0.2277.112\\msedgewebview2.exe    N/A      |\n",
            "|    0   N/A  N/A      2520    C+G   ...n\\121.0.2277.112\\msedgewebview2.exe    N/A      |\n",
            "|    0   N/A  N/A      3092    C+G   ...Programs\\Microsoft VS Code\\Code.exe    N/A      |\n",
            "|    0   N/A  N/A      5360    C+G   ...\\Local\\slack\\app-4.36.140\\slack.exe    N/A      |\n",
            "|    0   N/A  N/A     11584    C+G   ...t.LockApp_cw5n1h2txyewy\\LockApp.exe    N/A      |\n",
            "|    0   N/A  N/A     11752    C+G   ...2txyewy\\StartMenuExperienceHost.exe    N/A      |\n",
            "|    0   N/A  N/A     11760    C+G   ...nt.CBS_cw5n1h2txyewy\\SearchHost.exe    N/A      |\n",
            "|    0   N/A  N/A     11796    C+G   ...__8wekyb3d8bbwe\\Microsoft.Notes.exe    N/A      |\n",
            "|    0   N/A  N/A     14300    C+G   ...cal\\Microsoft\\OneDrive\\OneDrive.exe    N/A      |\n",
            "|    0   N/A  N/A     15820    C+G   ...ekyb3d8bbwe\\PhoneExperienceHost.exe    N/A      |\n",
            "|    0   N/A  N/A     17364    C+G   ... Files\\Proton\\Drive\\ProtonDrive.exe    N/A      |\n",
            "+---------------------------------------------------------------------------------------+\n"
          ]
        }
      ],
      "source": [
        "!nvidia-smi"
      ]
    },
    {
      "cell_type": "markdown",
      "metadata": {
        "id": "-0M92YoVd0Ms"
      },
      "source": [
        "<div style=\"font-size: 70%;\">\n",
        "\n",
        "##### BACKUP FOR GRID SEARCH FUNCTIONALITY\n",
        "import numpy as np\n",
        "from tensorflow.keras.models import Model\n",
        "from tensorflow.keras.layers import Input, Lambda, Dense, Flatten, Concatenate\n",
        "from scikeras.wrappers import KerasRegressor\n",
        "from sklearn.model_selection import GridSearchCV\n",
        "\n",
        "###### Sample data for illustration\n",
        "n_samples = 70\n",
        "X_train_image_vector = np.random.rand(n_samples, 224, 224, 3)\n",
        "X_train_word2vec_vector = np.random.rand(n_samples, 64)\n",
        "y_train_scaled = np.random.rand(n_samples, 1)\n",
        "\n",
        "###### Flatten X_train_image_vector to make it 2D\n",
        "X_train_image_vector_flattened = np.array(X_train_image_vector).reshape(n_samples, -1)\n",
        "\n",
        "###### Reshape X_train_word2vec_vector to match the number of dimensions in X_train_image_vector\n",
        "X_train_word2vec_vector_reshaped = np.array(X_train_word2vec_vector).reshape(-1, 64)\n",
        "\n",
        "###### Combine image and word2vec vectors\n",
        "X_train_combined = np.concatenate([X_train_image_vector_flattened, X_train_word2vec_vector_reshaped], axis=1)\n",
        "\n",
        "###### Function to create the model\n",
        "def create_can_model(optimizer='adam'):\n",
        "    combi_input = Input(shape=(224 * 224 * 3 + 64,), name=\"combi_input\")\n",
        "\n",
        "    # Process the combined input here\n",
        "    x = Dense(32, activation='relu')(combi_input)\n",
        "    output = Dense(1, activation='linear', name='output')(x)\n",
        "\n",
        "    model = Model(inputs=combi_input, outputs=output)\n",
        "    model.compile(optimizer=optimizer, loss='mean_absolute_error', metrics=['mean_absolute_error'])\n",
        "\n",
        "    return model\n",
        "\n",
        "###### Using KerasRegressor wrapper for compatibility with GridSearchCV\n",
        "model = KerasRegressor(build_fn=create_can_model, verbose=0)\n",
        "\n",
        "###### Define parameters for GridSearch\n",
        "param_grid = {\n",
        "    'batch_size': [10, 20],\n",
        "    'epochs': [10, 5],\n",
        "    'optimizer': ['adam', 'SGD']\n",
        "}\n",
        "\n",
        "###### Set up GridSearchCV\n",
        "grid_search = GridSearchCV(estimator=model, param_grid=param_grid, n_jobs=-1, cv=3)\n",
        "\n",
        "###### Fit the model\n",
        "grid_result = grid_search.fit(X_train_combined, y_train_scaled)\n",
        "\n",
        "###### Display the best parameters and results\n",
        "print(\"Best Parameters: \", grid_result.best_params_)\n",
        "print(\"Best Score: \", grid_result.best_score_)\n",
        "\n",
        "</div>"
      ]
    },
    {
      "cell_type": "markdown",
      "metadata": {
        "id": "LUBKGR4fd0Ms"
      },
      "source": []
    },
    {
      "cell_type": "markdown",
      "metadata": {
        "id": "oVRTG4pwd0Ms"
      },
      "source": [
        "<div style=\"font-size: 70%;\">\n",
        "import chainer\n",
        "import logzero\n",
        "\n",
        "from chainer import training\n",
        "from chainer.training import extensions\n",
        "from gensim.models import KeyedVectors\n",
        "\n",
        "from models import ARCHS, MODEL_WRAPPERS\n",
        "from util import const\n",
        "from util.args import parse_train_args as parse_args\n",
        "from util.cross_validation import kfold_iter\n",
        "\n",
        "from util.evaluate import EVALUATE_PHASES\n",
        "\n",
        "from util.extensions import (\n",
        "    setup_optim_trigger,\n",
        "    setup_plot_report_loss_entries,\n",
        "    setup_print_report_entries,\n",
        "    setup_record_trigger,\n",
        ")\n",
        "from util.load import load_data\n",
        "from util.notify import notify_exception, notify_result\n",
        "from util.preprocessed_dataset import (\n",
        "    PreprocessedDataset,\n",
        "    convert_seq,\n",
        "    prepare_vectorizer,\n",
        ")\n",
        "from util.resource import Resource\n",
        "from util.seed import reset_seed\n",
        "\n",
        "from collections import OrderedDict\n",
        "\n",
        "\n",
        "plt.style.use(\"ggplot\")\n",
        "chainer.cuda.set_max_workspace_size(1024 * 1024 * 1024)\n",
        "chainer.global_config.autotune = True\n",
        "\n",
        "\n",
        "def main(args):\n",
        "    reset_seed(args.seed)\n",
        "\n",
        "    res = Resource(args, train=True)\n",
        "\n",
        "    pretrained_word2vec = KeyedVectors.load_word2vec_format(\n",
        "        str(const.PRETRAINED_WORD2VEC_FPATH), binary=True\n",
        "    )\n",
        "\n",
        "    vectorizer = prepare_vectorizer(\n",
        "        pretrained_word2vec,\n",
        "        args.training_type,\n",
        "        norm_imp=const.NORMALIZED_IMPRESSION,\n",
        "        is_impnorm=args.imp_norm,\n",
        "        is_logarithm=True,\n",
        "    )\n",
        "\n",
        "    df = load_data(const.TRAIN_DATA_FPATH)\n",
        "\n",
        "    kf = kfold_iter(\n",
        "        X=df,\n",
        "        y=df[args.objective],\n",
        "        n_splits=args.fold,\n",
        "        random_state=args.seed,\n",
        "        is_campaign_group=args.group,\n",
        "        training_type=args.training_type,\n",
        "        campaign_ids=df[\"campaign_id\"].values,\n",
        "    )\n",
        "\n",
        "    scores = OrderedDict(\n",
        "        [(metric, []) for metric in const.EVALUATION_METRIC[args.training_type]]\n",
        "    )\n",
        "\n",
        "    res.loginfo(\"Start Training\")\n",
        "    for i, (train_idx, val_idx) in enumerate(kf):\n",
        "        res.loginfo(\"Fold: {}\".format(i + 1))\n",
        "\n",
        "        df_train = df.iloc[train_idx]\n",
        "        df_val = df.iloc[val_idx]\n",
        "\n",
        "        df_train = vectorizer.fit_transform(df_train)\n",
        "        df_val = vectorizer.fit_transform(df_val)\n",
        "\n",
        "        n_age = len(vectorizer.named_steps.age.le.classes_)\n",
        "        n_gender = len(vectorizer.named_steps.gender.lb.classes_)\n",
        "\n",
        "        res.logdebug(\"# of Ages: {}\".format(n_age))\n",
        "        res.logdebug(\"# of Gender: {}\".format(n_gender))\n",
        "\n",
        "        train_pairs = PreprocessedDataset(\n",
        "            df_train, args.training_type, output_cols=args.objective\n",
        "        )\n",
        "        val_pairs = PreprocessedDataset(\n",
        "            df_val, args.training_type, output_cols=args.objective\n",
        "        )\n",
        "\n",
        "        train_iter = chainer.iterators.SerialIterator(train_pairs, args.batchsize)\n",
        "        val_iter = chainer.iterators.SerialIterator(\n",
        "            val_pairs, args.batchsize, repeat=False, shuffle=False\n",
        "        )\n",
        "\n",
        "        is_update_w2v = args.word_embedding == const.WORD2VEC_UPDATE\n",
        "        encoder = ARCHS[args.arch](\n",
        "            n_layers=args.layer,\n",
        "            n_age=n_age,\n",
        "            n_vocab=len(prepare_vectorizer.index2word),\n",
        "            pretrained_w2v=pretrained_word2vec,\n",
        "            is_update_w2v=is_update_w2v,\n",
        "            dropout=args.dropout,\n",
        "        )\n",
        "\n",
        "        model = MODEL_WRAPPERS[args.training_type](\n",
        "            encoder=encoder, dropout=args.dropout\n",
        "        )\n",
        "\n",
        "        if args.gpu >= 0:\n",
        "            chainer.cuda.get_device_from(args.gpu).use()\n",
        "            model.to_gpu()\n",
        "\n",
        "        # Set up an optimizer\n",
        "        optimizer = chainer.optimizers.Adam()\n",
        "        optimizer.setup(model)\n",
        "        optimizer.add_hook(chainer.optimizer.WeightDecay(args.weight_decay))\n",
        "\n",
        "        # Setup a trainer\n",
        "        updater = training.updaters.StandardUpdater(\n",
        "            train_iter, optimizer, converter=convert_seq, device=args.gpu\n",
        "        )\n",
        "        trainer = training.Trainer(\n",
        "            updater, (args.epoch, \"epoch\"), out=str(res.output_dir)\n",
        "        )\n",
        "\n",
        "        # Evaluate the model with the test dataset for each epoch\n",
        "        trainer.extend(\n",
        "            extensions.Evaluator(\n",
        "                val_iter, model, device=args.gpu, converter=convert_seq\n",
        "            )\n",
        "        )\n",
        "\n",
        "        # Take the best snapshot\n",
        "        record_trigger = setup_record_trigger(args.training_type)\n",
        "        optim_trigger = setup_optim_trigger(args.training_type)\n",
        "\n",
        "        model_fname = \"{}_{}_{}-fold_{}_best_model.npz\".format(\n",
        "            res.sdtime, args.training_type, i + 1, args.arch\n",
        "        )\n",
        "        trainer.extend(\n",
        "            extensions.snapshot_object(model, model_fname), trigger=record_trigger\n",
        "        )\n",
        "\n",
        "        trainer.extend(extensions.ExponentialShift(\"alpha\", 0.9), trigger=optim_trigger)\n",
        "\n",
        "        # Generate a log of evaluation statistics for each epoch\n",
        "        trainer_log_name = \"{}_{}_{}-fold_{}_reporter.json\".format(\n",
        "            res.sdtime, args.training_type, i + 1, args.arch\n",
        "        )\n",
        "\n",
        "        trainer.extend(extensions.LogReport(log_name=trainer_log_name))\n",
        "        trainer.extend(extensions.observe_lr())\n",
        "\n",
        "        fig_loss_fpath = res.fig_loss_dir / \"{}_{}_{}-fold_loss.png\".format(\n",
        "            res.sdtime, args.training_type, i + 1\n",
        "        )\n",
        "        fig_loss_path = fig_loss_fpath.relative_to(res.output_dir)\n",
        "        plot_loss_entries = setup_plot_report_loss_entries(args.training_type)\n",
        "\n",
        "        trainer.extend(\n",
        "            extensions.PlotReport(\n",
        "                plot_loss_entries, \"epoch\", filename=str(fig_loss_path), grid=False\n",
        "            )\n",
        "        )\n",
        "\n",
        "        entries = setup_print_report_entries(args.training_type)\n",
        "        trainer.extend(extensions.PrintReport(entries))\n",
        "\n",
        "        trainer.extend(extensions.ProgressBar(update_interval=10))\n",
        "\n",
        "        # Run the training\n",
        "        trainer.run()\n",
        "\n",
        "        if args.test:\n",
        "            res.logger.debug(\"Start the test phase...\")\n",
        "            snapshot_best_model = res.output_dir / model_fname\n",
        "            chainer.serializers.load_npz(str(snapshot_best_model), model)\n",
        "            res.logdebug(\"Load: {}\".format(str(snapshot_best_model)))\n",
        "\n",
        "            # Calcculate scores\n",
        "            calculated_scores = EVALUATE_PHASES[args.training_type](\n",
        "                res=res,\n",
        "                model=model,\n",
        "                pairs=val_pairs,\n",
        "                fold=i + 1,\n",
        "                converter=convert_seq,\n",
        "                vectorizer=vectorizer,\n",
        "            ).test()\n",
        "\n",
        "            for metric in scores.keys():\n",
        "                scores[metric].append(calculated_scores[metric])\n",
        "        \n",
        "        if not args.cv:\n",
        "            break\n",
        "\n",
        "    \n",
        "    res.dump_command_info()\n",
        "    logger = logzero.setup_logger(\n",
        "        name='test',\n",
        "        logfile=str(res.log_dir / f'{res.sdtime}_test.log'),\n",
        "    )\n",
        "    for metric in scores.keys():\n",
        "        logger.info(f\"Average {metric}: {np.mean(scores[metric]):.6f}, var: {np.var(scores[metric]):.6f}\")\n",
        "    \n",
        "    res.dump_duration()\n",
        "\n",
        "    notify_result(res)\n",
        "</div>"
      ]
    },
    {
      "cell_type": "markdown",
      "metadata": {
        "id": "bNty-GDcd0Ms"
      },
      "source": []
    },
    {
      "cell_type": "markdown",
      "source": [
        "### Getting Post"
      ],
      "metadata": {
        "id": "XpNHm27BqOv7"
      }
    },
    {
      "cell_type": "code",
      "source": [
        "df=pd.read_csv('/content/data.csv')\n",
        "df['adcreatives_body']"
      ],
      "metadata": {
        "colab": {
          "base_uri": "https://localhost:8080/"
        },
        "id": "vIzkRDsAw53i",
        "outputId": "c8640c08-81f1-4b5c-ee2c-b6337d79d059"
      },
      "execution_count": 6,
      "outputs": [
        {
          "output_type": "execute_result",
          "data": {
            "text/plain": [
              "0                                                    NaN\n",
              "1      Celebrare i momenti speciali in luoghi altrett...\n",
              "2      🎉✨ Benvenuti nel nostro esclusivo Cenone di Ca...\n",
              "3                                                    NaN\n",
              "4      🎅Ci stiamo avvolgendo nell'atmosfera natalizia...\n",
              "                             ...                        \n",
              "638    😍Leggi quello che i nostri clienti dicono di n...\n",
              "639    😍Leggi quello che i nostri clienti dicono di n...\n",
              "640    😍Leggi quello che i nostri clienti dicono di n...\n",
              "641    😍Leggi quello che i nostri clienti dicono di n...\n",
              "642    😍Leggi quello che i nostri clienti dicono di n...\n",
              "Name: adcreatives_body, Length: 643, dtype: object"
            ]
          },
          "metadata": {},
          "execution_count": 6
        }
      ]
    },
    {
      "cell_type": "code",
      "source": [
        "import pandas as pd\n",
        "\n",
        "# Read the CSV file\n",
        "df = pd.read_csv('/content/data.csv')\n",
        "\n",
        "# Extract the 'adcreatives_body' column\n",
        "adcreatives_body_column = df['adcreatives_body']\n",
        "\n",
        "# Create a new DataFrame with only the 'adcreatives_body' column\n",
        "adcreatives_body_df = pd.DataFrame(adcreatives_body_column)\n",
        "\n",
        "# Save the extracted column to a new CSV file\n",
        "adcreatives_body_df.to_csv('/content/adcreatives_body_column.csv', index=False)\n",
        "\n",
        "print(\"adcreatives_body column saved to 'adcreatives_body_column.csv'\")\n",
        "# Read the CSV file\n",
        "df = pd.read_csv('/content/adcreatives_body_column.csv')\n"
      ],
      "metadata": {
        "colab": {
          "base_uri": "https://localhost:8080/"
        },
        "id": "C-GBORxAxVRH",
        "outputId": "e7c9503c-c467-47cb-c8c8-c9591a5c82f6"
      },
      "execution_count": 8,
      "outputs": [
        {
          "output_type": "stream",
          "name": "stdout",
          "text": [
            "adcreatives_body column saved to 'adcreatives_body_column.csv'\n"
          ]
        }
      ]
    },
    {
      "cell_type": "code",
      "source": [
        "# Read the CSV file\n",
        "df = pd.read_csv('/content/adcreatives_body_column.csv')\n",
        "df.head()"
      ],
      "metadata": {
        "colab": {
          "base_uri": "https://localhost:8080/",
          "height": 206
        },
        "id": "An39eWJExc93",
        "outputId": "2fba3e5f-953a-43ff-d51b-1ecb647c028f"
      },
      "execution_count": 11,
      "outputs": [
        {
          "output_type": "execute_result",
          "data": {
            "text/plain": [
              "                                    adcreatives_body\n",
              "0                                                NaN\n",
              "1  Celebrare i momenti speciali in luoghi altrett...\n",
              "2  🎉✨ Benvenuti nel nostro esclusivo Cenone di Ca...\n",
              "3                                                NaN\n",
              "4  🎅Ci stiamo avvolgendo nell'atmosfera natalizia..."
            ],
            "text/html": [
              "\n",
              "  <div id=\"df-fefc6e1a-68fc-4565-b48e-1f73c0dfdf2b\" class=\"colab-df-container\">\n",
              "    <div>\n",
              "<style scoped>\n",
              "    .dataframe tbody tr th:only-of-type {\n",
              "        vertical-align: middle;\n",
              "    }\n",
              "\n",
              "    .dataframe tbody tr th {\n",
              "        vertical-align: top;\n",
              "    }\n",
              "\n",
              "    .dataframe thead th {\n",
              "        text-align: right;\n",
              "    }\n",
              "</style>\n",
              "<table border=\"1\" class=\"dataframe\">\n",
              "  <thead>\n",
              "    <tr style=\"text-align: right;\">\n",
              "      <th></th>\n",
              "      <th>adcreatives_body</th>\n",
              "    </tr>\n",
              "  </thead>\n",
              "  <tbody>\n",
              "    <tr>\n",
              "      <th>0</th>\n",
              "      <td>NaN</td>\n",
              "    </tr>\n",
              "    <tr>\n",
              "      <th>1</th>\n",
              "      <td>Celebrare i momenti speciali in luoghi altrett...</td>\n",
              "    </tr>\n",
              "    <tr>\n",
              "      <th>2</th>\n",
              "      <td>🎉✨ Benvenuti nel nostro esclusivo Cenone di Ca...</td>\n",
              "    </tr>\n",
              "    <tr>\n",
              "      <th>3</th>\n",
              "      <td>NaN</td>\n",
              "    </tr>\n",
              "    <tr>\n",
              "      <th>4</th>\n",
              "      <td>🎅Ci stiamo avvolgendo nell'atmosfera natalizia...</td>\n",
              "    </tr>\n",
              "  </tbody>\n",
              "</table>\n",
              "</div>\n",
              "    <div class=\"colab-df-buttons\">\n",
              "\n",
              "  <div class=\"colab-df-container\">\n",
              "    <button class=\"colab-df-convert\" onclick=\"convertToInteractive('df-fefc6e1a-68fc-4565-b48e-1f73c0dfdf2b')\"\n",
              "            title=\"Convert this dataframe to an interactive table.\"\n",
              "            style=\"display:none;\">\n",
              "\n",
              "  <svg xmlns=\"http://www.w3.org/2000/svg\" height=\"24px\" viewBox=\"0 -960 960 960\">\n",
              "    <path d=\"M120-120v-720h720v720H120Zm60-500h600v-160H180v160Zm220 220h160v-160H400v160Zm0 220h160v-160H400v160ZM180-400h160v-160H180v160Zm440 0h160v-160H620v160ZM180-180h160v-160H180v160Zm440 0h160v-160H620v160Z\"/>\n",
              "  </svg>\n",
              "    </button>\n",
              "\n",
              "  <style>\n",
              "    .colab-df-container {\n",
              "      display:flex;\n",
              "      gap: 12px;\n",
              "    }\n",
              "\n",
              "    .colab-df-convert {\n",
              "      background-color: #E8F0FE;\n",
              "      border: none;\n",
              "      border-radius: 50%;\n",
              "      cursor: pointer;\n",
              "      display: none;\n",
              "      fill: #1967D2;\n",
              "      height: 32px;\n",
              "      padding: 0 0 0 0;\n",
              "      width: 32px;\n",
              "    }\n",
              "\n",
              "    .colab-df-convert:hover {\n",
              "      background-color: #E2EBFA;\n",
              "      box-shadow: 0px 1px 2px rgba(60, 64, 67, 0.3), 0px 1px 3px 1px rgba(60, 64, 67, 0.15);\n",
              "      fill: #174EA6;\n",
              "    }\n",
              "\n",
              "    .colab-df-buttons div {\n",
              "      margin-bottom: 4px;\n",
              "    }\n",
              "\n",
              "    [theme=dark] .colab-df-convert {\n",
              "      background-color: #3B4455;\n",
              "      fill: #D2E3FC;\n",
              "    }\n",
              "\n",
              "    [theme=dark] .colab-df-convert:hover {\n",
              "      background-color: #434B5C;\n",
              "      box-shadow: 0px 1px 3px 1px rgba(0, 0, 0, 0.15);\n",
              "      filter: drop-shadow(0px 1px 2px rgba(0, 0, 0, 0.3));\n",
              "      fill: #FFFFFF;\n",
              "    }\n",
              "  </style>\n",
              "\n",
              "    <script>\n",
              "      const buttonEl =\n",
              "        document.querySelector('#df-fefc6e1a-68fc-4565-b48e-1f73c0dfdf2b button.colab-df-convert');\n",
              "      buttonEl.style.display =\n",
              "        google.colab.kernel.accessAllowed ? 'block' : 'none';\n",
              "\n",
              "      async function convertToInteractive(key) {\n",
              "        const element = document.querySelector('#df-fefc6e1a-68fc-4565-b48e-1f73c0dfdf2b');\n",
              "        const dataTable =\n",
              "          await google.colab.kernel.invokeFunction('convertToInteractive',\n",
              "                                                    [key], {});\n",
              "        if (!dataTable) return;\n",
              "\n",
              "        const docLinkHtml = 'Like what you see? Visit the ' +\n",
              "          '<a target=\"_blank\" href=https://colab.research.google.com/notebooks/data_table.ipynb>data table notebook</a>'\n",
              "          + ' to learn more about interactive tables.';\n",
              "        element.innerHTML = '';\n",
              "        dataTable['output_type'] = 'display_data';\n",
              "        await google.colab.output.renderOutput(dataTable, element);\n",
              "        const docLink = document.createElement('div');\n",
              "        docLink.innerHTML = docLinkHtml;\n",
              "        element.appendChild(docLink);\n",
              "      }\n",
              "    </script>\n",
              "  </div>\n",
              "\n",
              "\n",
              "<div id=\"df-29f38416-90c4-419c-86d9-620ca7096273\">\n",
              "  <button class=\"colab-df-quickchart\" onclick=\"quickchart('df-29f38416-90c4-419c-86d9-620ca7096273')\"\n",
              "            title=\"Suggest charts\"\n",
              "            style=\"display:none;\">\n",
              "\n",
              "<svg xmlns=\"http://www.w3.org/2000/svg\" height=\"24px\"viewBox=\"0 0 24 24\"\n",
              "     width=\"24px\">\n",
              "    <g>\n",
              "        <path d=\"M19 3H5c-1.1 0-2 .9-2 2v14c0 1.1.9 2 2 2h14c1.1 0 2-.9 2-2V5c0-1.1-.9-2-2-2zM9 17H7v-7h2v7zm4 0h-2V7h2v10zm4 0h-2v-4h2v4z\"/>\n",
              "    </g>\n",
              "</svg>\n",
              "  </button>\n",
              "\n",
              "<style>\n",
              "  .colab-df-quickchart {\n",
              "      --bg-color: #E8F0FE;\n",
              "      --fill-color: #1967D2;\n",
              "      --hover-bg-color: #E2EBFA;\n",
              "      --hover-fill-color: #174EA6;\n",
              "      --disabled-fill-color: #AAA;\n",
              "      --disabled-bg-color: #DDD;\n",
              "  }\n",
              "\n",
              "  [theme=dark] .colab-df-quickchart {\n",
              "      --bg-color: #3B4455;\n",
              "      --fill-color: #D2E3FC;\n",
              "      --hover-bg-color: #434B5C;\n",
              "      --hover-fill-color: #FFFFFF;\n",
              "      --disabled-bg-color: #3B4455;\n",
              "      --disabled-fill-color: #666;\n",
              "  }\n",
              "\n",
              "  .colab-df-quickchart {\n",
              "    background-color: var(--bg-color);\n",
              "    border: none;\n",
              "    border-radius: 50%;\n",
              "    cursor: pointer;\n",
              "    display: none;\n",
              "    fill: var(--fill-color);\n",
              "    height: 32px;\n",
              "    padding: 0;\n",
              "    width: 32px;\n",
              "  }\n",
              "\n",
              "  .colab-df-quickchart:hover {\n",
              "    background-color: var(--hover-bg-color);\n",
              "    box-shadow: 0 1px 2px rgba(60, 64, 67, 0.3), 0 1px 3px 1px rgba(60, 64, 67, 0.15);\n",
              "    fill: var(--button-hover-fill-color);\n",
              "  }\n",
              "\n",
              "  .colab-df-quickchart-complete:disabled,\n",
              "  .colab-df-quickchart-complete:disabled:hover {\n",
              "    background-color: var(--disabled-bg-color);\n",
              "    fill: var(--disabled-fill-color);\n",
              "    box-shadow: none;\n",
              "  }\n",
              "\n",
              "  .colab-df-spinner {\n",
              "    border: 2px solid var(--fill-color);\n",
              "    border-color: transparent;\n",
              "    border-bottom-color: var(--fill-color);\n",
              "    animation:\n",
              "      spin 1s steps(1) infinite;\n",
              "  }\n",
              "\n",
              "  @keyframes spin {\n",
              "    0% {\n",
              "      border-color: transparent;\n",
              "      border-bottom-color: var(--fill-color);\n",
              "      border-left-color: var(--fill-color);\n",
              "    }\n",
              "    20% {\n",
              "      border-color: transparent;\n",
              "      border-left-color: var(--fill-color);\n",
              "      border-top-color: var(--fill-color);\n",
              "    }\n",
              "    30% {\n",
              "      border-color: transparent;\n",
              "      border-left-color: var(--fill-color);\n",
              "      border-top-color: var(--fill-color);\n",
              "      border-right-color: var(--fill-color);\n",
              "    }\n",
              "    40% {\n",
              "      border-color: transparent;\n",
              "      border-right-color: var(--fill-color);\n",
              "      border-top-color: var(--fill-color);\n",
              "    }\n",
              "    60% {\n",
              "      border-color: transparent;\n",
              "      border-right-color: var(--fill-color);\n",
              "    }\n",
              "    80% {\n",
              "      border-color: transparent;\n",
              "      border-right-color: var(--fill-color);\n",
              "      border-bottom-color: var(--fill-color);\n",
              "    }\n",
              "    90% {\n",
              "      border-color: transparent;\n",
              "      border-bottom-color: var(--fill-color);\n",
              "    }\n",
              "  }\n",
              "</style>\n",
              "\n",
              "  <script>\n",
              "    async function quickchart(key) {\n",
              "      const quickchartButtonEl =\n",
              "        document.querySelector('#' + key + ' button');\n",
              "      quickchartButtonEl.disabled = true;  // To prevent multiple clicks.\n",
              "      quickchartButtonEl.classList.add('colab-df-spinner');\n",
              "      try {\n",
              "        const charts = await google.colab.kernel.invokeFunction(\n",
              "            'suggestCharts', [key], {});\n",
              "      } catch (error) {\n",
              "        console.error('Error during call to suggestCharts:', error);\n",
              "      }\n",
              "      quickchartButtonEl.classList.remove('colab-df-spinner');\n",
              "      quickchartButtonEl.classList.add('colab-df-quickchart-complete');\n",
              "    }\n",
              "    (() => {\n",
              "      let quickchartButtonEl =\n",
              "        document.querySelector('#df-29f38416-90c4-419c-86d9-620ca7096273 button');\n",
              "      quickchartButtonEl.style.display =\n",
              "        google.colab.kernel.accessAllowed ? 'block' : 'none';\n",
              "    })();\n",
              "  </script>\n",
              "</div>\n",
              "    </div>\n",
              "  </div>\n"
            ],
            "application/vnd.google.colaboratory.intrinsic+json": {
              "type": "dataframe",
              "variable_name": "df",
              "summary": "{\n  \"name\": \"df\",\n  \"rows\": 643,\n  \"fields\": [\n    {\n      \"column\": \"adcreatives_body\",\n      \"properties\": {\n        \"dtype\": \"category\",\n        \"num_unique_values\": 269,\n        \"samples\": [\n          \"\\ud83e\\udd70 La Casbah \\u00e8 pronta ad accogliervi con tanti buoni piatti\\n\\n\\ud83c\\udf0d Le nostre creazioni culinarie con origine arabo-marocchine per voi\\n\\n\\ud83c\\udf7d Vi stupiremo grazie alla cucina dei nostri bravissimi chef\\n\\n\\ud83d\\udcde Chiama ora e prenota al  0184 509333\",\n          \"Sfama la tua fame di sapori autentici senza uscire di casa! \\ud83c\\udf5d\\ud83c\\udfe0 AiGoT SRL porta sulla tua tavola il sapore genuino della tradizione culinaria direttamente dal cuore di Pisa. Assapora i nostri Spaghetti con vongole, un primo di mare che parla la lingua del nostro litorale, o lasciati tentare dalla croccantezza unica del nostro Baccal\\u00e0 fritto in crosta di pane.\\n\\nOgni piatto \\u00e8 un viaggio nei sapori della Toscana, e ora puoi intraprenderlo dal comfort del tuo divano. Non aspettare oltre, chiamaci al 050 098 8606 e concediti un pranzo o una cena che profuma di mare e di terra, senza rinunciare a comodit\\u00e0 e qualit\\u00e0.\\n\\nImmergiti nell'esperienza dei Sette Boschi senza muoverti da casa. E per chiudere con dolcezza, non dimenticare di aggiungere alla tua scelta uno dei nostri amati dolci fatti in casa come il Tiramis\\u00f9 che sa di tradizione e amore.\\n\\nVisita il nostro sito ristorantesetteboschi.com per scoprire tutto il menu e scegliere il tuo prossimo piacere culinario. AiGoT SRL, sapori toscani a domicilio che riscaldano il cuore.\",\n          \"Dolci fatti con amore! Tanti prodotti di pasticceria ti aspettano per una gustosa colazione, un momento di relax o per festeggiare insieme un evento speciale. Disponibile soluzioni per vegani.\"\n        ],\n        \"semantic_type\": \"\",\n        \"description\": \"\"\n      }\n    }\n  ]\n}"
            }
          },
          "metadata": {},
          "execution_count": 11
        }
      ]
    }
  ],
  "metadata": {
    "kernelspec": {
      "display_name": "Python 3",
      "language": "python",
      "name": "python3"
    },
    "language_info": {
      "codemirror_mode": {
        "name": "ipython",
        "version": 3
      },
      "file_extension": ".py",
      "mimetype": "text/x-python",
      "name": "python",
      "nbconvert_exporter": "python",
      "pygments_lexer": "ipython3",
      "version": "3.9.13"
    },
    "colab": {
      "provenance": []
    }
  },
  "nbformat": 4,
  "nbformat_minor": 0
}